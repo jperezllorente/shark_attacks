{
 "cells": [
  {
   "cell_type": "markdown",
   "metadata": {},
   "source": [
    "### Pattern replacement using REGEX"
   ]
  },
  {
   "cell_type": "markdown",
   "metadata": {},
   "source": [
    "This notebook has been created with the sole purpose of correcting the spelling mistakes that can be found in the attacks dataframe. The reason to create  this additional notebook is mainly practical, as there a lot of pattern to replace, and I have not been able to find of way of optimazing the process"
   ]
  },
  {
   "cell_type": "code",
   "execution_count": 1,
   "metadata": {},
   "outputs": [],
   "source": [
    "import pandas as pd\n",
    "import re\n",
    "import collections\n",
    "pd.set_option('display.max_rows',6000)\n",
    "from datetime import datetime"
   ]
  },
  {
   "cell_type": "code",
   "execution_count": 2,
   "metadata": {},
   "outputs": [],
   "source": [
    "def counts(column):\n",
    "    '''\n",
    "    This function returns the value_counts() result of a column as a dictionary sorted by key in ascending order.\n",
    "    Easier to examine.\n",
    "    Args: the column of interest in the format of df.column or df[\"columnd\"]\n",
    "    '''\n",
    "    s = (column.value_counts())\n",
    "    dictionary =  s.to_dict()\n",
    "    return collections.OrderedDict(sorted(dictionary.items()))"
   ]
  },
  {
   "cell_type": "code",
   "execution_count": 2,
   "metadata": {},
   "outputs": [],
   "source": [
    "data = pd.read_excel(\"data\\global_shark_attacks.xlsx\")"
   ]
  },
  {
   "cell_type": "code",
   "execution_count": 3,
   "metadata": {},
   "outputs": [
    {
     "data": {
      "text/plain": [
       "Case Number                  2\n",
       "Date                       303\n",
       "Year                       134\n",
       "Type                        22\n",
       "Country                     53\n",
       "Area                       481\n",
       "Location                   563\n",
       "Activity                   587\n",
       "Name                       222\n",
       "Sex                        573\n",
       "Age                       2977\n",
       "Injury                      37\n",
       "Fatal (Y/N)                  0\n",
       "Time                      3503\n",
       "Species                   3082\n",
       "Investigator or Source      23\n",
       "dtype: int64"
      ]
     },
     "execution_count": 3,
     "metadata": {},
     "output_type": "execute_result"
    }
   ],
   "source": [
    "# for categorical values I set Unknown and for date the next value\n",
    "data.isnull().sum()"
   ]
  },
  {
   "cell_type": "code",
   "execution_count": 411,
   "metadata": {},
   "outputs": [],
   "source": [
    "data_clean = data_clean.rename(columns={'Species ':'Species'})"
   ]
  },
  {
   "cell_type": "code",
   "execution_count": 4,
   "metadata": {},
   "outputs": [],
   "source": [
    "data[[\"Case Number\",\"Type\", \"Country\", \"Area\", \"Activity\", \"Injury\"\n",
    "            ,\"Sex \", \"Fatal (Y/N)\", \"Species \", \"Location\", \"Age\", \"Time\"]] = data[[\"Case Number\",\"Type\", \"Country\", \"Area\", \"Activity\", \"Injury\"\n",
    "                         ,\"Sex \", \"Fatal (Y/N)\",\"Species \",\"Location\", \"Age\", \"Time\"]].fillna(\"Unknown\") "
   ]
  },
  {
   "cell_type": "code",
   "execution_count": 5,
   "metadata": {},
   "outputs": [],
   "source": [
    "data['Date'] = data[[\"Date\"]].fillna(method = 'ffill')"
   ]
  },
  {
   "cell_type": "code",
   "execution_count": 281,
   "metadata": {},
   "outputs": [],
   "source": [
    "def clean_Date(row):\n",
    "    if isinstance(row['Date'],str):\n",
    "        return 'Unknown'\n",
    "    else:\n",
    "        return row['Date']"
   ]
  },
  {
   "cell_type": "code",
   "execution_count": 7,
   "metadata": {},
   "outputs": [],
   "source": [
    "data['filter'] = data.apply(lambda row: clean_Date(row),axis=1)"
   ]
  },
  {
   "cell_type": "code",
   "execution_count": 196,
   "metadata": {},
   "outputs": [],
   "source": [
    "data_clean = data[data['filter']!='Unknown']"
   ]
  },
  {
   "cell_type": "code",
   "execution_count": 197,
   "metadata": {},
   "outputs": [
    {
     "name": "stderr",
     "output_type": "stream",
     "text": [
      "C:\\Users\\juanp\\AppData\\Local\\Temp\\ipykernel_4112\\3597151183.py:1: SettingWithCopyWarning: \n",
      "A value is trying to be set on a copy of a slice from a DataFrame.\n",
      "Try using .loc[row_indexer,col_indexer] = value instead\n",
      "\n",
      "See the caveats in the documentation: https://pandas.pydata.org/pandas-docs/stable/user_guide/indexing.html#returning-a-view-versus-a-copy\n",
      "  data_clean['Date'] = pd.to_datetime(data_clean['Date'])\n"
     ]
    }
   ],
   "source": [
    "data_clean['Date'] = pd.to_datetime(data_clean['Date'])"
   ]
  },
  {
   "cell_type": "code",
   "execution_count": 198,
   "metadata": {},
   "outputs": [],
   "source": [
    "data_clean = data_clean.drop(columns = {'Case Number', 'Year','Name','Investigator or Source'})"
   ]
  },
  {
   "cell_type": "code",
   "execution_count": 199,
   "metadata": {},
   "outputs": [],
   "source": [
    "data_clean['Date'] = pd.to_datetime(data_clean.Date)"
   ]
  },
  {
   "cell_type": "markdown",
   "metadata": {},
   "source": [
    "### Country"
   ]
  },
  {
   "cell_type": "code",
   "execution_count": 200,
   "metadata": {},
   "outputs": [],
   "source": [
    "data_clean.Country = data_clean.Country.replace(to_replace = \"CEYLON\" , value = \"SRI LANKA\" ) "
   ]
  },
  {
   "cell_type": "code",
   "execution_count": 201,
   "metadata": {},
   "outputs": [],
   "source": [
    "data_clean.Country = data_clean.Country.replace(to_replace = r\"\\?$\", value = \"\", regex = True)"
   ]
  },
  {
   "cell_type": "code",
   "execution_count": 202,
   "metadata": {},
   "outputs": [],
   "source": [
    "data_clean.Country = data_clean.Country.replace(to_replace = 'MAARTIN', value = 'MARTIN', regex = True)"
   ]
  },
  {
   "cell_type": "code",
   "execution_count": 203,
   "metadata": {},
   "outputs": [],
   "source": [
    "data_clean.Country = data_clean.Country.replace(to_replace = r'(\\w* \\/ .*)', value = 'UNKNOWN', regex = True)"
   ]
  },
  {
   "cell_type": "code",
   "execution_count": 204,
   "metadata": {},
   "outputs": [],
   "source": [
    "data_clean.Country = data_clean.Country.replace(to_replace = 'RED UNKNOWN', value = 'UNKNOWN', regex = True)"
   ]
  },
  {
   "cell_type": "code",
   "execution_count": 205,
   "metadata": {},
   "outputs": [],
   "source": [
    "data_clean.Country = data_clean.Country.replace(to_replace = 'SOLOMON UNKNOWN', value = 'SOLOMON ISLANDS', regex = True)"
   ]
  },
  {
   "cell_type": "code",
   "execution_count": 206,
   "metadata": {},
   "outputs": [],
   "source": [
    "data_clean.Country = data_clean.Country.replace(to_replace = ' CEYLON (SRI LANKA)', value = 'SRI LANKA')"
   ]
  },
  {
   "cell_type": "code",
   "execution_count": 207,
   "metadata": {},
   "outputs": [],
   "source": [
    "data_clean.Country = data_clean.Country.replace(to_replace = 'NEW GUINEA', value = 'PAPUA NEW GUINEA')"
   ]
  },
  {
   "cell_type": "code",
   "execution_count": 208,
   "metadata": {},
   "outputs": [],
   "source": [
    "data_clean.Country = data_clean.Country.replace(to_replace = 'COLUMBIA', value = 'COLOMBIA')"
   ]
  },
  {
   "cell_type": "code",
   "execution_count": 209,
   "metadata": {},
   "outputs": [],
   "source": [
    "data_clean.Country = data_clean.Country.replace(to_replace = {'ST HELENA, British overseas territory':'ST HELENA' \n",
    "                                                              , 'British Overseas Territory':'Unknown'}, regex=True)"
   ]
  },
  {
   "cell_type": "code",
   "execution_count": 210,
   "metadata": {},
   "outputs": [],
   "source": [
    "data_clean.Country = data_clean.Country.replace(to_replace = 'JA MAICA', value='JAMAICA')"
   ]
  },
  {
   "cell_type": "code",
   "execution_count": 211,
   "metadata": {},
   "outputs": [],
   "source": [
    "data_clean.Country = data_clean.Country.replace({' ISLANDS':'',' Island':''}, regex=True)"
   ]
  },
  {
   "cell_type": "code",
   "execution_count": 212,
   "metadata": {},
   "outputs": [],
   "source": [
    "data_clean.Country = data_clean.Country.replace(to_replace = 'MALDIVE', value='MALDIVES')"
   ]
  },
  {
   "cell_type": "code",
   "execution_count": 213,
   "metadata": {},
   "outputs": [],
   "source": [
    "data_clean.Country = data_clean.Country.replace(to_replace = 'UNITED ARAB EMIRATES (UAE)', value='UNITED ARAB EMIRATES')"
   ]
  },
  {
   "cell_type": "markdown",
   "metadata": {},
   "source": [
    "### Second round of modifications to have the proper format for visualzation"
   ]
  },
  {
   "cell_type": "code",
   "execution_count": 214,
   "metadata": {},
   "outputs": [],
   "source": [
    "data_clean.Country = data_clean.Country.apply(lambda x: x.title().strip() if x != 'USA' else x)"
   ]
  },
  {
   "cell_type": "code",
   "execution_count": 215,
   "metadata": {},
   "outputs": [],
   "source": [
    "data_clean.Country = data_clean.Country.replace(to_replace = 'Okinawa', value = 'Japan')"
   ]
  },
  {
   "cell_type": "code",
   "execution_count": 216,
   "metadata": {},
   "outputs": [],
   "source": [
    "data_clean.Country = data_clean.Country.replace(to_replace = 'New Britain', value = 'USA') "
   ]
  },
  {
   "cell_type": "code",
   "execution_count": 217,
   "metadata": {},
   "outputs": [],
   "source": [
    "data_clean.Country = data_clean.Country.replace(to_replace = 'Azores', value = 'Portugal')"
   ]
  },
  {
   "cell_type": "code",
   "execution_count": 218,
   "metadata": {},
   "outputs": [],
   "source": [
    "data_clean.Country = data_clean.Country.replace(to_replace = 'Burma', value = 'Myanmar')"
   ]
  },
  {
   "cell_type": "code",
   "execution_count": 219,
   "metadata": {},
   "outputs": [],
   "source": [
    "data_clean.Country = data_clean.Country.replace(to_replace = 'Western Samoa', value = 'Samoa')"
   ]
  },
  {
   "cell_type": "markdown",
   "metadata": {},
   "source": [
    "### Time"
   ]
  },
  {
   "cell_type": "code",
   "execution_count": 246,
   "metadata": {},
   "outputs": [],
   "source": [
    "data_clean.Time = data_clean.Time.replace(to_replace = ['j','h'],value=':', regex=True)"
   ]
  },
  {
   "cell_type": "code",
   "execution_count": 223,
   "metadata": {},
   "outputs": [],
   "source": [
    "data_clean.Time = data_clean.Time.replace({'Early ':'','Late ':'','early ':'','late ':'',\n",
    "                                          'Before ':'','Prior to ':'', 'After ':'',\n",
    "                                          'Just after ':''},regex=True)"
   ]
  },
  {
   "cell_type": "code",
   "execution_count": 224,
   "metadata": {},
   "outputs": [],
   "source": [
    "data_clean.Time = data_clean.Time.replace(to_replace = r'(s\\--\\s\\w{2}\\w\\w{2})', value ='UNKNOWN',regex=True)"
   ]
  },
  {
   "cell_type": "code",
   "execution_count": 145,
   "metadata": {},
   "outputs": [],
   "source": [
    "data_clean.Time = data_clean.Time.replace(to_replace = r'd{0,4}', value ='d{0,2}:d{0,2}', regex=True)"
   ]
  },
  {
   "cell_type": "code",
   "execution_count": 225,
   "metadata": {},
   "outputs": [],
   "source": [
    "data_clean.Time = data_clean.Time.replace(to_replace = 'Afternoon', value ='18h30',regex=True)"
   ]
  },
  {
   "cell_type": "code",
   "execution_count": 226,
   "metadata": {},
   "outputs": [],
   "source": [
    "data_clean.Time = data_clean.Time.replace(to_replace = 'Dusk', value ='07h30',regex=True) "
   ]
  },
  {
   "cell_type": "code",
   "execution_count": 227,
   "metadata": {},
   "outputs": [],
   "source": [
    "data_clean.Time = data_clean.Time.replace(to_replace = 'Late afternoon', value ='20h00',regex=True)"
   ]
  },
  {
   "cell_type": "code",
   "execution_count": 228,
   "metadata": {},
   "outputs": [],
   "source": [
    "data_clean.Time = data_clean.Time.replace(to_replace = 'Evening', value ='20h00')"
   ]
  },
  {
   "cell_type": "code",
   "execution_count": 229,
   "metadata": {},
   "outputs": [],
   "source": [
    "data_clean.Time = data_clean.Time.replace(to_replace = 'Late afternoon', value ='19h30')"
   ]
  },
  {
   "cell_type": "code",
   "execution_count": 230,
   "metadata": {},
   "outputs": [],
   "source": [
    "data_clean.Time = data_clean.Time.replace(to_replace = 'Midday', value ='12h00')"
   ]
  },
  {
   "cell_type": "code",
   "execution_count": 231,
   "metadata": {},
   "outputs": [],
   "source": [
    "data_clean.Time = data_clean.Time.replace(to_replace = 'Midnight', value ='00h00')"
   ]
  },
  {
   "cell_type": "code",
   "execution_count": 232,
   "metadata": {},
   "outputs": [],
   "source": [
    "data_clean.Time = data_clean.Time.replace(to_replace = 'Morning', value ='08h30', regex=True)"
   ]
  },
  {
   "cell_type": "code",
   "execution_count": 233,
   "metadata": {},
   "outputs": [],
   "source": [
    "data_clean.Time = data_clean.Time.replace(to_replace = 'Night', value ='21h30')"
   ]
  },
  {
   "cell_type": "code",
   "execution_count": 234,
   "metadata": {},
   "outputs": [],
   "source": [
    "data_clean.Time = data_clean.Time.replace(to_replace = r'(\\/\\w*)', value ='', regex = True )"
   ]
  },
  {
   "cell_type": "code",
   "execution_count": 235,
   "metadata": {},
   "outputs": [],
   "source": [
    "data_clean.Time = data_clean.Time.replace(to_replace = '13h345', value ='13h45')"
   ]
  },
  {
   "cell_type": "code",
   "execution_count": 236,
   "metadata": {},
   "outputs": [],
   "source": [
    "data_clean.Time = data_clean.Time.replace(to_replace = '15h00j', value ='15h00')"
   ]
  },
  {
   "cell_type": "code",
   "execution_count": 237,
   "metadata": {},
   "outputs": [],
   "source": [
    "data_clean.Time = data_clean.Time.replace(to_replace = '0830', value ='08h30')"
   ]
  },
  {
   "cell_type": "code",
   "execution_count": 238,
   "metadata": {},
   "outputs": [],
   "source": [
    "data_clean.Time = data_clean.Time.replace(to_replace = '11h115', value ='11h15')"
   ]
  },
  {
   "cell_type": "code",
   "execution_count": 239,
   "metadata": {},
   "outputs": [],
   "source": [
    "data_clean.Time = data_clean.Time.replace(to_replace = '06j00', value ='06h00')"
   ]
  },
  {
   "cell_type": "code",
   "execution_count": 240,
   "metadata": {},
   "outputs": [],
   "source": [
    "data_clean.Time = data_clean.Time.replace(to_replace = r'(\\<*)', value ='', regex = True )"
   ]
  },
  {
   "cell_type": "code",
   "execution_count": 241,
   "metadata": {},
   "outputs": [],
   "source": [
    "data_clean.Time = data.Time.replace(to_replace = r'(\\>*)', value ='', regex = True )"
   ]
  },
  {
   "cell_type": "code",
   "execution_count": 242,
   "metadata": {},
   "outputs": [],
   "source": [
    "data_clean.Time = data_clean.Time.replace(to_replace = 'fall', value ='', regex = True )"
   ]
  },
  {
   "cell_type": "code",
   "execution_count": 296,
   "metadata": {},
   "outputs": [],
   "source": [
    "data_clean.Time = data_clean.Time.replace(to_replace = 'nig:t', value ='Unknown')"
   ]
  },
  {
   "cell_type": "code",
   "execution_count": 287,
   "metadata": {},
   "outputs": [],
   "source": [
    "def clean_time(row):\n",
    "    if isinstance(row['Time'],str) and len(row['Time']) == 5:\n",
    "        return row['Time']\n",
    "    else:\n",
    "        return 'Unknown'"
   ]
  },
  {
   "cell_type": "code",
   "execution_count": 330,
   "metadata": {},
   "outputs": [],
   "source": [
    "data_clean['Time'] = data_clean.apply(lambda row: clean_time(row),axis=1)"
   ]
  },
  {
   "cell_type": "markdown",
   "metadata": {},
   "source": [
    "### Activity "
   ]
  },
  {
   "cell_type": "code",
   "execution_count": 393,
   "metadata": {},
   "outputs": [],
   "source": [
    "def define_activity(row):\n",
    "    if \"scuba\" in row['Activity'].lower():\n",
    "        return \"scuba diving\"\n",
    "    elif \"helmet\" in row['Activity'].lower() or \"hardhat\" in row['Activity'].lower():\n",
    "        return \"hardhat diving\"\n",
    "    elif \"swimming\" in row['Activity'].lower():\n",
    "        return \"swimming\"\n",
    "    elif \"bath\" in row['Activity'].lower() or \"standing\" in row['Activity'].lower() or \"floating\" in row['Activity'].lower() or \"splash\" in row['Activity'].lower() or \"play\" in row['Activity'].lower():\n",
    "        return \"bathing\"\n",
    "    elif \"snorkel\" in row['Activity'].lower():\n",
    "        return \"snorkelling\"\n",
    "    elif \"kite\" in row['Activity'].lower(): \n",
    "        return \"kite surfing\"\n",
    "    elif \"boogie\" in row['Activity'].lower():\n",
    "        return \"boogie boarding\"\n",
    "    elif \"dive\" in row['Activity'].lower() or \"diving\" in row['Activity'].lower():\n",
    "        return \"diving\"\n",
    "    elif \"fishing\" in row['Activity'].lower() or \"hunting\" in row['Activity'].lower() or \"Killing\" in row['Activity'].lower() or \"collecting\" in row['Activity'].lower() or \"crabbing\" in row['Activity'].lower():\n",
    "        return \"fishing\"\n",
    "    elif \"paddle\" in row['Activity'].lower():\n",
    "        return \"paddle surfing\"\n",
    "    elif \"kayak\" in row['Activity'].lower() or \"canoe\" in row['Activity'].lower():\n",
    "        return \"kayaking/canoeing\"\n",
    "    elif \"surf\" in row['Activity'].lower():\n",
    "        return \"surfing\"\n",
    "    elif \"cage\" in row['Activity'].lower():\n",
    "        return \"cage diving\"\n",
    "    elif \"diving\" in row['Activity'].lower() or \"dived\" in row['Activity'].lower() or \"dive\" in row['Activity'].lower():\n",
    "        return \"diving\"\n",
    "    elif \"film\" in row['Activity'].lower():\n",
    "        return \"filming\"\n",
    "    elif \"capsize\" in row['Activity'].lower() or \"disaster\" in row['Activity'].lower() or \"adrift\" in row['Activity'].lower() or \"wreck\" in row['Activity'].lower() or \"fell\" in row['Activity'].lower():\n",
    "        return \"sea accident\"\n",
    "    elif \"air\" in row['Activity'].lower():\n",
    "        return \"airplane accident\"\n",
    "    elif \"body board\" in row['Activity'].lower() or \"bodyboarding\" in row['Activity'].lower():\n",
    "        return \"body boarding\"\n",
    "    elif \"feed\" in row['Activity'].lower():\n",
    "        return \"feeding\"\n",
    "    else: \n",
    "        return \"other\""
   ]
  },
  {
   "cell_type": "code",
   "execution_count": 398,
   "metadata": {},
   "outputs": [],
   "source": [
    "data_clean['activity'] = data_clean.apply(lambda row: define_activity(row), axis=1)"
   ]
  },
  {
   "cell_type": "markdown",
   "metadata": {},
   "source": [
    "### Sex"
   ]
  },
  {
   "cell_type": "code",
   "execution_count": 321,
   "metadata": {},
   "outputs": [],
   "source": [
    "data_clean.rename(columns={\"Sex \":\"Sex\"}, inplace=True)"
   ]
  },
  {
   "cell_type": "code",
   "execution_count": 322,
   "metadata": {},
   "outputs": [],
   "source": [
    "data_clean.Sex = data_clean.Sex.str.rstrip()"
   ]
  },
  {
   "cell_type": "code",
   "execution_count": 327,
   "metadata": {},
   "outputs": [],
   "source": [
    "data_clean.Sex= data_clean.Sex.replace(to_replace = ['N','M x 2'], value ='M')"
   ]
  },
  {
   "cell_type": "code",
   "execution_count": 324,
   "metadata": {},
   "outputs": [],
   "source": [
    "data_clean.Sex= data_clean.Sex.replace(to_replace = 'lli', value ='Unknown')"
   ]
  },
  {
   "cell_type": "code",
   "execution_count": 325,
   "metadata": {},
   "outputs": [],
   "source": [
    "data_clean.Sex= data_clean.Sex.replace(to_replace = '.', value ='Unknown')"
   ]
  },
  {
   "cell_type": "code",
   "execution_count": 328,
   "metadata": {},
   "outputs": [
    {
     "data": {
      "text/plain": [
       "['M', 'F', 'Unknown']"
      ]
     },
     "execution_count": 328,
     "metadata": {},
     "output_type": "execute_result"
    }
   ],
   "source": [
    "list(data_clean.Sex.unique())"
   ]
  },
  {
   "cell_type": "markdown",
   "metadata": {},
   "source": [
    "### Fatal"
   ]
  },
  {
   "cell_type": "code",
   "execution_count": 300,
   "metadata": {},
   "outputs": [],
   "source": [
    "data_clean.rename(columns={\"Fatal (Y/N)\":\"Fatal\"},inplace=True)"
   ]
  },
  {
   "cell_type": "code",
   "execution_count": 314,
   "metadata": {},
   "outputs": [],
   "source": [
    "data_clean.Fatal = data_clean.Fatal.replace(to_replace = ['M','n', 'Nq'], value = 'N' )"
   ]
  },
  {
   "cell_type": "code",
   "execution_count": 315,
   "metadata": {},
   "outputs": [],
   "source": [
    "data_clean.Fatal = data_clean.Fatal.replace(to_replace = ['y','Y x 2','F'], value = 'Y' )"
   ]
  },
  {
   "cell_type": "code",
   "execution_count": 308,
   "metadata": {},
   "outputs": [],
   "source": [
    "data_clean.Fatal = data_clean.Fatal.replace(to_replace = ['2017','2017.0'], value = 'Unknown' )"
   ]
  },
  {
   "cell_type": "code",
   "execution_count": 305,
   "metadata": {},
   "outputs": [],
   "source": [
    "data_clean.Fatal = data_clean.Fatal.replace(to_replace = 'UNKNOWN', value = 'Unknown' )"
   ]
  },
  {
   "cell_type": "code",
   "execution_count": 316,
   "metadata": {},
   "outputs": [
    {
     "data": {
      "text/plain": [
       "['N', 'Y', 'Unknown']"
      ]
     },
     "execution_count": 316,
     "metadata": {},
     "output_type": "execute_result"
    }
   ],
   "source": [
    "list(data_clean.Fatal.unique())"
   ]
  },
  {
   "cell_type": "markdown",
   "metadata": {},
   "source": [
    "### Species"
   ]
  },
  {
   "cell_type": "code",
   "execution_count": 432,
   "metadata": {},
   "outputs": [
    {
     "data": {
      "text/plain": [
       "['',\n",
       " '  ',\n",
       " '      shark',\n",
       " '     blacktip shark',\n",
       " '     shark',\n",
       " '     white shark',\n",
       " '    Caribbean reef shark',\n",
       " '    Zambesi shark',\n",
       " '    black finned shark',\n",
       " '    bull shark',\n",
       " '    bull, sandbar or dusky shark',\n",
       " '    grey colored shark',\n",
       " '    hammerhead shark',\n",
       " '    reef shark',\n",
       " '    sandbar shark',\n",
       " '    shark',\n",
       " '    shark observed in area',\n",
       " '    shark seen in the vicinity',\n",
       " '    shark, oth fragments recovered',\n",
       " '    shark, possibly bull shark',\n",
       " '    shark, possibly mako shark',\n",
       " '    shark; Tooth fragment recovered frohand',\n",
       " '    sharks',\n",
       " '    sharks, most were oceanic whitetip sharks',\n",
       " '    sixgill or sevengill shark',\n",
       " '    spinner or blacktip shark',\n",
       " '    white shark',\n",
       " '    â€œspear',\n",
       " '   bull shark',\n",
       " '   bull shark or Caribbean reef shark',\n",
       " '   shark',\n",
       " '   sharks attacked survivors in the water',\n",
       " '   tiger shark & shark',\n",
       " '   white shark',\n",
       " '   Â\\xa0 Caribbean Reef Shark',\n",
       " '  . shark',\n",
       " '  .white shark',\n",
       " '  Caribbean reef shark',\n",
       " '  Caribbean reef shark (Carcharhinus  perezi)',\n",
       " '  Zambesi shark',\n",
       " '  Zambezi shark',\n",
       " '  blacktip or sandbar shark',\n",
       " '  blacktip shark',\n",
       " '  blacktip shark or Caribbean reef shark',\n",
       " '  blacktip shark or spinner shark',\n",
       " '  blue shark',\n",
       " '  blue whaler',\n",
       " '  bull or lemon shark',\n",
       " '  bull shark',\n",
       " '  bull shark, identified by Capt. W. Gray',\n",
       " '  carpet shark',\n",
       " '  cocktail shark',\n",
       " '  copper shark',\n",
       " '  dogfish',\n",
       " '  dusky shark',\n",
       " '  female white shark named Notchfin',\n",
       " '  gaffed shark',\n",
       " '  grey',\n",
       " '  grey reef shark',\n",
       " '  hammerhead shark',\n",
       " '  hooked & shot white shark',\n",
       " '  lemon shark or bull shark',\n",
       " '  porbeagle shark',\n",
       " '  sand shark',\n",
       " '  sandtiger shark',\n",
       " '  sevengill  shark',\n",
       " '  shark',\n",
       " '  shark & may have been another shark nearby',\n",
       " '  shark (spinner shark?)',\n",
       " '  shark captured',\n",
       " '  shark landed  hours later',\n",
       " '  shark later captured by Mitchell',\n",
       " '  shark seen in areprevious week',\n",
       " '  shark seen in vicinity',\n",
       " '  shark with black',\n",
       " '  shark with very flat headâ€\\x9d that had followed the boat for  days',\n",
       " '  shark x ',\n",
       " '  shark, ',\n",
       " '  shark,  probably blacktip or spinner shark',\n",
       " '  shark, either bronze whaler or grey nurse shark',\n",
       " '  shark, possibly blacktip',\n",
       " '  shark, possibly dusky shark',\n",
       " '  shark, possibly spinner shark',\n",
       " '  shark, probable bull shark',\n",
       " '  shark, species identity questionable',\n",
       " '  sharks',\n",
       " '  silky shark',\n",
       " '  spinner shark',\n",
       " '  tiger shark',\n",
       " '  tiger shark caught  hours later with shorts of the boy in its gut',\n",
       " '  whaler',\n",
       " '  whaler shark',\n",
       " '  whaler shark captured  days later with his remains in its gut',\n",
       " '  white shark',\n",
       " '  white shark  (or bronze whaler)',\n",
       " '  white shark (Tooth  recovered froboat)',\n",
       " '  white shark or sevengill shark',\n",
       " '  white shark, identification by K. Nakaya',\n",
       " '  white shark, identified by M. Smale',\n",
       " '  white shark, identified by witnesses & oth marks',\n",
       " '  white shark, species identity confirmed by oth fragment',\n",
       " '  white shark, species identity confirmed by witnesses & oth pattern in surfboard',\n",
       " '  yellow belly captive shark. Shark destroyed by aquariustaff next day',\n",
       " ' &  white shark',\n",
       " \" 'shark\",\n",
       " ' , ',\n",
       " ' , possibly  larger shark',\n",
       " ' .shark',\n",
       " ' blacktip reef shark',\n",
       " ' blacktip shark',\n",
       " ' bull shark',\n",
       " ' bull sharks',\n",
       " ' c  c bite diameter just below left knee',\n",
       " ' c  c blacktip or spinner shark',\n",
       " ' c  c shark',\n",
       " ' c blind or brown shark',\n",
       " ' c captive shark',\n",
       " ' c carpet shark',\n",
       " ' c shark',\n",
       " ' copper shark',\n",
       " ' cow shark',\n",
       " ' days later ',\n",
       " ' ft shark',\n",
       " ' grey',\n",
       " ' grey reef shark',\n",
       " ' grey shark',\n",
       " ' hammerhead',\n",
       " ' hammerhead or bonnethed shark',\n",
       " ' hammerhead shark',\n",
       " ' juvenile shark',\n",
       " ' m, ',\n",
       " ' reef shark',\n",
       " ' scalloped hammerhead sharks,  &  ',\n",
       " ' shark',\n",
       " \" shark's teeth found embedded in the woodwork of the boat\",\n",
       " ' shark, possibly bronze whaler',\n",
       " ' shark, possibly dusky or blacktip shark',\n",
       " ' shark, possibly tiger shark',\n",
       " ' shark, possibly whitetip reef shark',\n",
       " ' sharks',\n",
       " ' sharks involved',\n",
       " ' sharks,  &  m',\n",
       " ' silky shark',\n",
       " ' small bull sharks',\n",
       " ' spinner or bull shark',\n",
       " ' tiger shark',\n",
       " ' white',\n",
       " ' white shark',\n",
       " ' white shark, oth fragments recovered',\n",
       " ' white shark: & ',\n",
       " \"'\",\n",
       " \"', \",\n",
       " \"'shark\",\n",
       " '() brown shark',\n",
       " '*   dog shark',\n",
       " '+ shark',\n",
       " '+shark',\n",
       " ',',\n",
       " ', ',\n",
       " '.   shark',\n",
       " '.   white shark',\n",
       " '.  shark',\n",
       " '. .shark',\n",
       " '. shark',\n",
       " '.blue',\n",
       " '.hammerhead shark',\n",
       " '.shark',\n",
       " '.shark?',\n",
       " '< shark',\n",
       " '>   shark',\n",
       " '>  shark',\n",
       " '>  tiger shark',\n",
       " '>  white shark',\n",
       " '> shark',\n",
       " '> white shark, according  witnesses',\n",
       " 'According  Benjamin, the injury was inflicted by barracuda, not shark',\n",
       " \"According  Carlsmith, the shark's mouth was wide\",\n",
       " 'Alleged  involve White shark,  ',\n",
       " 'Alleged  involve white shark with little yellow eyes',\n",
       " 'Allegedly ',\n",
       " 'Allegedly  tiger shark',\n",
       " 'Angel shark',\n",
       " 'Angel shark, .m',\n",
       " 'Atkinsremains were recovered frodusky shark, C. obscurus, by Capt. W. F. Young, shark fisherman',\n",
       " 'Atlantic blacktip shark',\n",
       " 'Attacked by number of sharks',\n",
       " 'Basking shark',\n",
       " 'Believed  involve   white shark',\n",
       " 'Believed white shark and other smaller species of sharks involved.',\n",
       " 'Bitten by several   sharks',\n",
       " 'Blacktail reef shark',\n",
       " 'Blacktip Reef shark',\n",
       " 'Blacktip or Spinner shark',\n",
       " 'Blacktip or spinner shark',\n",
       " \"Blacktip or spinner shark, '\",\n",
       " 'Blacktip or spinner shark?',\n",
       " 'Blacktip reef shark',\n",
       " 'Blacktip reef shark pup',\n",
       " 'Blacktip reef shark,  ',\n",
       " 'Blacktip reef shark, juvenile',\n",
       " 'Blacktip reef shark, m',\n",
       " 'Blacktip shark',\n",
       " 'Blacktip shark pup',\n",
       " 'Blacktip shark,  ',\n",
       " 'Blacktip shark,    ',\n",
       " \"Blacktip shark,  '\",\n",
       " \"Blacktip shark, '\",\n",
       " 'Blacktip shark, C. maculipinnis.    ',\n",
       " 'Blacktip shark, juvenile',\n",
       " 'Blacktip shark, m',\n",
       " 'Blacktip shark?',\n",
       " 'Blacktip whaler,      Carcharhinus tilsni, m',\n",
       " 'Blue Shark',\n",
       " 'Blue nose shark',\n",
       " 'Blue nose sharks',\n",
       " 'Blue pointer',\n",
       " \"Blue pointer, '\",\n",
       " 'Blue shark',\n",
       " \"Blue shark '\",\n",
       " 'Blue shark, ',\n",
       " 'Blue shark,  ',\n",
       " 'Blue shark,    feet',\n",
       " \"Blue shark, '\",\n",
       " 'Blue shark, , ',\n",
       " 'Blue shark, .m',\n",
       " 'Blue shark, kg',\n",
       " 'Blue shark, m',\n",
       " 'Blue shark?',\n",
       " 'Blue sharks',\n",
       " 'Blue whaler (Galeolamna)',\n",
       " 'Bonitsharkk, ',\n",
       " 'Broadnose seven gill shark',\n",
       " 'Broadnose seven gill shark?',\n",
       " 'Broadnose sevengill shark',\n",
       " 'Broadnose sevengill shark, ',\n",
       " 'Bronze whaler',\n",
       " 'Bronze whaler .m',\n",
       " 'Bronze whaler or tiger shark',\n",
       " 'Bronze whaler shark',\n",
       " 'Bronze whaler shark, ',\n",
       " 'Bronze whaler shark,  ',\n",
       " 'Bronze whaler shark,    ',\n",
       " 'Bronze whaler shark,    k',\n",
       " 'Bronze whaler shark,    m',\n",
       " 'Bronze whaler shark,   Identified by Clyde Buttery',\n",
       " 'Bronze whaler shark,   identified by G.P. Whitley based on description',\n",
       " 'Bronze whaler shark,   shark',\n",
       " 'Bronze whaler shark,  , ',\n",
       " 'Bronze whaler shark,  , oth was embedded in the speargun',\n",
       " 'Bronze whaler shark,  juvenile',\n",
       " 'Bronze whaler shark,  m',\n",
       " \"Bronze whaler shark, '\",\n",
       " 'Bronze whaler shark, .m',\n",
       " 'Bronze whaler shark, m',\n",
       " 'Bronze whaler shark?',\n",
       " 'Bronze whaler sharks x ',\n",
       " 'Bronze whaler, m',\n",
       " 'Bull or tiger shark',\n",
       " 'Bull shark',\n",
       " 'Bull shark or lemon shark',\n",
       " 'Bull shark pup',\n",
       " 'Bull shark suspected due  freshwater habitat',\n",
       " 'Bull shark, ',\n",
       " 'Bull shark,  ',\n",
       " 'Bull shark,    ',\n",
       " 'Bull shark,   was captured & dragged on the sand where tissue taken froEggink was found in its gut. Species identification  was made by S. Springer based on  phographs of the shark.',\n",
       " \"Bull shark,  '\",\n",
       " 'Bull shark,  bull shark',\n",
       " 'Bull shark,  m',\n",
       " \"Bull shark, '\",\n",
       " 'Bull shark, +kg',\n",
       " 'Bull shark, .',\n",
       " 'Bull shark, .  was speared & killed',\n",
       " \"Bull shark, .'\",\n",
       " 'Bull shark, .m',\n",
       " 'Bull shark, cm',\n",
       " 'Bull shark, female',\n",
       " 'Bull shark, m',\n",
       " 'Bull shark, o ',\n",
       " \"Bull shark, o  '\",\n",
       " \"Bull shark. .'\",\n",
       " 'Bull shark?',\n",
       " 'Bull sharks     in length',\n",
       " 'Bull sharks x ',\n",
       " 'C. leucas oth fragment recovered frokayak',\n",
       " 'C. macrurus captured  hours after attack with tissue removed froman in its gut; species identified by G.P. Whitley,  reported as C. obscurus by  R. Steel',\n",
       " 'C. maculpinnis or C. limbatus',\n",
       " 'Caribbean reef shark',\n",
       " 'Caribbean reef shark,    ',\n",
       " \"Caribbean reef shark,  '\",\n",
       " \"Caribbean reef shark, '\",\n",
       " \"Caribbean reef shark, .'\",\n",
       " 'Caribbean reef sharks',\n",
       " 'Carpet shark',\n",
       " 'Carpet shark,  ',\n",
       " \"Carpet shark, '\",\n",
       " \"Comrades saw shark's tail appear about away\",\n",
       " 'Considered Doubtful incident',\n",
       " 'Cookiecutter shark',\n",
       " 'Copper shark',\n",
       " 'Copper shark, ',\n",
       " 'Cow shark',\n",
       " 'Dog shark',\n",
       " 'Dooley believed his Injury was caused by stingray (Dasyatidae family)',\n",
       " 'Doubtful / Unconfirmed attack / Unable  verify in local records',\n",
       " 'Dusky shark,   dusky shark C. obscurus identified by S. Springer on oth recovered',\n",
       " 'Dusky shark,  m',\n",
       " \"Dusky shark, '\",\n",
       " 'Dusky shark, m',\n",
       " 'Epaulette shark',\n",
       " 'Fishermen recovered partial remains froshark week later',\n",
       " 'Galapagos shark',\n",
       " \"Galapagos shark, '\",\n",
       " 'Galapagos shark?',\n",
       " 'Goblin shark',\n",
       " \"Goblin shark, .'\",\n",
       " 'Gray reef shark',\n",
       " 'Grey nurse shark',\n",
       " 'Grey nurse shark,  ',\n",
       " 'Grey nurse shark,   ',\n",
       " 'Grey nurse shark,  , ',\n",
       " 'Grey nurse shark,  female',\n",
       " 'Grey nurse shark,  m',\n",
       " \"Grey nurse shark, '\",\n",
       " 'Grey nurse shark, m',\n",
       " 'Grey nurse shark?',\n",
       " 'Grey reef shark',\n",
       " 'Grey reef shark .m',\n",
       " 'Grey reef shark, ',\n",
       " 'Grey reef shark,  ',\n",
       " 'Grey reef shark,   grey reef shark, identified by Dr. L.P. L. Schultz based on phographs; identified as C. melanopterus by Stewart',\n",
       " \"Grey reef shark,  '\",\n",
       " 'Grey reef shark,  m',\n",
       " \"Grey reef shark, '\",\n",
       " 'Grey reef shark.  m',\n",
       " 'Hammerhead shark',\n",
       " 'Hammerhead shark, ',\n",
       " 'Hammerhead shark,  ',\n",
       " 'Hammerhead shark,   S. zygenidentified by C. Limbaugh on description',\n",
       " 'Hammerhead shark,  , according  lifeguard SaBarrows',\n",
       " \"Hammerhead shark, '\",\n",
       " 'Hammerhead shark.',\n",
       " \"Hammerhead shark.  '\",\n",
       " 'Hammerhead shark?+O',\n",
       " 'Hammerhead sp.',\n",
       " 'Hand found in gut of     Galapagos shark, C. galapagensis',\n",
       " 'His hand was found in   tiger shark caught //',\n",
       " 'Horn shar,k Heterodontus francisci,  ',\n",
       " 'Identified as carcharinid shark (based on its behavior) by Dr. D.P. L. Schultz; mako shark according  Huges',\n",
       " 'Injuries not caused by shark',\n",
       " 'Injury believed caused by an eel, not shark',\n",
       " 'Injury most likely caused by barracuda, not shark',\n",
       " 'Invalid',\n",
       " 'Invalid incident',\n",
       " 'Juvenile blacktip shark',\n",
       " 'Juvenile bull shark',\n",
       " 'Juvenile bull shark?',\n",
       " 'Juvenile dusky or blacktip shark',\n",
       " 'Juvenile dusky shark',\n",
       " 'Juvenile nurse shark',\n",
       " 'Juvenile shark',\n",
       " 'Juvenile white shark',\n",
       " 'Juvenile white shark,  o ',\n",
       " 'Juvenile white shark?',\n",
       " 'Large tiger shark seen in the vicinity the following morning',\n",
       " 'Lemon shark',\n",
       " \"Lemon shark  '\",\n",
       " 'Lemon shark or sandtiger shark',\n",
       " 'Lemon shark pup',\n",
       " 'Lemon shark, ',\n",
       " 'Lemon shark,  ',\n",
       " 'Lemon shark,    , oth fragment recovered',\n",
       " 'Lemon shark,   male, N. breviostris, identified by W.A. Stark II, later the same day regnant female lemon shark bit the bow of the boat',\n",
       " \"Lemon shark,  '\",\n",
       " 'Lemon shark,  , identified  by the surfer',\n",
       " \"Lemon shark, '\",\n",
       " 'Lemon shark, .    ',\n",
       " 'Lemon shark, . m',\n",
       " 'Lemon shark, > m',\n",
       " 'Lemon shark, female',\n",
       " 'Lemon shark, m, immature male, identified by  V.G. Springer',\n",
       " 'Leopard shark',\n",
       " 'Leopard shark, Triakis semifasciata, identified by J.W. DeWitt ()',\n",
       " 'Less than  ',\n",
       " 'Lesser spotted dogfish, Scyliorhinus canicula, less than  cin length',\n",
       " 'Local authorities speculated that the water was o cold for sharks, but  , ',\n",
       " 'Longfin mako shark,  ',\n",
       " 'Mako shark',\n",
       " 'Mako shark (akboni shark)  ',\n",
       " 'Mako shark (oth fragments recovered)',\n",
       " 'Mako shark, ',\n",
       " 'Mako shark,  ',\n",
       " 'Mako shark,    ',\n",
       " 'Mako shark,      with hook & wire leader caught in mouth',\n",
       " 'Mako shark,   identified by oth fragments by G.P. Whitley',\n",
       " 'Mako shark,  , <',\n",
       " 'Mako shark,  . Tooth fragment recovered & identified by J.T. Nichols.',\n",
       " 'Mako shark,  gaffed',\n",
       " 'Mako shark,  juvenile',\n",
       " \"Mako shark, '\",\n",
       " 'Mako shark, , ',\n",
       " 'Mako shark, kg',\n",
       " 'Mako shark, m',\n",
       " 'Miami,  cblacktip  shark and two  cbamboo catsharks',\n",
       " 'Morenoâ€™s leg  & part of his swisuit found in shark caught two hours after the attack. Identified as carcharhinid shark by L. Schultz & C. Limbaugh on phograph',\n",
       " 'Most likely, small shark',\n",
       " 'Mr. Burgess of ISAF announced the injury was the bite of  , ',\n",
       " 'Next morning   shark was caught that had Andrewsleg in its gut',\n",
       " 'No shark involvement',\n",
       " 'No shark invovlement',\n",
       " 'No shark invovlement ',\n",
       " 'Not authenticated',\n",
       " 'Not shark attack; it was hoax',\n",
       " 'Nurse shark',\n",
       " 'Nurse shark,  ',\n",
       " 'Nurse shark,   ',\n",
       " 'Nurse shark,    identified by Dr. E. Clark on color & oth impressions',\n",
       " 'Nurse shark,    identified by Dr. E. Clark on description of shark',\n",
       " \"Nurse shark,  '\",\n",
       " 'Nurse shark,  c  c',\n",
       " 'Nurse shark,  c, identified by Dr. L.P. L. Schultz on phograph',\n",
       " 'Nurse shark,  m',\n",
       " \"Nurse shark, '\",\n",
       " \"Nurse shark, ', \",\n",
       " 'Nurse shark, , ',\n",
       " 'Nurse shark, .',\n",
       " 'Nurse shark, .   ',\n",
       " \"Nurse shark, .'\",\n",
       " 'Nurse shark, juvenile',\n",
       " 'Nurse shark, m',\n",
       " 'Nurse shark, m, ',\n",
       " \"Nurse shark. '\",\n",
       " 'Nurse shark?',\n",
       " 'Oceanic whitetip shar,; identified by Dr. W.C. Schoeder on phograph & Dr. L.P. L. Schultz on sketch by observer',\n",
       " 'Oceanic whitetip shark',\n",
       " 'Oceanic whitetip shark x ',\n",
       " \"Oceanic whitetip shark'\",\n",
       " 'Oceanic whitetip shark, ',\n",
       " \"Oceanic whitetip shark, '\",\n",
       " 'Oceanic whitetip shark, .m',\n",
       " 'Oceanic whitetip shark, .m, female',\n",
       " 'Oceanic whitetip shark, o  m',\n",
       " 'Oceanic whitetip shark, o m',\n",
       " 'Oceanic whitetip sharks were in the vicinity',\n",
       " 'On ',\n",
       " 'On //nglers froNew Zealand caught   shark at the same spot. It was believed this was the same shark that killed Alysha',\n",
       " 'Porbeagle or white shark',\n",
       " 'Porbeagle shark',\n",
       " 'Porbeagle shark,  rk',\n",
       " \"Porbeagle shark, '\",\n",
       " 'Porbeagle, ',\n",
       " 'Port Jackson shark, m',\n",
       " 'Possibily  o  sandtiger shark',\n",
       " 'Possibly    Zambezi shark',\n",
       " 'Possibly   blacktip or spinner shark',\n",
       " 'Possibly   blacktip shark',\n",
       " 'Possibly  blacktip or spinner shark',\n",
       " 'Possibly  bull shark',\n",
       " 'Possibly  sandtiger shark',\n",
       " \"Possibly Bull shark, '\",\n",
       " 'Possibly C. leucas',\n",
       " 'Possibly Caribbean reef shark',\n",
       " 'Possibly blacktip reef shark',\n",
       " 'Possibly blacktip shark',\n",
       " 'Possibly blue shark',\n",
       " 'Possibly broadnose ',\n",
       " 'Possibly bronze whaler shark',\n",
       " 'Possibly bull shark',\n",
       " 'Possibly bull shark or tiger shark',\n",
       " 'Possibly hammerhead shark',\n",
       " 'Possibly juvenile blacktip or spinner shark',\n",
       " 'Possibly juvenile blacktip shark',\n",
       " 'Possibly juvenile tiger shark',\n",
       " 'Possibly lemon shark',\n",
       " 'Possibly sand shark',\n",
       " 'Possibly sandbar shark or small blacktip shark',\n",
       " 'Possibly small blacktip shark',\n",
       " 'Possibly small hammerhead shark',\n",
       " 'Possibly spinner shark',\n",
       " 'Possibly tiger shark',\n",
       " 'Possibly white shark',\n",
       " 'Possibly wobbegong',\n",
       " 'Possiby white shark',\n",
       " 'Questionable',\n",
       " 'Questionable Incident',\n",
       " 'Questionable incident',\n",
       " 'Questionable incident ',\n",
       " 'Questionable incident, said  involve shark',\n",
       " 'Questionable incident; reported as shark attack but thought  involve pinniped instead',\n",
       " 'Questionable, shark suspected',\n",
       " 'Raggedoth shark',\n",
       " 'Raggedoth shark, ',\n",
       " 'Raggedoth shark,  ',\n",
       " 'Raggedoth shark,    ',\n",
       " 'Raggedoth shark,    m',\n",
       " 'Raggedoth shark,   (oth fragment recovered)',\n",
       " 'Raggedoth shark,  , ',\n",
       " 'Raggedoth shark,  m',\n",
       " 'Raggedoth shark, . m, ',\n",
       " 'Raggedoth shark, .m',\n",
       " 'Raggedoth shark, > m',\n",
       " 'Raggedoth shark, m',\n",
       " 'Raggedoth shark, o  ',\n",
       " 'Reef shark',\n",
       " 'Reef shark x ',\n",
       " 'Reef shark,',\n",
       " \"Reef shark,   '\",\n",
       " \"Reef shark, '\",\n",
       " 'Remains recovered  days later',\n",
       " 'Remains recovered fro  white shark',\n",
       " 'Remains recovered fro sharks',\n",
       " 'Reported  involve   shark, possibly white shark',\n",
       " 'Reported  involve  white shark',\n",
       " 'Reported  involve White shark,   ',\n",
       " 'Reported  involve bull shark',\n",
       " 'Reported  involve hammerhead shark',\n",
       " 'Reported  involve white shark',\n",
       " 'Reported as shark attack, the sry was hoax',\n",
       " 'Reported as shark attacks but injuries caused by adfish',\n",
       " 'Reported as shark bite but injury caused by stingray',\n",
       " 'Reported by medias shark attack, but shark involvement prior  death was not confirmed',\n",
       " 'Reportedly: oceanic whitetip sharks, blue sharks, tiger sharks & bull sharks',\n",
       " 'Said  be   shark',\n",
       " 'Said  be â€œleopard sharksâ€\\x9d, more probably tiger sharks',\n",
       " 'Said  be â€œsmall sharkâ€\\x9d',\n",
       " 'Said  involve     white shark',\n",
       " 'Said  involve   hammerhead shark',\n",
       " 'Said  involve   red shark',\n",
       " 'Said  involve   shark',\n",
       " 'Said  involve   white shark',\n",
       " 'Said  involve   white shark, but thought  that it was more likely blue shark',\n",
       " 'Said  involve  blue shark',\n",
       " 'Said  involve  shark',\n",
       " 'Said  involve  sharks:  &  ',\n",
       " 'Said  involve >  shark',\n",
       " 'Said  involve Grey nurse shark  ',\n",
       " 'Said  involve an shark but more likely damage caused by debris',\n",
       " 'Said  involve blacktip shark',\n",
       " 'Said  involve bull shark',\n",
       " \"Said  involve bull shark,  '\",\n",
       " 'Said  involve large mako shark',\n",
       " 'Said  involve tiger shark or hammerhead shark',\n",
       " 'Said  involve white shark but shark involvement not confirmed',\n",
       " 'Said  involve white shark, but species identify questionable',\n",
       " 'Salmon shark',\n",
       " 'Salmon shark suspected, but unlikely',\n",
       " 'Salmon shark, juvenile',\n",
       " 'Sand shark',\n",
       " 'Sand shark?',\n",
       " 'Sand tiger shark',\n",
       " 'Sandbar shark',\n",
       " \"Sandbar shark,  '\",\n",
       " \"Sandbar shark, '\",\n",
       " 'Sandtiger shark',\n",
       " \"Sandtiger shark  '\",\n",
       " \"Sandtiger shark'\",\n",
       " 'Sandtiger shark,  ',\n",
       " \"Sandtiger shark,  '\",\n",
       " 'Sandtiger shark,  m, male',\n",
       " \"Sandtiger shark, '\",\n",
       " 'Seven',\n",
       " 'Sevengill  shark,  ',\n",
       " 'Sevengill shark',\n",
       " 'Sevengill shark, ',\n",
       " 'Sevengill shark,  ',\n",
       " \"Sevengill shark,  '\",\n",
       " 'Several sharks involved',\n",
       " 'Shark had very large girth',\n",
       " 'Shark involvement  not confirmed',\n",
       " 'Shark involvement  questionable',\n",
       " 'Shark involvement doubtful',\n",
       " 'Shark involvement highly doubtful',\n",
       " 'Shark involvement not cofirmed',\n",
       " 'Shark involvement not confirmed',\n",
       " 'Shark involvement not confirmed & highly unlikely',\n",
       " 'Shark involvement not confirmed, injury may be due  stingray',\n",
       " 'Shark involvement not confirmed, injury may have been caused by bluefish',\n",
       " 'Shark involvement not confirmed; officials considered barracua',\n",
       " 'Shark involvement not confirmed; thought  be barracudbite',\n",
       " 'Shark involvement prior  death could not be determined',\n",
       " 'Shark involvement prior  death not confirmed',\n",
       " 'Shark involvement prior  death remains unconfirmed',\n",
       " 'Shark involvement prior  death still  be determined',\n",
       " 'Shark involvement prior  death suspected but not confirmed',\n",
       " 'Shark involvement prior  death unconfired',\n",
       " 'Shark involvement prior  death unconfirmed',\n",
       " 'Shark involvement prior  death was not confirmed',\n",
       " 'Shark involvement prior  deaths was not confirmed',\n",
       " 'Shark involvement probable',\n",
       " 'Shark involvement probable, but not confirmed',\n",
       " 'Shark involvement questionable',\n",
       " 'Shark involvement suspected but not confirmed',\n",
       " 'Shark involvement unconfirmed',\n",
       " 'Shark involvement unconfirmed but considered probable',\n",
       " 'Shark seen feeding on turtle scraps thrown overboard prior  incident.',\n",
       " 'Sharks averaged   in length',\n",
       " 'Shortfin mako shark',\n",
       " 'Shortfin mako shark, ',\n",
       " 'Shortfin mako shark,  ',\n",
       " 'Shortfin mako shark,    ',\n",
       " 'Shovelnose shark which is ray, not shark)',\n",
       " 'Shovelnose shark,  ',\n",
       " 'Sickelfin lemon shark, m',\n",
       " 'Silky shark,  ',\n",
       " \"Silky shark, .'\",\n",
       " 'Silvertip shark',\n",
       " 'Six Zambesi sharks seen    in length',\n",
       " 'Small bull shark',\n",
       " 'Small dusky shark or blackfin shark',\n",
       " 'Small nurse shark',\n",
       " 'Small shark',\n",
       " 'Small shark with white',\n",
       " 'Some drowned but other may have been killed by blue sharks',\n",
       " 'Soupfin shark',\n",
       " 'Species unidentified',\n",
       " 'Species unknown, possible white shark',\n",
       " 'Species unknown, possibly white shark',\n",
       " 'Spinner or blacktip sharks',\n",
       " 'Spinner shark',\n",
       " 'Spinner shark or blacktip shark',\n",
       " 'Spinner shark,    ',\n",
       " 'Spinner shark,    feet',\n",
       " \"Spinner shark,  '\",\n",
       " \"Spinner shark, '\",\n",
       " \"Spinner shark, '?\",\n",
       " 'Spurdog',\n",
       " 'Starry smoothhound shark, m',\n",
       " 'Survivors said  species of sharks were involved:  oceanic whitetip sharks and another species',\n",
       " 'Survivors said  species of sharks were involved:  oceanic whitetip sharks and another species,',\n",
       " 'Tawney nurse shark, m',\n",
       " 'Tawny nurse shark',\n",
       " 'Tawny nurse shark, cm',\n",
       " 'Tawny nurse shark, m',\n",
       " 'Teeth in hull identified as those frowhite shark   in length',\n",
       " 'Though  involve tiger shark',\n",
       " 'Though  involve white shark',\n",
       " 'Thought  involve   grey nurse shark',\n",
       " 'Thought  involve   lemon shark; two  lemon sharks caught within ds of the site week prior  & week after this incident',\n",
       " 'Thought  involve   white shark',\n",
       " 'Thought  involve  , ',\n",
       " 'Thought  involve  bull or tiger shark',\n",
       " 'Thought  involve  shark, but shark involvement not confirmed',\n",
       " 'Thought  involve  white shark named Kong',\n",
       " 'Thought  involve >  bull shark',\n",
       " 'Thought  involve Bronze whale shark, m',\n",
       " 'Thought  involve Tiger shark,   ',\n",
       " 'Thought  involve Zambesi shark',\n",
       " 'Thought  involve an oceanic whitetip shark or white shark',\n",
       " 'Thought  involve blacktip shark',\n",
       " 'Thought  involve bull shark',\n",
       " 'Thought  involve bull sharks',\n",
       " 'Thought  involve cookiecutter shark',\n",
       " 'Thought  involve juvenile hammerhead shark',\n",
       " 'Thought  involve mako or grey nurse shark',\n",
       " 'Thought  involve mako shark, but possibly selion',\n",
       " 'Thought  involve sandtiger shark',\n",
       " 'Thought  involve small sand shark',\n",
       " 'Thought  involve tiger shark',\n",
       " 'Thought  involve white shark',\n",
       " 'Thought  involve white, bull or tiger shark',\n",
       " 'Thresher shark',\n",
       " 'Thresher shark,  ',\n",
       " 'Tiger shark',\n",
       " 'Tiger shark  ',\n",
       " 'Tiger shark   ',\n",
       " 'Tiger shark & others',\n",
       " 'Tiger shark caught  days later with diverâ€™s remains in its gut',\n",
       " 'Tiger shark said  be    ',\n",
       " 'Tiger shark, ',\n",
       " 'Tiger shark,  ',\n",
       " 'Tiger shark,   ',\n",
       " 'Tiger shark,    ',\n",
       " 'Tiger shark,     ',\n",
       " 'Tiger shark,     ?',\n",
       " 'Tiger shark,    ?',\n",
       " 'Tiger shark,    feet',\n",
       " \"Tiger shark,    female, contained Girvan's remains\",\n",
       " 'Tiger shark,   .m',\n",
       " 'Tiger shark,   ?',\n",
       " 'Tiger shark,   captured',\n",
       " 'Tiger shark,   female',\n",
       " \"Tiger shark,  '\",\n",
       " 'Tiger shark,  ,  oth fragments retrieved frohis wounds',\n",
       " 'Tiger shark,  , (oth fragment recovered frowound)',\n",
       " 'Tiger shark,  k',\n",
       " 'Tiger shark,  m',\n",
       " \"Tiger shark, '\",\n",
       " 'Tiger shark, , ',\n",
       " 'Tiger shark, . ',\n",
       " 'Tiger shark, .m',\n",
       " 'Tiger shark, < TL',\n",
       " 'Tiger shark, > ',\n",
       " 'Tiger shark, ?',\n",
       " 'Tiger shark, female',\n",
       " 'Tiger shark, g',\n",
       " \"Tiger shark, less than '\",\n",
       " 'Tiger shark, m',\n",
       " 'Tiger shark, o  , ',\n",
       " 'Tiger shark, oth fragment recovered',\n",
       " \"Tiger shark. '\",\n",
       " 'Tiger shark?',\n",
       " 'Tiger sharks & bull sharks ( sharks in all)',\n",
       " 'Tiger sharks in area',\n",
       " 'Tiger sharks,    ',\n",
       " 'Tooth fragment of white shark recovered. Authorities believed shark was    tal length',\n",
       " 'Tooth fragments of â€œwhalerâ€\\x9d shark were recovered, bull shark, according  Edwards',\n",
       " 'Tooth fragments recovered frohull',\n",
       " \"Tope shark, '\",\n",
       " 'Two     sharks',\n",
       " 'Two   oceanic whitetip sharks',\n",
       " 'Two   sharks',\n",
       " \"Two shark's teeth recovered frocanoe\",\n",
       " 'Two sharks seen in vicinity:  & .   TL',\n",
       " 'Unidentified',\n",
       " 'Unidentified shark',\n",
       " 'Unidentified species',\n",
       " 'Unknown',\n",
       " 'Unknown, but it was reported that shark oth was recovered frothe wound',\n",
       " 'Whale shark',\n",
       " 'Whaler or bull shark, m',\n",
       " 'Whaler shark,  ',\n",
       " 'Whaler shark,  , ',\n",
       " 'While shark',\n",
       " 'White Shark, . .m',\n",
       " 'White shark',\n",
       " 'White shark  ',\n",
       " 'White shark (identified by Dr. Hugh Smith)',\n",
       " 'White shark (oth fragment recovered)',\n",
       " 'White shark (oth fragments recovered frohull of boat)',\n",
       " 'White shark (oth fragments recovered)',\n",
       " 'White shark according  oth pattern and witnesses',\n",
       " 'White shark named â€œSpottyâ€\\x9d',\n",
       " 'White shark or bronze whaler',\n",
       " 'White shark or oceanic whitetip shark',\n",
       " 'White shark or thresher shark',\n",
       " 'White shark oth fragment recovered froankle & identified by Dr. W. I. Follett',\n",
       " 'White shark x ',\n",
       " 'White shark, ',\n",
       " 'White shark,  ',\n",
       " 'White shark,   ',\n",
       " 'White shark,    ',\n",
       " 'White shark,     ',\n",
       " 'White shark,      according  Shreuder and witness',\n",
       " 'White shark,      according  witnesses',\n",
       " \"White shark,    (Tooth fragment recovered frovictim's shoulder & identified by J.T. Nicholls)\",\n",
       " 'White shark,    according  witnesses',\n",
       " 'White shark,    based on oth pattern',\n",
       " 'White shark,    m',\n",
       " 'White shark,    male',\n",
       " 'White shark,   (or bronze whaler)',\n",
       " 'White shark,   .',\n",
       " 'White shark,   .m',\n",
       " 'White shark,   k',\n",
       " 'White shark,   m',\n",
       " 'White shark,   rk',\n",
       " \"White shark,  '\",\n",
       " 'White shark,  , ',\n",
       " 'White shark,  , (oth fragment recovered)',\n",
       " 'White shark,  , an immature female, previously injured',\n",
       " 'White shark,  , identified by Dr. W. I. Follett on oth marks',\n",
       " 'White shark,  , identified by W. C. Shroeder based on oth fragment ebedded in gunwale',\n",
       " 'White shark,  , identified by W. I.  Follett on oth fragments',\n",
       " 'White shark,  , identity confirmed by witness & oth pattern',\n",
       " 'White shark,  , oth fragment frowounds identified as that of white shark',\n",
       " 'White shark,  , oth fragment recovered',\n",
       " 'White shark,  , species identity confirmed by oth fragment',\n",
       " 'White shark,  , species identity confirmed by witnesses & oth pattern in leg & board',\n",
       " 'White shark,  ; identifed by Dr. W.I. Follett on oth marks',\n",
       " 'White shark,  female',\n",
       " 'White shark,  juvenile',\n",
       " 'White shark,  m',\n",
       " 'White shark,  moth fragment  recovered frothe hull',\n",
       " 'White shark,  rk',\n",
       " 'White shark,  white shark',\n",
       " \"White shark, '\",\n",
       " \"White shark, ', \",\n",
       " \"White shark, ', ,\",\n",
       " \"White shark, ', identity confirmed by oth fragment, witness and phograph of captured shark\",\n",
       " \"White shark, '?\",\n",
       " 'White shark, ,  g male',\n",
       " 'White shark, , g, male',\n",
       " 'White shark, .m',\n",
       " 'White shark, >  ',\n",
       " \"White shark, >'\",\n",
       " 'White shark, according  witnesses',\n",
       " 'White shark, based on  teeth retrieved frorudder',\n",
       " 'White shark, based on bite pattern',\n",
       " 'White shark, female',\n",
       " \"White shark, female, '\",\n",
       " 'White shark, identification by K. Nakaya',\n",
       " 'White shark, identified by oth fragments in surfboard',\n",
       " 'White shark, identified by oth pattern',\n",
       " 'White shark, juvenile',\n",
       " 'White shark, k',\n",
       " 'White shark, m',\n",
       " 'White shark, m, seen in areand hooked  days later',\n",
       " 'White shark, o ',\n",
       " 'White shark, o  m',\n",
       " 'White shark, species identity confirmed by oth pattern',\n",
       " 'White shark?',\n",
       " 'White sharks',\n",
       " 'White xhark',\n",
       " 'Whitetip reef shark',\n",
       " \"Whitetip reef shark,  '\",\n",
       " 'Whitetip reef shark, m',\n",
       " 'Whtietip reef shark',\n",
       " 'Wobbegong',\n",
       " 'Wobbegong shark',\n",
       " 'Wobbegong shark,  ',\n",
       " 'Wobbegong shark,   k',\n",
       " 'Wobbegong shark,  m',\n",
       " \"Wobbegong shark, '\",\n",
       " 'Wobbegong shark, .m',\n",
       " 'Wobbegong shark, O. barbatus,   , identified by G.P. Whitley',\n",
       " 'Wobbegong shark, cm',\n",
       " 'Wobbegong shark, m',\n",
       " 'Wobbegong shark, o .m',\n",
       " 'Wobbegong shark?',\n",
       " 'Wobbegong, m',\n",
       " 'Zambesi shark',\n",
       " 'Zambesi shark,  ',\n",
       " \"Zambesi shark, '\",\n",
       " 'Zambesi shark, m',\n",
       " 'Zambesi shark?',\n",
       " 'Zambezi shark (oth fragments recovered)',\n",
       " 'banjo shark',\n",
       " 'black tipped shark',\n",
       " 'blacktip or spinner shark',\n",
       " 'blacktip shark',\n",
       " 'blue nosed shark',\n",
       " 'blue shark',\n",
       " 'bull shark',\n",
       " 'bull shark or Caribbean reef shark',\n",
       " 'bull shark, according  some of the divers on the boat',\n",
       " 'ceanic whitetip shark',\n",
       " 'dog shark',\n",
       " 'dogfish',\n",
       " 'dogfish shark',\n",
       " 'etre shark',\n",
       " 'female shark',\n",
       " 'g shark',\n",
       " 'gray shark',\n",
       " 'great hammerhead shark',\n",
       " 'grey',\n",
       " 'grey shark',\n",
       " 'gummy shark (Rhizoprionodon or Loxodon)  ',\n",
       " 'hammerhead shark, then    other sharks were said  be  involved',\n",
       " 'hite shark',\n",
       " 'juvenile shark',\n",
       " 'juvenile white shark',\n",
       " 'large shark',\n",
       " 'large white shark was filmed by divers on local wreck  days prior  the incident.',\n",
       " 'little shark',\n",
       " 'long thin brown',\n",
       " 'nurse shark',\n",
       " 'o   copper shark',\n",
       " 'o   shark',\n",
       " 'o   shark seen in vicinity',\n",
       " 'o  C. albimarginatus',\n",
       " 'o  shark',\n",
       " 'o  white shark',\n",
       " 'o g shark',\n",
       " 'o shark',\n",
       " 'pack of  sharks',\n",
       " 'possibly bronze whaler shark',\n",
       " 'possibly bull shark',\n",
       " 'reef shark',\n",
       " 'reef shark, .m',\n",
       " 'reef shark, m',\n",
       " 'reef shark?',\n",
       " 'said  involve an oceanic whitetip shark',\n",
       " 'said  involve tiger shark',\n",
       " 'sand shark',\n",
       " 'sandshark',\n",
       " 'sandtiger shark',\n",
       " 'school of sharks',\n",
       " 'shark',\n",
       " 'shark involvement not confirmed',\n",
       " 'shark known as Old Tom',\n",
       " 'shark pup',\n",
       " 'shark was seen in the areby witnesses',\n",
       " 'shark, possibly  blacktip or spinner shark',\n",
       " 'shark, possibly blactip or spinner shark',\n",
       " 'shark, probably smooth hound',\n",
       " 'shark?',\n",
       " 'silvertip shark',\n",
       " 'small blacktip shark',\n",
       " 'small blacktip shark?',\n",
       " 'small blue shark',\n",
       " 'small brown',\n",
       " 'small carpet shark',\n",
       " 'small catsharks',\n",
       " 'small hammerhead shark',\n",
       " 'small nurse shark',\n",
       " 'small reef shark',\n",
       " 'small shark',\n",
       " \"small shark'\",\n",
       " 'small sharks',\n",
       " \"small sharks'\",\n",
       " 'small slibrown shark',\n",
       " 'small spinner shark',\n",
       " 'small spotted catshark, Scyliorhinus canicula',\n",
       " 'spinner shark',\n",
       " 't shark',\n",
       " 'thresher or blue shark. The shark  was killed following the incident',\n",
       " 'tiger shark',\n",
       " 'tp shark',\n",
       " 'unknown, possibly white shark',\n",
       " 'very large shark',\n",
       " 'whaler shark',\n",
       " 'whiptail shark (thresher shark?)',\n",
       " 'white shark',\n",
       " 'white shark or ',\n",
       " \"white shark, '\",\n",
       " 'whitetip shark',\n",
       " 'young shark',\n",
       " 'â€œsmall brown sharkâ€\\x9d',\n",
       " 'â€œsmallâ€\\x9d shark']"
      ]
     },
     "execution_count": 432,
     "metadata": {},
     "output_type": "execute_result"
    }
   ],
   "source": [
    "sorted(list(data_clean['Species'].unique()))"
   ]
  },
  {
   "cell_type": "code",
   "execution_count": 414,
   "metadata": {},
   "outputs": [],
   "source": [
    "data_clean.Species = data_clean.Species.str.lstrip()"
   ]
  },
  {
   "cell_type": "code",
   "execution_count": 420,
   "metadata": {},
   "outputs": [],
   "source": [
    "data_clean.Species = data_clean.Species.replace(to_replace = r'\\d.\\d \\w|\\[.*]', value = '', regex = True)"
   ]
  },
  {
   "cell_type": "code",
   "execution_count": 429,
   "metadata": {},
   "outputs": [],
   "source": [
    "data_clean.Species = data_clean.Species.replace(to_replace = \"\\['] |\\[] |A |a |m |kg |-lb|\\[' ']|\\['  ']|\\[ ']|\\[']|\\[. ']|\\[.]|\\[]|\\' ' |\\\\' |\\' |>m|to\", value='', regex=True)"
   ]
  },
  {
   "cell_type": "code",
   "execution_count": 433,
   "metadata": {},
   "outputs": [],
   "source": [
    "sharks = ['White shark','Tiger shark','Lemon shark', 'Blacktip shark', 'Blacktail reef shark',\n",
    "          'Blacktip reef shark', 'spinner shark','Blue nose shark','Blue pointer', 'Blue pointers', 'Blue shark',\n",
    "         'Bonitshark','Broadnose sevenguill shark', 'Bronza whaler shark', 'Bronze whaler', 'Bull shark', \n",
    "          'Caribbean reef Shark', ' Caribbean reef Shark', 'Carpet shark', 'Copper shark', 'Dog shark', 'Cow shark',\n",
    "         'Dusky shark', 'Galapagos shark', 'Grey nurse shark', 'Grey reef shark', 'Hammerhead shark',\n",
    "          'Tiger shark','Wobbegong shark','Grey nurse shark','Nurse shark','Raggedoth shark', 'Mako shark',\n",
    "         'Bronze whaler shark','Zambesi shark','Sand shark','Lemon shark','Basking shark','Sandtiger shark',\n",
    "         'Oceanic whitetip shark','Angel shark']"
   ]
  },
  {
   "cell_type": "code",
   "execution_count": 434,
   "metadata": {},
   "outputs": [],
   "source": [
    "def species_column(value):\n",
    "    for species in sharks:\n",
    "        if species.lower() in value.lower():\n",
    "            return species.lower()\n",
    "        else: \n",
    "            pass\n",
    "        "
   ]
  },
  {
   "cell_type": "code",
   "execution_count": 435,
   "metadata": {},
   "outputs": [],
   "source": [
    "data_clean['shark_species'] = list(map(species_column,data_clean.Species))"
   ]
  },
  {
   "cell_type": "markdown",
   "metadata": {},
   "source": [
    "### Data checkpoint"
   ]
  },
  {
   "cell_type": "code",
   "execution_count": 438,
   "metadata": {},
   "outputs": [],
   "source": [
    "data_clean.to_csv(r'C:\\Users\\juanp\\proyectos_varios\\shark_attacks\\data\\data_clean.csv' , index = False)"
   ]
  }
 ],
 "metadata": {
  "kernelspec": {
   "display_name": "Python 3 (ipykernel)",
   "language": "python",
   "name": "python3"
  },
  "language_info": {
   "codemirror_mode": {
    "name": "ipython",
    "version": 3
   },
   "file_extension": ".py",
   "mimetype": "text/x-python",
   "name": "python",
   "nbconvert_exporter": "python",
   "pygments_lexer": "ipython3",
   "version": "3.11.0"
  }
 },
 "nbformat": 4,
 "nbformat_minor": 4
}
