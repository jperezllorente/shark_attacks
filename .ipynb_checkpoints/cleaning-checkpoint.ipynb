{
 "cells": [
  {
   "cell_type": "markdown",
   "metadata": {},
   "source": [
    "### Pattern replacement using REGEX"
   ]
  },
  {
   "cell_type": "markdown",
   "metadata": {},
   "source": [
    "This notebook has been created with the sole purpose of correcting the spelling mistakes that can be found in the attacks dataframe. The reason to create  this additional notebook is mainly practical, as there a lot of pattern to replace, and I have not been able to find of way of optimazing the process"
   ]
  },
  {
   "cell_type": "code",
   "execution_count": 1,
   "metadata": {},
   "outputs": [],
   "source": [
    "import pandas as pd\n",
    "import re\n",
    "import collections\n",
    "pd.set_option('display.max_rows',6000)\n",
    "from datetime import datetime"
   ]
  },
  {
   "cell_type": "code",
   "execution_count": 2,
   "metadata": {},
   "outputs": [],
   "source": [
    "def counts(column):\n",
    "    '''\n",
    "    This function returns the value_counts() result of a column as a dictionary sorted by key in ascending order.\n",
    "    Easier to examine.\n",
    "    Args: the column of interest in the format of df.column or df[\"columnd\"]\n",
    "    '''\n",
    "    s = (column.value_counts())\n",
    "    dictionary =  s.to_dict()\n",
    "    return collections.OrderedDict(sorted(dictionary.items()))"
   ]
  },
  {
   "cell_type": "code",
   "execution_count": 3,
   "metadata": {},
   "outputs": [],
   "source": [
    "data = pd.read_excel(\"data\\global_shark_attacks.xlsx\")"
   ]
  },
  {
   "cell_type": "code",
   "execution_count": 41,
   "metadata": {},
   "outputs": [
    {
     "data": {
      "text/plain": [
       "Case Number                 0\n",
       "Date                        0\n",
       "Year                      134\n",
       "Type                        0\n",
       "Country                     0\n",
       "Area                        0\n",
       "Location                    0\n",
       "Activity                    0\n",
       "Name                      222\n",
       "Sex                         0\n",
       "Age                         0\n",
       "Injury                      0\n",
       "Fatal (Y/N)                 0\n",
       "Time                        0\n",
       "Species                     0\n",
       "Investigator or Source     23\n",
       "Test                        2\n",
       "dtype: int64"
      ]
     },
     "execution_count": 41,
     "metadata": {},
     "output_type": "execute_result"
    }
   ],
   "source": [
    "# for categorical values I set Unknown and for date the next value\n",
    "data.isnull().sum()"
   ]
  },
  {
   "cell_type": "code",
   "execution_count": 37,
   "metadata": {},
   "outputs": [],
   "source": [
    "data[[\"Case Number\",\"Type\", \"Country\", \"Area\", \"Activity\", \"Injury\"\n",
    "            ,\"Sex \", \"Fatal (Y/N)\", \"Species \", \"Location\", \"Age\", \"Time\"]] = data[[\"Case Number\",\"Type\", \"Country\", \"Area\", \"Activity\", \"Injury\"\n",
    "                         ,\"Sex \", \"Fatal (Y/N)\",\"Species \",\"Location\", \"Age\", \"Time\"]].fillna(\"Unknown\") "
   ]
  },
  {
   "cell_type": "code",
   "execution_count": 40,
   "metadata": {},
   "outputs": [],
   "source": [
    "data['Date'] = data[[\"Date\"]].fillna(method = 'ffill')"
   ]
  },
  {
   "cell_type": "code",
   "execution_count": 80,
   "metadata": {},
   "outputs": [],
   "source": [
    "def clean_Date(row):\n",
    "    if isinstance(row['Date'],str):\n",
    "        return 'Unknown'\n",
    "    else:\n",
    "        return row['Date']"
   ]
  },
  {
   "cell_type": "code",
   "execution_count": 108,
   "metadata": {},
   "outputs": [],
   "source": [
    "data['filter'] = data.apply(lambda row: clean_Date(row),axis=1)"
   ]
  },
  {
   "cell_type": "code",
   "execution_count": 169,
   "metadata": {},
   "outputs": [],
   "source": [
    "data_clean = data[data.Test!='Unknown']"
   ]
  },
  {
   "cell_type": "code",
   "execution_count": 170,
   "metadata": {},
   "outputs": [
    {
     "name": "stderr",
     "output_type": "stream",
     "text": [
      "C:\\Users\\juanp\\AppData\\Local\\Temp\\ipykernel_17112\\3597151183.py:1: SettingWithCopyWarning: \n",
      "A value is trying to be set on a copy of a slice from a DataFrame.\n",
      "Try using .loc[row_indexer,col_indexer] = value instead\n",
      "\n",
      "See the caveats in the documentation: https://pandas.pydata.org/pandas-docs/stable/user_guide/indexing.html#returning-a-view-versus-a-copy\n",
      "  data_clean['Date'] = pd.to_datetime(data_clean['Date'])\n"
     ]
    }
   ],
   "source": [
    "data_clean['Date'] = pd.to_datetime(data_clean['Date'])"
   ]
  },
  {
   "cell_type": "code",
   "execution_count": 171,
   "metadata": {},
   "outputs": [],
   "source": [
    "data_clean = data_clean.drop(columns = {'Case Number', 'Year','Name','Investigator or Source'})"
   ]
  },
  {
   "cell_type": "markdown",
   "metadata": {},
   "source": [
    "### Country"
   ]
  },
  {
   "cell_type": "code",
   "execution_count": 173,
   "metadata": {},
   "outputs": [],
   "source": [
    "data_clean.Country = data_clean.Country.replace(to_replace = \"CEYLON\" , value = \"SRI LANKA\" ) "
   ]
  },
  {
   "cell_type": "code",
   "execution_count": 174,
   "metadata": {},
   "outputs": [],
   "source": [
    "data_clean.Country = data_clean.Country.replace(to_replace = r\"\\?$\", value = \"\", regex = True)"
   ]
  },
  {
   "cell_type": "code",
   "execution_count": 175,
   "metadata": {},
   "outputs": [],
   "source": [
    "data_clean.Country = data_clean.Country.replace(to_replace = 'MAARTIN', value = 'MARTIN', regex = True)"
   ]
  },
  {
   "cell_type": "code",
   "execution_count": 176,
   "metadata": {},
   "outputs": [],
   "source": [
    "data_clean.Country = data_clean.Country.replace(to_replace = r'(\\w* \\/ .*)', value = 'UNKNOWN', regex = True)"
   ]
  },
  {
   "cell_type": "code",
   "execution_count": 177,
   "metadata": {},
   "outputs": [],
   "source": [
    "data_clean.Country = data_clean.Country.replace(to_replace = 'RED UNKNOWN', value = 'UNKNOWN', regex = True)"
   ]
  },
  {
   "cell_type": "code",
   "execution_count": 178,
   "metadata": {},
   "outputs": [],
   "source": [
    "data_clean.Country = data_clean.Country.replace(to_replace = 'SOLOMON UNKNOWN', value = 'SOLOMON ISLANDS', regex = True)"
   ]
  },
  {
   "cell_type": "code",
   "execution_count": 179,
   "metadata": {},
   "outputs": [],
   "source": [
    "data_clean.Country = data_clean.Country.replace(to_replace = ' CEYLON (SRI LANKA)', value = 'SRI LANKA')"
   ]
  },
  {
   "cell_type": "code",
   "execution_count": 180,
   "metadata": {},
   "outputs": [],
   "source": [
    "data_clean.Country = data_clean.Country.replace(to_replace = 'NEW GUINEA', value = 'PAPUA NEW GUINEA')"
   ]
  },
  {
   "cell_type": "code",
   "execution_count": 181,
   "metadata": {},
   "outputs": [],
   "source": [
    "data_clean.Country = data_clean.Country.replace(to_replace = 'COLUMBIA', value = 'COLOMBIA')"
   ]
  },
  {
   "cell_type": "code",
   "execution_count": 190,
   "metadata": {},
   "outputs": [],
   "source": [
    "data_clean.Country = data_clean.Country.replace(to_replace = {'ST HELENA, British overseas territory':'ST HELENA' \n",
    "                                                              , 'British Overseas Territory':'Unknown'}, regex=True)"
   ]
  },
  {
   "cell_type": "code",
   "execution_count": 192,
   "metadata": {},
   "outputs": [],
   "source": [
    "data_clean.Country = data_clean.Country.replace(to_replace = 'JA MAICA', value='JAMAICA')"
   ]
  },
  {
   "cell_type": "code",
   "execution_count": 193,
   "metadata": {},
   "outputs": [],
   "source": [
    "data_clean.Country = data_clean.Country.replace({' ISLANDS':'',' Island':''}, regex=True)"
   ]
  },
  {
   "cell_type": "code",
   "execution_count": 194,
   "metadata": {},
   "outputs": [],
   "source": [
    "data_clean.Country = data_clean.Country.replace(to_replace = 'MALDIVE', value='MALDIVES')"
   ]
  },
  {
   "cell_type": "code",
   "execution_count": 195,
   "metadata": {},
   "outputs": [],
   "source": [
    "data_clean.Country = data_clean.Country.replace(to_replace = 'UNITED ARAB EMIRATES (UAE)', value='UNITED ARAB EMIRATES')"
   ]
  },
  {
   "cell_type": "code",
   "execution_count": 210,
   "metadata": {},
   "outputs": [
    {
     "data": {
      "text/plain": [
       "['Admiralty',\n",
       " 'American Samoa',\n",
       " 'Angola',\n",
       " 'Antigua',\n",
       " 'Argentina',\n",
       " 'Aruba',\n",
       " 'Atlantic Ocean',\n",
       " 'Australia',\n",
       " 'Azores',\n",
       " 'Bahamas',\n",
       " 'Bangladesh',\n",
       " 'Barbados',\n",
       " 'Bay Of Bengal',\n",
       " 'Belize',\n",
       " 'Bermuda',\n",
       " 'Brazil',\n",
       " 'British Isles',\n",
       " 'British Virgin',\n",
       " 'British West Indies',\n",
       " 'Canada',\n",
       " 'Cape Verde',\n",
       " 'Caribbean Sea',\n",
       " 'Cayman',\n",
       " 'Central Pacific',\n",
       " 'Chile',\n",
       " 'China',\n",
       " 'Colombia',\n",
       " 'Comoros',\n",
       " 'Costa Rica',\n",
       " 'Crete',\n",
       " 'Croatia',\n",
       " 'Cuba',\n",
       " 'Curacao',\n",
       " 'Cyprus',\n",
       " 'Diego Garcia',\n",
       " 'Dominican Republic',\n",
       " 'Ecuador',\n",
       " 'Egypt',\n",
       " 'El Salvador',\n",
       " 'England',\n",
       " 'Falkland',\n",
       " 'Federated States Of Micronesia',\n",
       " 'Fiji',\n",
       " 'France',\n",
       " 'French Polynesia',\n",
       " 'Gabon',\n",
       " 'Grand Cayman',\n",
       " 'Greece',\n",
       " 'Grenada',\n",
       " 'Guam',\n",
       " 'Guatemala',\n",
       " 'Gulf Of Aden',\n",
       " 'Guyana',\n",
       " 'Haiti',\n",
       " 'Honduras',\n",
       " 'Hong Kong',\n",
       " 'Iceland',\n",
       " 'India',\n",
       " 'Indian Ocean',\n",
       " 'Indonesia',\n",
       " 'Iran',\n",
       " 'Iraq',\n",
       " 'Ireland',\n",
       " 'Israel',\n",
       " 'Italy',\n",
       " 'Jamaica',\n",
       " 'Japan',\n",
       " 'Java',\n",
       " 'Johnston Island',\n",
       " 'Jordan',\n",
       " 'Kenya',\n",
       " 'Kiribati',\n",
       " 'Kuwait',\n",
       " 'Liberia',\n",
       " 'Libya',\n",
       " 'Madagascar',\n",
       " 'Malaysia',\n",
       " 'Maldives',\n",
       " 'Malta',\n",
       " 'Marshall',\n",
       " 'Martinique',\n",
       " 'Mauritius',\n",
       " 'Mayotte',\n",
       " 'Mexico',\n",
       " 'Micronesia',\n",
       " 'Mid Atlantic Ocean',\n",
       " 'Mid-Pacifc Ocean',\n",
       " 'Monaco',\n",
       " 'Montenegro',\n",
       " 'Mozambique',\n",
       " 'Namibia',\n",
       " 'Netherlands Antilles',\n",
       " 'Nevis',\n",
       " 'New Britain',\n",
       " 'New Caledonia',\n",
       " 'New Zealand',\n",
       " 'Nicaragua',\n",
       " 'Nigeria',\n",
       " 'North Atlantic Ocean',\n",
       " 'North Pacific Ocean',\n",
       " 'North Sea',\n",
       " 'Northern Arabian Sea',\n",
       " 'Northern Mariana',\n",
       " 'Norway',\n",
       " 'Okinawa',\n",
       " 'Pacific Ocean',\n",
       " 'Palau',\n",
       " 'Palestinian Territories',\n",
       " 'Panama',\n",
       " 'Papua New Guinea',\n",
       " 'Persian Gulf',\n",
       " 'Philippines',\n",
       " 'Portugal',\n",
       " 'Puerto Rico',\n",
       " 'Red Sea',\n",
       " 'Reunion',\n",
       " 'Reunion Island',\n",
       " 'Russia',\n",
       " 'Samoa',\n",
       " 'San Domingo',\n",
       " 'Saudi Arabia',\n",
       " 'Scotland',\n",
       " 'Senegal',\n",
       " 'Seychelles',\n",
       " 'Sierra Leone',\n",
       " 'Singapore',\n",
       " 'Slovenia',\n",
       " 'Solomon',\n",
       " 'Somalia',\n",
       " 'South Africa',\n",
       " 'South Atlantic Ocean',\n",
       " 'South China Sea',\n",
       " 'South Korea',\n",
       " 'South Pacific Ocean',\n",
       " 'Southwest Pacific Ocean',\n",
       " 'Spain',\n",
       " 'Sri Lanka',\n",
       " 'St Helena',\n",
       " 'St Martin',\n",
       " 'St Unknown',\n",
       " 'St. Martin',\n",
       " 'Sudan',\n",
       " 'Taiwan',\n",
       " 'Tanzania',\n",
       " 'Thailand',\n",
       " 'The Balkans',\n",
       " 'Tonga',\n",
       " 'Trinidad & Tobago',\n",
       " 'Tunisia',\n",
       " 'Turkey',\n",
       " 'Turks & Caicos',\n",
       " 'USA',\n",
       " 'United Arab Emirates',\n",
       " 'United Kingdom',\n",
       " 'Unknown',\n",
       " 'Uruguay',\n",
       " 'Vanuatu',\n",
       " 'Venezuela',\n",
       " 'Vietnam',\n",
       " 'Western Samoa',\n",
       " 'Yemen']"
      ]
     },
     "execution_count": 210,
     "metadata": {},
     "output_type": "execute_result"
    }
   ],
   "source": [
    "sorted(list(data_clean.Country.unique()))"
   ]
  },
  {
   "cell_type": "markdown",
   "metadata": {},
   "source": [
    "### Second round of modifications to have the proper format for visualzation"
   ]
  },
  {
   "cell_type": "code",
   "execution_count": 200,
   "metadata": {},
   "outputs": [],
   "source": [
    "data_clean.Country = data_clean.Country.apply(lambda x: x.title().strip() if x != 'USA' else x)"
   ]
  },
  {
   "cell_type": "code",
   "execution_count": 203,
   "metadata": {},
   "outputs": [],
   "source": [
    "data.Country = data.Country.replace(to_replace = 'Okinawa', value = 'Japan')"
   ]
  },
  {
   "cell_type": "code",
   "execution_count": 204,
   "metadata": {},
   "outputs": [],
   "source": [
    "data.Country = data.Country.replace(to_replace = 'New Britain', value = 'USA') "
   ]
  },
  {
   "cell_type": "code",
   "execution_count": 205,
   "metadata": {},
   "outputs": [],
   "source": [
    "data.Country = data.Country.replace(to_replace = 'Azores', value = 'Portugal')"
   ]
  },
  {
   "cell_type": "code",
   "execution_count": 206,
   "metadata": {},
   "outputs": [],
   "source": [
    "data.Country = data.Country.replace(to_replace = 'Burma', value = 'Myanmar')"
   ]
  },
  {
   "cell_type": "code",
   "execution_count": 211,
   "metadata": {},
   "outputs": [],
   "source": [
    "data.Country = data.Country.replace(to_replace = 'Western Samoa', value = 'Samoa')"
   ]
  },
  {
   "cell_type": "markdown",
   "metadata": {},
   "source": [
    "### Time"
   ]
  },
  {
   "cell_type": "code",
   "execution_count": 171,
   "metadata": {},
   "outputs": [],
   "source": [
    "data.Time = data.Time.replace(to_replace = r'(s\\--\\s\\w{2}\\w\\w{2})', value ='UNKNOWN', regex = True )"
   ]
  },
  {
   "cell_type": "code",
   "execution_count": 172,
   "metadata": {},
   "outputs": [],
   "source": [
    "data.Time = data.Time.replace(to_replace = 'Afternoon', value ='18h30', regex = True )"
   ]
  },
  {
   "cell_type": "code",
   "execution_count": 173,
   "metadata": {},
   "outputs": [],
   "source": [
    "data.Time = data.Time.replace(to_replace = 'Dusk', value ='07h30', regex = True )"
   ]
  },
  {
   "cell_type": "code",
   "execution_count": 174,
   "metadata": {},
   "outputs": [],
   "source": [
    "data.Time = data.Time.replace(to_replace = 'Early afternoon', value ='18h00', regex = True )"
   ]
  },
  {
   "cell_type": "code",
   "execution_count": 175,
   "metadata": {},
   "outputs": [],
   "source": [
    "data.Time = data.Time.replace(to_replace = 'Evening', value ='20h00', regex = True )"
   ]
  },
  {
   "cell_type": "code",
   "execution_count": 176,
   "metadata": {},
   "outputs": [],
   "source": [
    "data.Time = data.Time.replace(to_replace = 'Late afternoon', value ='19h30', regex = True )"
   ]
  },
  {
   "cell_type": "code",
   "execution_count": 177,
   "metadata": {},
   "outputs": [],
   "source": [
    "data.Time = data.Time.replace(to_replace = 'Midday', value ='12h00', regex=True )"
   ]
  },
  {
   "cell_type": "code",
   "execution_count": 178,
   "metadata": {},
   "outputs": [],
   "source": [
    "data.Time = data.Time.replace(to_replace = 'Midnight', value ='00h00', regex = True )"
   ]
  },
  {
   "cell_type": "code",
   "execution_count": 179,
   "metadata": {},
   "outputs": [],
   "source": [
    "data.Time = data.Time.replace(to_replace = 'Morning', value ='08h30', regex = True )"
   ]
  },
  {
   "cell_type": "code",
   "execution_count": 180,
   "metadata": {},
   "outputs": [],
   "source": [
    "data.Time = data.Time.replace(to_replace = 'Night', value ='21h30', regex = True )"
   ]
  },
  {
   "cell_type": "code",
   "execution_count": 181,
   "metadata": {},
   "outputs": [],
   "source": [
    "data.Time = data.Time.replace(to_replace = r'(\\/\\w*)', value ='', regex = True )"
   ]
  },
  {
   "cell_type": "code",
   "execution_count": 182,
   "metadata": {},
   "outputs": [],
   "source": [
    "data.Time = data.Time.replace(to_replace = '13h345', value ='13h45', regex = True )"
   ]
  },
  {
   "cell_type": "code",
   "execution_count": 183,
   "metadata": {},
   "outputs": [],
   "source": [
    "data.Time = data.Time.replace(to_replace = '15h00j', value ='15h00', regex = True )"
   ]
  },
  {
   "cell_type": "code",
   "execution_count": 184,
   "metadata": {},
   "outputs": [],
   "source": [
    "data.Time = data.Time.replace(to_replace = '0830', value ='08h30', regex = True )"
   ]
  },
  {
   "cell_type": "code",
   "execution_count": 185,
   "metadata": {},
   "outputs": [],
   "source": [
    "data.Time = data.Time.replace(to_replace = '11h115', value ='11h15', regex = True )"
   ]
  },
  {
   "cell_type": "code",
   "execution_count": 186,
   "metadata": {},
   "outputs": [],
   "source": [
    "data.Time = data.Time.replace(to_replace = '06j00', value ='06h00', regex = True )"
   ]
  },
  {
   "cell_type": "code",
   "execution_count": 187,
   "metadata": {},
   "outputs": [],
   "source": [
    "data.Time = data.Time.replace(to_replace = r'(\\<*)', value ='', regex = True )"
   ]
  },
  {
   "cell_type": "code",
   "execution_count": 188,
   "metadata": {},
   "outputs": [],
   "source": [
    "data.Time = data.Time.replace(to_replace = r'(\\>*)', value ='', regex = True )"
   ]
  },
  {
   "cell_type": "code",
   "execution_count": 189,
   "metadata": {},
   "outputs": [],
   "source": [
    "data.Time = data.Time.replace(to_replace = r'h', value =':', regex = True )"
   ]
  },
  {
   "cell_type": "code",
   "execution_count": 190,
   "metadata": {},
   "outputs": [],
   "source": [
    "data.Time = data.Time.replace(to_replace = 'fall', value ='', regex = True )"
   ]
  },
  {
   "cell_type": "markdown",
   "metadata": {},
   "source": [
    "### Type"
   ]
  },
  {
   "cell_type": "code",
   "execution_count": 191,
   "metadata": {},
   "outputs": [],
   "source": [
    "data.Type = data.Type.replace(to_replace = 'Boating', value = 'Boat')"
   ]
  },
  {
   "cell_type": "code",
   "execution_count": 192,
   "metadata": {},
   "outputs": [],
   "source": [
    "data.Type = data.Type.replace(to_replace = 'Boatomg', value = 'Boat')"
   ]
  },
  {
   "cell_type": "code",
   "execution_count": 193,
   "metadata": {},
   "outputs": [],
   "source": [
    "data.Type = data.Type.replace(to_replace = 'Questionable', value = 'Unknown')"
   ]
  },
  {
   "cell_type": "code",
   "execution_count": 194,
   "metadata": {},
   "outputs": [
    {
     "data": {
      "text/plain": [
       "Unprovoked      4594\n",
       "Provoked         574\n",
       "Invalid          547\n",
       "Boat             341\n",
       "Sea Disaster     239\n",
       "Unknown            6\n",
       "Name: Type, dtype: int64"
      ]
     },
     "execution_count": 194,
     "metadata": {},
     "output_type": "execute_result"
    }
   ],
   "source": [
    "data.Type.value_counts()"
   ]
  },
  {
   "cell_type": "markdown",
   "metadata": {},
   "source": [
    "### Activity "
   ]
  },
  {
   "cell_type": "code",
   "execution_count": 195,
   "metadata": {},
   "outputs": [],
   "source": [
    "data.Activity= data.Activity.replace(to_replace = r'\\s(\\w*\\s)*\\w*', value ='', regex = True )"
   ]
  },
  {
   "cell_type": "code",
   "execution_count": 196,
   "metadata": {},
   "outputs": [],
   "source": [
    "data.Activity= data.Activity.replace(to_replace = r'(\\-\\w*)+', value ='', regex = True )"
   ]
  },
  {
   "cell_type": "code",
   "execution_count": 197,
   "metadata": {},
   "outputs": [],
   "source": [
    "data.Activity= data.Activity.replace(to_replace = 'Surf', value ='Surfing', regex = True )"
   ]
  },
  {
   "cell_type": "code",
   "execution_count": 198,
   "metadata": {},
   "outputs": [],
   "source": [
    "data.Activity= data.Activity.replace(to_replace = 'Body', value ='Surfing', regex = True )"
   ]
  },
  {
   "cell_type": "code",
   "execution_count": 199,
   "metadata": {},
   "outputs": [],
   "source": [
    "data.Activity= data.Activity.replace(to_replace = 'Surfinging', value ='Surfing', regex = True )"
   ]
  },
  {
   "cell_type": "code",
   "execution_count": 200,
   "metadata": {},
   "outputs": [],
   "source": [
    "data.Activity= data.Activity.replace(to_replace = 'Surfingsitting', value ='Surfing', regex = True )"
   ]
  },
  {
   "cell_type": "code",
   "execution_count": 201,
   "metadata": {},
   "outputs": [],
   "source": [
    "data.Activity= data.Activity.replace(to_replace = 'Windsurfing', value ='Surfing', regex = True )"
   ]
  },
  {
   "cell_type": "code",
   "execution_count": 202,
   "metadata": {},
   "outputs": [],
   "source": [
    "data.Activity= data.Activity.replace(to_replace = 'Paddling', value ='Surfing', regex = True )"
   ]
  },
  {
   "cell_type": "code",
   "execution_count": 203,
   "metadata": {},
   "outputs": [],
   "source": [
    "data.Activity= data.Activity.replace(to_replace = 'Paddle', value ='Surfing', regex = True )"
   ]
  },
  {
   "cell_type": "code",
   "execution_count": 204,
   "metadata": {},
   "outputs": [],
   "source": [
    "data.Activity= data.Activity.replace(to_replace = r'Kayak', value ='Kayaking', regex = True )"
   ]
  },
  {
   "cell_type": "code",
   "execution_count": 205,
   "metadata": {},
   "outputs": [],
   "source": [
    "data.Activity= data.Activity.replace(to_replace = 'Kayakinging', value ='Kayaking', regex = True )"
   ]
  },
  {
   "cell_type": "code",
   "execution_count": 206,
   "metadata": {},
   "outputs": [],
   "source": [
    "data.Activity= data.Activity.replace(to_replace = 'Freedom', value ='Swimming', regex = True )"
   ]
  },
  {
   "cell_type": "code",
   "execution_count": 207,
   "metadata": {},
   "outputs": [],
   "source": [
    "data.Activity= data.Activity.replace(to_replace = 'Scuba', value ='Diving', regex = True )"
   ]
  },
  {
   "cell_type": "code",
   "execution_count": 208,
   "metadata": {},
   "outputs": [],
   "source": [
    "data.Activity= data.Activity.replace(to_replace = 'Dived', value ='Diving', regex = True )"
   ]
  },
  {
   "cell_type": "code",
   "execution_count": 209,
   "metadata": {},
   "outputs": [],
   "source": [
    "data.Activity= data.Activity.replace(to_replace = 'Divingdiving', value ='Diving', regex = True )"
   ]
  },
  {
   "cell_type": "code",
   "execution_count": 210,
   "metadata": {},
   "outputs": [],
   "source": [
    "data.Activity= data.Activity.replace(to_replace = 'Divingbut', value ='Diving', regex = True )"
   ]
  },
  {
   "cell_type": "code",
   "execution_count": 211,
   "metadata": {},
   "outputs": [],
   "source": [
    "data.Activity= data.Activity.replace(to_replace = 'Pearl', value ='Diving', regex = True )"
   ]
  },
  {
   "cell_type": "code",
   "execution_count": 212,
   "metadata": {},
   "outputs": [],
   "source": [
    "data.Activity= data.Activity.replace(to_replace = 'Floating', value ='Bathing', regex = True )"
   ]
  },
  {
   "cell_type": "code",
   "execution_count": 213,
   "metadata": {},
   "outputs": [],
   "source": [
    "data.Activity= data.Activity.replace(to_replace = 'boat', value ='Boating', regex = True )"
   ]
  },
  {
   "cell_type": "code",
   "execution_count": 214,
   "metadata": {},
   "outputs": [],
   "source": [
    "data.Activity= data.Activity.replace(to_replace = 'Boat', value ='Boating', regex = True )"
   ]
  },
  {
   "cell_type": "code",
   "execution_count": 215,
   "metadata": {},
   "outputs": [],
   "source": [
    "data.Activity= data.Activity.replace(to_replace = 'Boatinging', value ='Boating', regex = True )"
   ]
  },
  {
   "cell_type": "code",
   "execution_count": 216,
   "metadata": {},
   "outputs": [],
   "source": [
    "data.Activity= data.Activity.replace(to_replace = 'Sailing', value ='Boating', regex = True )"
   ]
  },
  {
   "cell_type": "markdown",
   "metadata": {},
   "source": [
    "### Sex"
   ]
  },
  {
   "cell_type": "code",
   "execution_count": 218,
   "metadata": {},
   "outputs": [],
   "source": [
    "data.rename(columns={\"Sex \":\"Sex\"}, inplace=True)"
   ]
  },
  {
   "cell_type": "code",
   "execution_count": 219,
   "metadata": {},
   "outputs": [],
   "source": [
    "data.Sex = data.Sex.str.rstrip()"
   ]
  },
  {
   "cell_type": "code",
   "execution_count": 220,
   "metadata": {},
   "outputs": [],
   "source": [
    "data.Sex= data.Sex.replace(to_replace = 'N', value ='M')"
   ]
  },
  {
   "cell_type": "code",
   "execution_count": 221,
   "metadata": {},
   "outputs": [],
   "source": [
    "data.Sex= data.Sex.replace(to_replace = 'lli', value ='Unknown')"
   ]
  },
  {
   "cell_type": "code",
   "execution_count": 222,
   "metadata": {},
   "outputs": [],
   "source": [
    "data.Sex= data.Sex.replace(to_replace = '.', value ='Unknown')"
   ]
  },
  {
   "cell_type": "markdown",
   "metadata": {},
   "source": [
    "### Fatal"
   ]
  },
  {
   "cell_type": "code",
   "execution_count": 223,
   "metadata": {},
   "outputs": [],
   "source": [
    "data.rename(columns={\"Fatal (Y/N)\":\"Fatal\"},inplace=True)"
   ]
  },
  {
   "cell_type": "code",
   "execution_count": 224,
   "metadata": {},
   "outputs": [],
   "source": [
    "data.Fatal = data.Fatal.replace(to_replace = 'M', value = 'N' )"
   ]
  },
  {
   "cell_type": "code",
   "execution_count": 225,
   "metadata": {},
   "outputs": [],
   "source": [
    "data.Fatal = data.Fatal.replace(to_replace = 'y', value = 'Y' )"
   ]
  },
  {
   "cell_type": "code",
   "execution_count": 226,
   "metadata": {},
   "outputs": [],
   "source": [
    "data.Fatal = data.Fatal.replace(to_replace = '2017', value = 'Unknown' )"
   ]
  },
  {
   "cell_type": "code",
   "execution_count": 227,
   "metadata": {},
   "outputs": [],
   "source": [
    "data.Fatal = data.Fatal.replace(to_replace = 'UNKNOWN', value = 'Unknown' )"
   ]
  },
  {
   "cell_type": "markdown",
   "metadata": {},
   "source": [
    "### Case Number"
   ]
  },
  {
   "cell_type": "code",
   "execution_count": 228,
   "metadata": {},
   "outputs": [],
   "source": [
    "data.rename(columns={\"Case Number\":\"Case_Number\"},inplace=True)"
   ]
  },
  {
   "cell_type": "code",
   "execution_count": 229,
   "metadata": {},
   "outputs": [],
   "source": [
    "data.Case_Number = data.Case_Number.replace(to_replace = r'(\\.\\w$)', value = '', regex = True)"
   ]
  },
  {
   "cell_type": "code",
   "execution_count": 230,
   "metadata": {},
   "outputs": [],
   "source": [
    "data.Case_Number = data.Case_Number.replace(to_replace = r'\\.[A-Z]\\w', value = '', regex = True)"
   ]
  },
  {
   "cell_type": "code",
   "execution_count": 231,
   "metadata": {},
   "outputs": [],
   "source": [
    "data.Case_Number = data.Case_Number.replace(to_replace = r'\\.[A-Z]|[a-z]', value = '', regex = True)"
   ]
  },
  {
   "cell_type": "code",
   "execution_count": 232,
   "metadata": {},
   "outputs": [],
   "source": [
    "data.Case_Number = data.Case_Number.replace(to_replace = r'\\.$', value = '', regex = True)"
   ]
  },
  {
   "cell_type": "code",
   "execution_count": 233,
   "metadata": {},
   "outputs": [],
   "source": [
    "data.Case_Number = data.Case_Number.replace(to_replace = r'\\.\\ \\&', value = '', regex = True)"
   ]
  },
  {
   "cell_type": "code",
   "execution_count": 234,
   "metadata": {},
   "outputs": [],
   "source": [
    "data.Case_Number = data.Case_Number.replace(to_replace = r'\\/', value = '', regex = True)"
   ]
  },
  {
   "cell_type": "code",
   "execution_count": 235,
   "metadata": {},
   "outputs": [],
   "source": [
    "data.Case_Number = data.Case_Number.replace(to_replace = r'(\\.|-)\\w?$', value = '', regex = True)"
   ]
  },
  {
   "cell_type": "markdown",
   "metadata": {},
   "source": [
    "### Injury"
   ]
  },
  {
   "cell_type": "markdown",
   "metadata": {},
   "source": [
    "The information in the **Injury** column is very complicated to work with as there are a series of cells that have long texts written on them. However, it is possible to extract those incidents that were **FATAL** due to shark attacks. "
   ]
  },
  {
   "cell_type": "code",
   "execution_count": 2,
   "metadata": {},
   "outputs": [],
   "source": [
    "import pandas as pd"
   ]
  },
  {
   "cell_type": "code",
   "execution_count": 3,
   "metadata": {},
   "outputs": [],
   "source": [
    "data = pd.read_csv('data\\\\data_coords.csv')"
   ]
  },
  {
   "cell_type": "code",
   "execution_count": 15,
   "metadata": {},
   "outputs": [],
   "source": [
    "fatal = ['FATAL']\n",
    "\n",
    "def fatal_column(value):\n",
    "    for incident in fatal: \n",
    "        if incident.lower() in value.lower():\n",
    "            return 1\n",
    "        else: \n",
    "            return 0"
   ]
  },
  {
   "cell_type": "markdown",
   "metadata": {},
   "source": [
    "With this function it is possible to create a categorization column based on words or patterns from other columns. In this case the weord used is **FATAL**"
   ]
  },
  {
   "cell_type": "code",
   "execution_count": 16,
   "metadata": {},
   "outputs": [],
   "source": [
    "data['fatal_injury'] = list(map(fatal_column, data.Injury))"
   ]
  },
  {
   "cell_type": "code",
   "execution_count": 17,
   "metadata": {},
   "outputs": [],
   "source": [
    "data.to_csv(r'C:\\Users\\juanp\\proyectos_varios\\shark_attacks\\data\\data_coords.csv' , index = False)"
   ]
  },
  {
   "cell_type": "markdown",
   "metadata": {},
   "source": [
    "### Species"
   ]
  },
  {
   "cell_type": "code",
   "execution_count": 267,
   "metadata": {},
   "outputs": [],
   "source": [
    "data.Species = data.Species.str.lstrip()"
   ]
  },
  {
   "cell_type": "code",
   "execution_count": 253,
   "metadata": {},
   "outputs": [],
   "source": [
    "data.Species = data.Species.replace(to_replace = r'\"', value = '', regex = True)"
   ]
  },
  {
   "cell_type": "code",
   "execution_count": 240,
   "metadata": {},
   "outputs": [],
   "source": [
    "data.Species = data.Species.replace(to_replace = r'\\d.', value='', regex=True)"
   ]
  },
  {
   "cell_type": "code",
   "execution_count": 241,
   "metadata": {},
   "outputs": [],
   "source": [
    "data.Species = data.Species.replace(to_replace = r'\\ m', value='', regex=True)"
   ]
  },
  {
   "cell_type": "code",
   "execution_count": 242,
   "metadata": {},
   "outputs": [],
   "source": [
    "data.Species = data.Species.replace(to_replace = r'to\\s*', value='', regex=True)"
   ]
  },
  {
   "cell_type": "code",
   "execution_count": null,
   "metadata": {},
   "outputs": [],
   "source": [
    "data.Species = data.Species.replace(to_replace = r\" '\", value='', regex=True)"
   ]
  },
  {
   "cell_type": "code",
   "execution_count": null,
   "metadata": {},
   "outputs": [],
   "source": [
    "data.Species = data.Species.replace(to_replace = r',', value='', regex=True)"
   ]
  },
  {
   "cell_type": "code",
   "execution_count": null,
   "metadata": {},
   "outputs": [],
   "source": [
    "data.Species = data.Species.replace(to_replace = r'?', value='', regex=True)"
   ]
  },
  {
   "cell_type": "code",
   "execution_count": 251,
   "metadata": {},
   "outputs": [],
   "source": [
    "data.Species = data.Species.replace(to_replace = r\"\\['] |\\[] |A |a |m |kg |-lb|\\[' ']|\\['  ']|\\[ ']|\\[']|\\[. ']|\\[.]|\\[]|\\' ' |\\\\' |\\' |>m|\", value='', regex=True)"
   ]
  },
  {
   "cell_type": "code",
   "execution_count": null,
   "metadata": {},
   "outputs": [],
   "source": [
    "data.Species = data.Species.str.lstrip()"
   ]
  },
  {
   "cell_type": "code",
   "execution_count": 94,
   "metadata": {},
   "outputs": [],
   "source": [
    "sharks = ['White shark','Tiger shark','Lemon shark', 'Blacktip shark', 'Blacktail reef shark',\n",
    "          'Blacktip reef shark', 'spinner shark','Blue nose shark','Blue pointer', 'Blue pointers', 'Blue shark',\n",
    "         'Bonitshark','Broadnose sevenguill shark', 'Bronza whaler shark', 'Bronze whaler', 'Bull shark', \n",
    "          'Caribbean reef Shark', ' Caribbean reef Shark', 'Carpet shark', 'Copper shark', 'Dog shark', 'Cow shark',\n",
    "         'Dusky shark', 'Galapagos shark', 'Grey nurse shark', 'Grey reef shark', 'Hammerhead shark',\n",
    "          'Tiger shark','Wobbegong shark','Grey nurse shark','Nurse shark','Raggedoth shark', 'Mako shark',\n",
    "         'Bronze whaler shark','Zambesi shark','Sand shark','Lemon shark','Basking shark','Sandtiger shark',\n",
    "         'Oceanic whitetip shark','Angel shark']"
   ]
  },
  {
   "cell_type": "code",
   "execution_count": 98,
   "metadata": {},
   "outputs": [],
   "source": [
    "def species_column(value):\n",
    "    for species in sharks:\n",
    "        if species.lower() in value.lower():\n",
    "            return species.lower()\n",
    "        else: \n",
    "            pass\n",
    "        "
   ]
  },
  {
   "cell_type": "code",
   "execution_count": 99,
   "metadata": {},
   "outputs": [],
   "source": [
    "data['shark_species'] = list(map(species_column,data.Species))"
   ]
  },
  {
   "cell_type": "code",
   "execution_count": 102,
   "metadata": {},
   "outputs": [
    {
     "data": {
      "text/plain": [
       "white shark               635\n",
       "tiger shark               285\n",
       "bull shark                174\n",
       "blacktip shark             64\n",
       "bronze whaler              64\n",
       "nurse shark                57\n",
       "wobbegong shark            46\n",
       "mako shark                 44\n",
       "hammerhead shark           44\n",
       "raggedoth shark            43\n",
       "spinner shark              43\n",
       "blue shark                 41\n",
       "grey nurse shark           39\n",
       "lemon shark                37\n",
       "zambesi shark              29\n",
       "oceanic whitetip shark     23\n",
       "sand shark                 18\n",
       "grey reef shark            17\n",
       "caribbean reef shark       16\n",
       "dusky shark                14\n",
       "blacktip reef shark        12\n",
       "carpet shark                8\n",
       "galapagos shark             7\n",
       "blue pointer                7\n",
       "basking shark               7\n",
       "angel shark                 6\n",
       "dog shark                   6\n",
       "copper shark                5\n",
       "cow shark                   2\n",
       "blue nose shark             2\n",
       "blacktail reef shark        1\n",
       "bonitshark                  1\n",
       "Name: shark_species, dtype: int64"
      ]
     },
     "execution_count": 102,
     "metadata": {},
     "output_type": "execute_result"
    }
   ],
   "source": [
    "data.shark_species.value_counts()"
   ]
  },
  {
   "cell_type": "code",
   "execution_count": 11,
   "metadata": {},
   "outputs": [],
   "source": [
    "test = pd.read_csv('data\\\\data_regex.csv')"
   ]
  },
  {
   "cell_type": "markdown",
   "metadata": {},
   "source": [
    "### Data checkpoint"
   ]
  },
  {
   "cell_type": "code",
   "execution_count": 29,
   "metadata": {},
   "outputs": [],
   "source": [
    "data.to_csv(r'C:\\Users\\juanp\\proyectos_varios\\shark_attacks\\data\\data_regex.csv' , index = False)"
   ]
  },
  {
   "cell_type": "code",
   "execution_count": 16,
   "metadata": {},
   "outputs": [],
   "source": [
    "data = pd.read_csv('data\\\\data_regex.csv')"
   ]
  },
  {
   "cell_type": "code",
   "execution_count": 33,
   "metadata": {},
   "outputs": [
    {
     "data": {
      "text/plain": [
       "Index(['Case_Number', 'Year', 'Type', 'Country', 'Area', 'Location',\n",
       "       'Activity', 'Sex', 'Age', 'Injury', 'Fatal', 'Time', 'Species',\n",
       "       'fatal_injury', 'shark_species', 'month_incident'],\n",
       "      dtype='object')"
      ]
     },
     "execution_count": 33,
     "metadata": {},
     "output_type": "execute_result"
    }
   ],
   "source": [
    "data.columns"
   ]
  }
 ],
 "metadata": {
  "kernelspec": {
   "display_name": "Python 3 (ipykernel)",
   "language": "python",
   "name": "python3"
  },
  "language_info": {
   "codemirror_mode": {
    "name": "ipython",
    "version": 3
   },
   "file_extension": ".py",
   "mimetype": "text/x-python",
   "name": "python",
   "nbconvert_exporter": "python",
   "pygments_lexer": "ipython3",
   "version": "3.11.0"
  }
 },
 "nbformat": 4,
 "nbformat_minor": 4
}
