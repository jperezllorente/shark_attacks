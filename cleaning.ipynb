{
 "cells": [
  {
   "cell_type": "markdown",
   "metadata": {},
   "source": [
    "### Pattern replacement using REGEX"
   ]
  },
  {
   "cell_type": "markdown",
   "metadata": {},
   "source": [
    "This notebook has been created with the sole purpose of correcting the spelling mistakes that can be found in the attacks dataframe. The reason to create  this additional notebook is mainly practical, as there a lot of pattern to replace, and I have not been able to find of way of optimazing the process"
   ]
  },
  {
   "cell_type": "code",
   "execution_count": 51,
   "metadata": {},
   "outputs": [],
   "source": [
    "import pandas as pd\n",
    "import re\n",
    "import collections\n",
    "import numpy as np\n",
    "pd.set_option('display.max_rows',6000)\n",
    "from datetime import datetime, date"
   ]
  },
  {
   "cell_type": "code",
   "execution_count": 2,
   "metadata": {},
   "outputs": [],
   "source": [
    "def counts(column):\n",
    "    '''\n",
    "    This function returns the value_counts() result of a column as a dictionary sorted by key in ascending order.\n",
    "    Easier to examine.\n",
    "    Args: the column of interest in the format of df.column or df[\"columnd\"]\n",
    "    '''\n",
    "    s = (column.value_counts())\n",
    "    dictionary =  s.to_dict()\n",
    "    return collections.OrderedDict(sorted(dictionary.items()))"
   ]
  },
  {
   "cell_type": "code",
   "execution_count": 197,
   "metadata": {},
   "outputs": [],
   "source": [
    "data = pd.read_excel(\"data\\global_shark_attacks.xlsx\")"
   ]
  },
  {
   "cell_type": "code",
   "execution_count": 131,
   "metadata": {},
   "outputs": [
    {
     "data": {
      "text/plain": [
       "(6816, 16)"
      ]
     },
     "execution_count": 131,
     "metadata": {},
     "output_type": "execute_result"
    }
   ],
   "source": [
    "data.shape"
   ]
  },
  {
   "cell_type": "code",
   "execution_count": 147,
   "metadata": {},
   "outputs": [
    {
     "data": {
      "text/plain": [
       "Index(['Case Number', 'Date', 'Year', 'Type', 'Country', 'Area', 'Location',\n",
       "       'Activity', 'Name', 'Sex ', 'Age', 'Injury', 'Fatal (Y/N)', 'Time',\n",
       "       'Species ', 'Investigator or Source'],\n",
       "      dtype='object')"
      ]
     },
     "execution_count": 147,
     "metadata": {},
     "output_type": "execute_result"
    }
   ],
   "source": [
    "data.columns"
   ]
  },
  {
   "cell_type": "code",
   "execution_count": 202,
   "metadata": {},
   "outputs": [],
   "source": [
    "data.columns = data.columns.str.strip()"
   ]
  },
  {
   "cell_type": "code",
   "execution_count": 204,
   "metadata": {},
   "outputs": [],
   "source": [
    "data_clean = data.drop(columns = {'Case Number', 'Year','Name','Investigator or Source'})"
   ]
  },
  {
   "cell_type": "code",
   "execution_count": 150,
   "metadata": {},
   "outputs": [
    {
     "data": {
      "text/plain": [
       "Date            303\n",
       "Type             22\n",
       "Country          53\n",
       "Area            481\n",
       "Location        563\n",
       "Activity        587\n",
       "Sex             573\n",
       "Age            2977\n",
       "Injury           37\n",
       "Fatal (Y/N)       0\n",
       "Time           3503\n",
       "Species        3082\n",
       "dtype: int64"
      ]
     },
     "execution_count": 150,
     "metadata": {},
     "output_type": "execute_result"
    }
   ],
   "source": [
    "# for categorical values I set Unknown and for date the next value\n",
    "data_clean.isnull().sum()"
   ]
  },
  {
   "cell_type": "code",
   "execution_count": 205,
   "metadata": {},
   "outputs": [],
   "source": [
    "data_clean[[\"Type\", \"Country\", \"Area\", \"Activity\", \"Injury\"\n",
    "            ,\"Sex\", \"Fatal (Y/N)\", \"Species\", \n",
    "      \"Location\", \"Age\", \"Time\"]] = data_clean[[\"Type\", \"Country\",\n",
    "                                          \"Area\", \"Activity\", \"Injury\",\n",
    "                                          \"Sex\", \"Fatal (Y/N)\",\"Species\",\n",
    "                                          \"Location\", \"Age\", \"Time\"]].fillna(\"Unknown\") "
   ]
  },
  {
   "cell_type": "code",
   "execution_count": 206,
   "metadata": {},
   "outputs": [],
   "source": [
    "data_clean[\"Date\"] = data_clean[\"Date\"].fillna(\"1800-01-01\")"
   ]
  },
  {
   "cell_type": "markdown",
   "metadata": {},
   "source": [
    "### Date"
   ]
  },
  {
   "cell_type": "code",
   "execution_count": 140,
   "metadata": {},
   "outputs": [],
   "source": [
    "def clean_Date(row):\n",
    "    if isinstance(row['Date'],str):\n",
    "        try:\n",
    "            # Extract the first four values to get the year\n",
    "            year = int(row['Date'][0:4])\n",
    "            # Extract the two values in the middle to get the month\n",
    "            month = int(row['Date'][5:7])\n",
    "            # Extract the two final values to get the day\n",
    "            day = int(row['Date'][8:10])\n",
    "            # Create the date value\n",
    "            return date(year,month,day)\n",
    "        except: \n",
    "            pass     \n",
    "    else:\n",
    "        # Remove time from datetime values\n",
    "        return row['Date'].date()"
   ]
  },
  {
   "cell_type": "code",
   "execution_count": 209,
   "metadata": {},
   "outputs": [],
   "source": [
    "data_clean['new_date'] = data_clean.apply(lambda row: clean_Date(row),axis=1)"
   ]
  },
  {
   "cell_type": "code",
   "execution_count": null,
   "metadata": {},
   "outputs": [],
   "source": [
    "# data_clean['new_date'] = pd.to_datetime(data_clean['new_date']) --> I need to get rid of the seconds in datetime values"
   ]
  },
  {
   "cell_type": "code",
   "execution_count": 210,
   "metadata": {},
   "outputs": [],
   "source": [
    "data_clean['new_date'] = pd.to_datetime(data_clean.new_date, errors = 'coerce')"
   ]
  },
  {
   "cell_type": "code",
   "execution_count": 211,
   "metadata": {},
   "outputs": [],
   "source": [
    "data_clean = data_clean.drop(columns = {\"Date\"})"
   ]
  },
  {
   "cell_type": "markdown",
   "metadata": {},
   "source": [
    "### Country"
   ]
  },
  {
   "cell_type": "code",
   "execution_count": 212,
   "metadata": {},
   "outputs": [],
   "source": [
    "data_clean.Country = data_clean.Country.replace(to_replace = \"CEYLON\" , value = \"SRI LANKA\" ) "
   ]
  },
  {
   "cell_type": "code",
   "execution_count": 213,
   "metadata": {},
   "outputs": [],
   "source": [
    "data_clean.Country = data_clean.Country.replace(to_replace = r\"\\?$\", value = \"\", regex = True)"
   ]
  },
  {
   "cell_type": "code",
   "execution_count": 214,
   "metadata": {},
   "outputs": [],
   "source": [
    "data_clean.Country = data_clean.Country.replace(to_replace = 'MAARTIN', value = 'MARTIN', regex = True)"
   ]
  },
  {
   "cell_type": "code",
   "execution_count": 215,
   "metadata": {},
   "outputs": [],
   "source": [
    "data_clean.Country = data_clean.Country.replace(to_replace = r'(\\w* \\/ .*)', value = 'UNKNOWN', regex = True)"
   ]
  },
  {
   "cell_type": "code",
   "execution_count": 216,
   "metadata": {},
   "outputs": [],
   "source": [
    "data_clean.Country = data_clean.Country.replace(to_replace = 'RED UNKNOWN', value = 'UNKNOWN', regex = True)"
   ]
  },
  {
   "cell_type": "code",
   "execution_count": 217,
   "metadata": {},
   "outputs": [],
   "source": [
    "data_clean.Country = data_clean.Country.replace(to_replace = 'SOLOMON UNKNOWN', value = 'SOLOMON ISLANDS', regex = True)"
   ]
  },
  {
   "cell_type": "code",
   "execution_count": 218,
   "metadata": {},
   "outputs": [],
   "source": [
    "data_clean.Country = data_clean.Country.replace(to_replace = ' CEYLON (SRI LANKA)', value = 'SRI LANKA')"
   ]
  },
  {
   "cell_type": "code",
   "execution_count": 219,
   "metadata": {},
   "outputs": [],
   "source": [
    "data_clean.Country = data_clean.Country.replace(to_replace = 'NEW GUINEA', value = 'PAPUA NEW GUINEA')"
   ]
  },
  {
   "cell_type": "code",
   "execution_count": 220,
   "metadata": {},
   "outputs": [],
   "source": [
    "data_clean.Country = data_clean.Country.replace(to_replace = 'COLUMBIA', value = 'COLOMBIA')"
   ]
  },
  {
   "cell_type": "code",
   "execution_count": 221,
   "metadata": {},
   "outputs": [],
   "source": [
    "data_clean.Country = data_clean.Country.replace(to_replace = {'ST HELENA, British overseas territory':'ST HELENA' \n",
    "                                                              , 'British Overseas Territory':'Unknown'}, regex=True)"
   ]
  },
  {
   "cell_type": "code",
   "execution_count": 222,
   "metadata": {},
   "outputs": [],
   "source": [
    "data_clean.Country = data_clean.Country.replace(to_replace = 'JA MAICA', value='JAMAICA')"
   ]
  },
  {
   "cell_type": "code",
   "execution_count": 223,
   "metadata": {},
   "outputs": [],
   "source": [
    "data_clean.Country = data_clean.Country.replace({' ISLANDS':'',' Island':''}, regex=True)"
   ]
  },
  {
   "cell_type": "code",
   "execution_count": 224,
   "metadata": {},
   "outputs": [],
   "source": [
    "data_clean.Country = data_clean.Country.replace(to_replace = 'MALDIVE', value='MALDIVES')"
   ]
  },
  {
   "cell_type": "code",
   "execution_count": 225,
   "metadata": {},
   "outputs": [],
   "source": [
    "data_clean.Country = data_clean.Country.replace(to_replace = 'UNITED ARAB EMIRATES (UAE)', value='UNITED ARAB EMIRATES')"
   ]
  },
  {
   "cell_type": "markdown",
   "metadata": {},
   "source": [
    "### Second round of modifications to have the proper format for visualzation"
   ]
  },
  {
   "cell_type": "code",
   "execution_count": 226,
   "metadata": {},
   "outputs": [],
   "source": [
    "data_clean.Country = data_clean.Country.apply(lambda x: x.title().strip() if x != 'USA' else x)"
   ]
  },
  {
   "cell_type": "code",
   "execution_count": 227,
   "metadata": {},
   "outputs": [],
   "source": [
    "data_clean.Country = data_clean.Country.replace(to_replace = 'Okinawa', value = 'Japan')"
   ]
  },
  {
   "cell_type": "code",
   "execution_count": 228,
   "metadata": {},
   "outputs": [],
   "source": [
    "data_clean.Country = data_clean.Country.replace(to_replace = 'New Britain', value = 'USA') "
   ]
  },
  {
   "cell_type": "code",
   "execution_count": 229,
   "metadata": {},
   "outputs": [],
   "source": [
    "data_clean.Country = data_clean.Country.replace(to_replace = 'Azores', value = 'Portugal')"
   ]
  },
  {
   "cell_type": "code",
   "execution_count": 230,
   "metadata": {},
   "outputs": [],
   "source": [
    "data_clean.Country = data_clean.Country.replace(to_replace = 'Burma', value = 'Myanmar')"
   ]
  },
  {
   "cell_type": "code",
   "execution_count": 231,
   "metadata": {},
   "outputs": [],
   "source": [
    "data_clean.Country = data_clean.Country.replace(to_replace = 'Western Samoa', value = 'Samoa')"
   ]
  },
  {
   "cell_type": "markdown",
   "metadata": {},
   "source": [
    "### Time"
   ]
  },
  {
   "cell_type": "code",
   "execution_count": 246,
   "metadata": {},
   "outputs": [],
   "source": [
    "data_clean.Time = data_clean.Time.replace(to_replace = ['j','h'],value=':', regex=True)"
   ]
  },
  {
   "cell_type": "code",
   "execution_count": 223,
   "metadata": {},
   "outputs": [],
   "source": [
    "data_clean.Time = data_clean.Time.replace({'Early ':'','Late ':'','early ':'','late ':'',\n",
    "                                          'Before ':'','Prior to ':'', 'After ':'',\n",
    "                                          'Just after ':''},regex=True)"
   ]
  },
  {
   "cell_type": "code",
   "execution_count": 224,
   "metadata": {},
   "outputs": [],
   "source": [
    "data_clean.Time = data_clean.Time.replace(to_replace = r'(s\\--\\s\\w{2}\\w\\w{2})', value ='UNKNOWN',regex=True)"
   ]
  },
  {
   "cell_type": "code",
   "execution_count": 145,
   "metadata": {},
   "outputs": [],
   "source": [
    "data_clean.Time = data_clean.Time.replace(to_replace = r'd{0,4}', value ='d{0,2}:d{0,2}', regex=True)"
   ]
  },
  {
   "cell_type": "code",
   "execution_count": 225,
   "metadata": {},
   "outputs": [],
   "source": [
    "data_clean.Time = data_clean.Time.replace(to_replace = 'Afternoon', value ='18h30',regex=True)"
   ]
  },
  {
   "cell_type": "code",
   "execution_count": 226,
   "metadata": {},
   "outputs": [],
   "source": [
    "data_clean.Time = data_clean.Time.replace(to_replace = 'Dusk', value ='07h30',regex=True) "
   ]
  },
  {
   "cell_type": "code",
   "execution_count": 227,
   "metadata": {},
   "outputs": [],
   "source": [
    "data_clean.Time = data_clean.Time.replace(to_replace = 'Late afternoon', value ='20h00',regex=True)"
   ]
  },
  {
   "cell_type": "code",
   "execution_count": 228,
   "metadata": {},
   "outputs": [],
   "source": [
    "data_clean.Time = data_clean.Time.replace(to_replace = 'Evening', value ='20h00')"
   ]
  },
  {
   "cell_type": "code",
   "execution_count": 229,
   "metadata": {},
   "outputs": [],
   "source": [
    "data_clean.Time = data_clean.Time.replace(to_replace = 'Late afternoon', value ='19h30')"
   ]
  },
  {
   "cell_type": "code",
   "execution_count": 230,
   "metadata": {},
   "outputs": [],
   "source": [
    "data_clean.Time = data_clean.Time.replace(to_replace = 'Midday', value ='12h00')"
   ]
  },
  {
   "cell_type": "code",
   "execution_count": 231,
   "metadata": {},
   "outputs": [],
   "source": [
    "data_clean.Time = data_clean.Time.replace(to_replace = 'Midnight', value ='00h00')"
   ]
  },
  {
   "cell_type": "code",
   "execution_count": 232,
   "metadata": {},
   "outputs": [],
   "source": [
    "data_clean.Time = data_clean.Time.replace(to_replace = 'Morning', value ='08h30', regex=True)"
   ]
  },
  {
   "cell_type": "code",
   "execution_count": 233,
   "metadata": {},
   "outputs": [],
   "source": [
    "data_clean.Time = data_clean.Time.replace(to_replace = 'Night', value ='21h30')"
   ]
  },
  {
   "cell_type": "code",
   "execution_count": 234,
   "metadata": {},
   "outputs": [],
   "source": [
    "data_clean.Time = data_clean.Time.replace(to_replace = r'(\\/\\w*)', value ='', regex = True )"
   ]
  },
  {
   "cell_type": "code",
   "execution_count": 235,
   "metadata": {},
   "outputs": [],
   "source": [
    "data_clean.Time = data_clean.Time.replace(to_replace = '13h345', value ='13h45')"
   ]
  },
  {
   "cell_type": "code",
   "execution_count": 236,
   "metadata": {},
   "outputs": [],
   "source": [
    "data_clean.Time = data_clean.Time.replace(to_replace = '15h00j', value ='15h00')"
   ]
  },
  {
   "cell_type": "code",
   "execution_count": 237,
   "metadata": {},
   "outputs": [],
   "source": [
    "data_clean.Time = data_clean.Time.replace(to_replace = '0830', value ='08h30')"
   ]
  },
  {
   "cell_type": "code",
   "execution_count": 238,
   "metadata": {},
   "outputs": [],
   "source": [
    "data_clean.Time = data_clean.Time.replace(to_replace = '11h115', value ='11h15')"
   ]
  },
  {
   "cell_type": "code",
   "execution_count": 239,
   "metadata": {},
   "outputs": [],
   "source": [
    "data_clean.Time = data_clean.Time.replace(to_replace = '06j00', value ='06h00')"
   ]
  },
  {
   "cell_type": "code",
   "execution_count": 240,
   "metadata": {},
   "outputs": [],
   "source": [
    "data_clean.Time = data_clean.Time.replace(to_replace = r'(\\<*)', value ='', regex = True )"
   ]
  },
  {
   "cell_type": "code",
   "execution_count": 241,
   "metadata": {},
   "outputs": [],
   "source": [
    "data_clean.Time = data.Time.replace(to_replace = r'(\\>*)', value ='', regex = True )"
   ]
  },
  {
   "cell_type": "code",
   "execution_count": 242,
   "metadata": {},
   "outputs": [],
   "source": [
    "data_clean.Time = data_clean.Time.replace(to_replace = 'fall', value ='', regex = True )"
   ]
  },
  {
   "cell_type": "code",
   "execution_count": 296,
   "metadata": {},
   "outputs": [],
   "source": [
    "data_clean.Time = data_clean.Time.replace(to_replace = 'nig:t', value ='Unknown')"
   ]
  },
  {
   "cell_type": "code",
   "execution_count": 287,
   "metadata": {},
   "outputs": [],
   "source": [
    "def clean_time(row):\n",
    "    if isinstance(row['Time'],str) and len(row['Time']) == 5:\n",
    "        return row['Time']\n",
    "    else:\n",
    "        return 'Unknown'"
   ]
  },
  {
   "cell_type": "code",
   "execution_count": 330,
   "metadata": {},
   "outputs": [],
   "source": [
    "data_clean['Time'] = data_clean.apply(lambda row: clean_time(row),axis=1)"
   ]
  },
  {
   "cell_type": "markdown",
   "metadata": {},
   "source": [
    "### Activity "
   ]
  },
  {
   "cell_type": "code",
   "execution_count": 186,
   "metadata": {},
   "outputs": [],
   "source": [
    "def define_activity(row):\n",
    "    if \"swimming\" in row['Activity'].lower():\n",
    "        return \"swimming\"\n",
    "    elif \"bath\" in row['Activity'].lower() or \"standing\" in row['Activity'].lower() or \"floating\" in row['Activity'].lower() or \"splash\" in row['Activity'].lower() or \"play\" in row['Activity'].lower():\n",
    "        return \"bathing\"\n",
    "    elif \"snorkel\" in row['Activity'].lower():\n",
    "        return \"snorkelling\"\n",
    "    elif \"kite\" in row['Activity'].lower(): \n",
    "        return \"kite surfing\"\n",
    "    elif \"boogie\" in row['Activity'].lower():\n",
    "        return \"boogie boarding\"\n",
    "    elif \"dive\" in row['Activity'].lower() or \"diving\" in row['Activity'].lower():\n",
    "        return \"diving\"\n",
    "    elif \"fishing\" in row['Activity'].lower() or \"hunting\" in row['Activity'].lower() or \"Killing\" in row['Activity'].lower() or \"collecting\" in row['Activity'].lower() or \"crabbing\" in row['Activity'].lower():\n",
    "        return \"fishing\"\n",
    "    elif \"kayak\" in row['Activity'].lower() or \"canoe\" in row['Activity'].lower():\n",
    "        return \"kayaking/canoeing\"\n",
    "    elif \"surf\" in row['Activity'].lower():\n",
    "        return \"surfing\"\n",
    "    elif \"cage\" in row['Activity'].lower():\n",
    "        return \"cage diving\"\n",
    "    elif \"diving\" in row['Activity'].lower() or \"dived\" in row['Activity'].lower() or \"dive\" in row['Activity'].lower():\n",
    "        return \"diving\"\n",
    "    elif \"film\" in row['Activity'].lower():\n",
    "        return \"filming\"\n",
    "    elif \"capsize\" in row['Activity'].lower() or \"disaster\" in row['Activity'].lower() or \"adrift\" in row['Activity'].lower() or \"wreck\" in row['Activity'].lower() or \"fell\" in row['Activity'].lower():\n",
    "        return \"sea accident\"\n",
    "    elif \"air\" in row['Activity'].lower():\n",
    "        return \"airplane accident\"\n",
    "    elif \"body board\" in row['Activity'].lower() or \"bodyboarding\" in row['Activity'].lower():\n",
    "        return \"body boarding\"\n",
    "    elif \"feed\" in row['Activity'].lower():\n",
    "        return \"feeding\"\n",
    "    else: \n",
    "        return \"other\""
   ]
  },
  {
   "cell_type": "code",
   "execution_count": 237,
   "metadata": {},
   "outputs": [],
   "source": [
    "data_clean['activity'] = data_clean.apply(lambda row: define_activity(row), axis=1)"
   ]
  },
  {
   "cell_type": "markdown",
   "metadata": {},
   "source": [
    "### Sex"
   ]
  },
  {
   "cell_type": "code",
   "execution_count": 23,
   "metadata": {},
   "outputs": [],
   "source": [
    "conditions = [\n",
    "    (data.isin({\"Sex\":[\"M\"]}))\n",
    "]\n",
    "\n",
    "values = [\"MALE\"]\n",
    "data['test'] = np.select(conditions, values)"
   ]
  },
  {
   "cell_type": "code",
   "execution_count": 322,
   "metadata": {},
   "outputs": [],
   "source": [
    "data_clean.Sex = data_clean.Sex.str.rstrip()"
   ]
  },
  {
   "cell_type": "code",
   "execution_count": 238,
   "metadata": {},
   "outputs": [],
   "source": [
    "data_clean.Sex= data_clean.Sex.replace(to_replace = ['N','M x 2'], value ='M')"
   ]
  },
  {
   "cell_type": "code",
   "execution_count": 239,
   "metadata": {},
   "outputs": [],
   "source": [
    "data_clean.Sex= data_clean.Sex.replace(to_replace = 'lli', value ='Unknown')"
   ]
  },
  {
   "cell_type": "code",
   "execution_count": 240,
   "metadata": {},
   "outputs": [],
   "source": [
    "data_clean.Sex= data_clean.Sex.replace(to_replace = '.', value ='Unknown')"
   ]
  },
  {
   "cell_type": "markdown",
   "metadata": {},
   "source": [
    "### Fatal"
   ]
  },
  {
   "cell_type": "code",
   "execution_count": 241,
   "metadata": {},
   "outputs": [],
   "source": [
    "data_clean.rename(columns={\"Fatal (Y/N)\":\"Fatal\"},inplace=True)"
   ]
  },
  {
   "cell_type": "code",
   "execution_count": 242,
   "metadata": {},
   "outputs": [],
   "source": [
    "data_clean.Fatal = data_clean.Fatal.replace(to_replace = ['M','n', 'Nq','F'], value = 'N' )\n",
    "data_clean.Fatal = data_clean.Fatal.replace(to_replace = ['y','Y x 2'], value = 'Y' )\n",
    "data_clean.Fatal = data_clean.Fatal.replace(to_replace = ['2017','2017.0'], value = 'Unknown' )"
   ]
  },
  {
   "cell_type": "code",
   "execution_count": 243,
   "metadata": {},
   "outputs": [],
   "source": [
    "data_clean.Fatal = data_clean.Fatal.replace(to_replace = ['y','Y x 2'], value = 'Y' )"
   ]
  },
  {
   "cell_type": "code",
   "execution_count": 244,
   "metadata": {},
   "outputs": [],
   "source": [
    "data_clean.Fatal = data_clean.Fatal.replace(to_replace = ['2017','2017.0'], value = 'Unknown' )"
   ]
  },
  {
   "cell_type": "code",
   "execution_count": 245,
   "metadata": {},
   "outputs": [],
   "source": [
    "data_clean.Fatal = data_clean.Fatal.replace(to_replace = 'UNKNOWN', value = 'Unknown' )"
   ]
  },
  {
   "cell_type": "code",
   "execution_count": 246,
   "metadata": {},
   "outputs": [
    {
     "data": {
      "text/plain": [
       "['N', 'Y', 'Unknown']"
      ]
     },
     "execution_count": 246,
     "metadata": {},
     "output_type": "execute_result"
    }
   ],
   "source": [
    "list(data_clean.Fatal.unique())"
   ]
  },
  {
   "cell_type": "markdown",
   "metadata": {},
   "source": [
    "### Species"
   ]
  },
  {
   "cell_type": "code",
   "execution_count": 247,
   "metadata": {},
   "outputs": [],
   "source": [
    "data_clean.Species = data_clean.Species.str.lstrip()"
   ]
  },
  {
   "cell_type": "code",
   "execution_count": 248,
   "metadata": {},
   "outputs": [],
   "source": [
    "data_clean.Species = data_clean.Species.replace(to_replace = r'\\d.\\d \\w|\\[.*]', value = '', regex = True)"
   ]
  },
  {
   "cell_type": "code",
   "execution_count": 249,
   "metadata": {},
   "outputs": [],
   "source": [
    "data_clean.Species = data_clean.Species.replace(to_replace = \"\\['] |\\[] |A |a |m |kg |-lb|\\[' ']|\\['  ']|\\[ ']|\\[']|\\[. ']|\\[.]|\\[]|\\' ' |\\\\' |\\' |>m|to\", value='', regex=True)"
   ]
  },
  {
   "cell_type": "code",
   "execution_count": 250,
   "metadata": {},
   "outputs": [],
   "source": [
    "sharks = ['White shark','Sandtiger shark','Tiger shark','Lemon shark', 'Blacktip shark', 'Blacktail reef shark',\n",
    "          'Blacktip reef shark', 'spinner shark','Blue nose shark','Blue pointer', 'Blue pointers', 'Blue shark',\n",
    "         'Bonitshark','Broadnose sevenguill shark', 'Bronza whaler shark', 'Bronze whaler', 'Bull shark', \n",
    "          'Caribbean reef Shark', ' Caribbean reef Shark', 'Carpet shark', 'Copper shark', 'Dog shark', 'Cow shark',\n",
    "         'Dusky shark', 'Galapagos shark', 'Grey nurse shark', 'Grey reef shark', 'Hammerhead shark',\n",
    "          'Tiger shark','Wobbegong shark','Grey nurse shark','Nurse shark','Raggedoth shark', 'Mako shark',\n",
    "         'Bronze whaler shark','Zambesi shark','Sand shark','Lemon shark','Basking shark',\n",
    "         'Oceanic whitetip shark','Angel shark']"
   ]
  },
  {
   "cell_type": "code",
   "execution_count": 251,
   "metadata": {},
   "outputs": [],
   "source": [
    "def species_column(value):\n",
    "    for species in sharks:\n",
    "        if species.lower() in value.lower():\n",
    "            return species.lower()\n",
    "        else: \n",
    "            pass\n",
    "        "
   ]
  },
  {
   "cell_type": "code",
   "execution_count": 252,
   "metadata": {},
   "outputs": [],
   "source": [
    "data_clean['shark_species'] = list(map(species_column,data_clean.Species))"
   ]
  },
  {
   "cell_type": "markdown",
   "metadata": {},
   "source": [
    "### Data checkpoint"
   ]
  },
  {
   "cell_type": "code",
   "execution_count": 438,
   "metadata": {},
   "outputs": [],
   "source": [
    "data_clean.to_csv(r'C:\\Users\\juanp\\proyectos_varios\\shark_attacks\\data\\data_clean.csv' , index = False)"
   ]
  },
  {
   "cell_type": "code",
   "execution_count": 44,
   "metadata": {},
   "outputs": [],
   "source": [
    "data = pd.read_csv('data\\\\data_clean.csv')"
   ]
  },
  {
   "cell_type": "code",
   "execution_count": 258,
   "metadata": {},
   "outputs": [],
   "source": [
    "area = data_clean[data_clean.Country.isin(['Spain', 'USA', 'Brazil', 'Mexico', \n",
    "      'Australia', 'South Africa', 'Papua New Guinea','Indonesia','New Zealanda'])]"
   ]
  },
  {
   "cell_type": "code",
   "execution_count": 259,
   "metadata": {},
   "outputs": [
    {
     "name": "stderr",
     "output_type": "stream",
     "text": [
      "C:\\Users\\juanp\\AppData\\Local\\Temp\\ipykernel_11120\\1477459638.py:53: SettingWithCopyWarning: \n",
      "A value is trying to be set on a copy of a slice from a DataFrame.\n",
      "Try using .loc[row_indexer,col_indexer] = value instead\n",
      "\n",
      "See the caveats in the documentation: https://pandas.pydata.org/pandas-docs/stable/user_guide/indexing.html#returning-a-view-versus-a-copy\n",
      "  area['area'] = area.apply(lambda row: areas(row), axis=1)\n"
     ]
    }
   ],
   "source": [
    "def areas(row):\n",
    "    if \"Abau Sub\" in row['Area']:\n",
    "        return \"Abau Sub District\"\n",
    "    elif \"Alicante\" in row['Area']:\n",
    "        return \"hardhat diving\"\n",
    "    elif \"CÃ¡diz\" in row[\"Area\"] or \"MÃ¡laga\" in row[\"Area\"] or \"Granada\" in row[\"Area\"] or \"Andalucia\" in row[\"Area\"]:\n",
    "        return \"Andalusia\"\n",
    "    elif \"Baja\" in row['Area']:\n",
    "        return \"Baja California\"\n",
    "    elif \"Balearics\" in row[\"Area\"] or \"Majorca\" in row[\"Area\"]:\n",
    "        return \"Balearic Islands\"\n",
    "    elif \"Boi\" in row[\"Area\"]:\n",
    "        return \"Boi Island\"\n",
    "    elif \"Bougainville\" in row[\"Area\"]:\n",
    "        return \"Bougainville\"\n",
    "    elif \"Catalonia\" in row[\"Area\"] or \"CastellÃ³n\" in row['Area'] or \"Costa Blanca\" in row['Area'] or \"Sants-Montjic\" in row['Area']:\n",
    "        return \"Catalunya\"\n",
    "    elif \"Galica\" in row[\"Area\"]:\n",
    "        return \"Galicia\"\n",
    "    elif \"Gran Canaria\" in row[\"Area\"] or \"Grand Canary Islan\" in row[\"Area\"] or \"Canay Islands\" in row['Area']:\n",
    "        return \"Canary Islands\"\n",
    "    elif \"Guerro\" in row[\"Area\"] or \"Guerrrero\" in row[\"Area\"]:\n",
    "        return \"Guerrero\"\n",
    "    elif \"Eastern Cape\" in row[\"Area\"]:\n",
    "        return \"Eastern Cape Province\"\n",
    "    elif \"Ibiza Island\" in row[\"Area\"]:\n",
    "        return \"Ibiza\"\n",
    "    elif \"KZN\" in row[\"Area\"] or \"KwaZulu\" in row[\"Area\"]:\n",
    "        return \"KwaZulu-Natal\"\n",
    "    elif \"Madang\" in row[\"Area\"]:\n",
    "        return \"Madang\"\n",
    "    elif \"Bismarck\" in row[\"Area\"]:\n",
    "        return \"Bismarck Archipelago\"\n",
    "    elif \"Oro\" in row[\"Area\"]:\n",
    "        return \"Oro Province\"\n",
    "    elif \"Quinta Roo\" in row[\"Area\"]:\n",
    "        return \"Quintana Roo\"\n",
    "    elif \"Rio Grande\" in row[\"Area\"]:\n",
    "        return \"Rio Grande\"\n",
    "    elif \"Cocos\" in row[\"Area\"]:\n",
    "        return \"Cocos Islands\"\n",
    "    elif \"Vera Cruz\" in row[\"Area\"]:\n",
    "        return \"Veracruz\"\n",
    "    elif \"Westerm\" in row[\"Area\"] or \"Western  Australia\"  in row[\"Area\"]:\n",
    "        return \"Western Australia\"\n",
    "    elif \"Alicante\" in row['Area'] in row[\"Area\"]:\n",
    "        return \"Alicante\"\n",
    "    elif \"New Ireland\" in row['Area']:\n",
    "        return \"New Ireland Province\"\n",
    "    else:\n",
    "        return row[\"Area\"]\n",
    "    \n",
    "area['area'] = area.apply(lambda row: areas(row), axis=1)\n",
    "    "
   ]
  },
  {
   "cell_type": "code",
   "execution_count": 260,
   "metadata": {},
   "outputs": [],
   "source": [
    "x = area.groupby(['Country','area']).agg({'area':'count'})"
   ]
  },
  {
   "cell_type": "code",
   "execution_count": 261,
   "metadata": {},
   "outputs": [],
   "source": [
    "x = x.rename(columns={'area':'accidents'}).reset_index()"
   ]
  },
  {
   "cell_type": "code",
   "execution_count": 14,
   "metadata": {},
   "outputs": [],
   "source": [
    "data.to_csv('data\\\\data_clean.csv')"
   ]
  },
  {
   "cell_type": "code",
   "execution_count": 265,
   "metadata": {},
   "outputs": [],
   "source": [
    "x.to_csv('data\\\\areas.csv', index=False)"
   ]
  },
  {
   "cell_type": "code",
   "execution_count": 266,
   "metadata": {},
   "outputs": [
    {
     "data": {
      "text/plain": [
       "(151, 3)"
      ]
     },
     "execution_count": 266,
     "metadata": {},
     "output_type": "execute_result"
    }
   ],
   "source": [
    "x.shape"
   ]
  },
  {
   "cell_type": "code",
   "execution_count": null,
   "metadata": {},
   "outputs": [],
   "source": []
  }
 ],
 "metadata": {
  "kernelspec": {
   "display_name": "Python 3 (ipykernel)",
   "language": "python",
   "name": "python3"
  },
  "language_info": {
   "codemirror_mode": {
    "name": "ipython",
    "version": 3
   },
   "file_extension": ".py",
   "mimetype": "text/x-python",
   "name": "python",
   "nbconvert_exporter": "python",
   "pygments_lexer": "ipython3",
   "version": "3.11.0"
  }
 },
 "nbformat": 4,
 "nbformat_minor": 4
}
