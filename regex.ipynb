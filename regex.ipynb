{
 "cells": [
  {
   "cell_type": "markdown",
   "metadata": {},
   "source": [
    "### Pattern replacement using REGEX"
   ]
  },
  {
   "cell_type": "markdown",
   "metadata": {},
   "source": [
    "This notebook has been created with the sole purpose of correcting the spelling mistakes that can be found in the attacks dataframe. The reason to create  this additional notebook is mainly practical, as there a lot of pattern to replace, and I have not been able to find of way of optimazing the process"
   ]
  },
  {
   "cell_type": "code",
   "execution_count": 79,
   "metadata": {},
   "outputs": [],
   "source": [
    "import pandas as pd\n",
    "import re\n",
    "import collections\n",
    "pd.set_option('display.max_rows',6000)"
   ]
  },
  {
   "cell_type": "code",
   "execution_count": 164,
   "metadata": {},
   "outputs": [],
   "source": [
    "data = pd.read_csv(\"data\\data.csv\")"
   ]
  },
  {
   "cell_type": "code",
   "execution_count": 3,
   "metadata": {},
   "outputs": [],
   "source": [
    "def counts(column):\n",
    "    '''\n",
    "    This function returns the value_counts() result of a column as a dictionary sorted by key in ascending order.\n",
    "    Easier to examine.\n",
    "    Args: the column of interest in the format of df.column or df[\"columnd\"]\n",
    "    '''\n",
    "    s = (column.value_counts())\n",
    "    dictionary =  s.to_dict()\n",
    "    return collections.OrderedDict(sorted(dictionary.items()))"
   ]
  },
  {
   "cell_type": "markdown",
   "metadata": {},
   "source": [
    "### Country"
   ]
  },
  {
   "cell_type": "code",
   "execution_count": 165,
   "metadata": {},
   "outputs": [],
   "source": [
    "data.Country = data.Country.replace(to_replace = \"CEYLON\" , value = \"SRI LANKA\" ) "
   ]
  },
  {
   "cell_type": "code",
   "execution_count": 166,
   "metadata": {},
   "outputs": [],
   "source": [
    "data.Country = data.Country.replace(to_replace = r\"\\?$\", value = \"\", regex = True)"
   ]
  },
  {
   "cell_type": "code",
   "execution_count": 167,
   "metadata": {},
   "outputs": [],
   "source": [
    "data.Country = data.Country.replace(to_replace = 'MAARTIN', value = 'MARTIN', regex = True)"
   ]
  },
  {
   "cell_type": "code",
   "execution_count": 168,
   "metadata": {},
   "outputs": [],
   "source": [
    "data.Country = data.Country.replace(to_replace = r'(\\w* \\/ .*)', value = 'UNKNOWN', regex = True)"
   ]
  },
  {
   "cell_type": "code",
   "execution_count": 169,
   "metadata": {},
   "outputs": [],
   "source": [
    "data.Country = data.Country.replace(to_replace = 'RED UNKNOWN', value = 'UNKNOWN', regex = True)"
   ]
  },
  {
   "cell_type": "code",
   "execution_count": 170,
   "metadata": {},
   "outputs": [],
   "source": [
    "data.Country = data.Country.replace(to_replace = 'SOLOMON UNKNOWN', value = 'SOLOMON ISLANDS', regex = True)"
   ]
  },
  {
   "cell_type": "markdown",
   "metadata": {},
   "source": [
    "### Time"
   ]
  },
  {
   "cell_type": "code",
   "execution_count": 171,
   "metadata": {},
   "outputs": [],
   "source": [
    "data.Time = data.Time.replace(to_replace = r'(s\\--\\s\\w{2}\\w\\w{2})', value ='UNKNOWN', regex = True )"
   ]
  },
  {
   "cell_type": "code",
   "execution_count": 172,
   "metadata": {},
   "outputs": [],
   "source": [
    "data.Time = data.Time.replace(to_replace = 'Afternoon', value ='18h30', regex = True )"
   ]
  },
  {
   "cell_type": "code",
   "execution_count": 173,
   "metadata": {},
   "outputs": [],
   "source": [
    "data.Time = data.Time.replace(to_replace = 'Dusk', value ='07h30', regex = True )"
   ]
  },
  {
   "cell_type": "code",
   "execution_count": 174,
   "metadata": {},
   "outputs": [],
   "source": [
    "data.Time = data.Time.replace(to_replace = 'Early afternoon', value ='18h00', regex = True )"
   ]
  },
  {
   "cell_type": "code",
   "execution_count": 175,
   "metadata": {},
   "outputs": [],
   "source": [
    "data.Time = data.Time.replace(to_replace = 'Evening', value ='20h00', regex = True )"
   ]
  },
  {
   "cell_type": "code",
   "execution_count": 176,
   "metadata": {},
   "outputs": [],
   "source": [
    "data.Time = data.Time.replace(to_replace = 'Late afternoon', value ='19h30', regex = True )"
   ]
  },
  {
   "cell_type": "code",
   "execution_count": 177,
   "metadata": {},
   "outputs": [],
   "source": [
    "data.Time = data.Time.replace(to_replace = 'Midday', value ='12h00', regex=True )"
   ]
  },
  {
   "cell_type": "code",
   "execution_count": 178,
   "metadata": {},
   "outputs": [],
   "source": [
    "data.Time = data.Time.replace(to_replace = 'Midnight', value ='00h00', regex = True )"
   ]
  },
  {
   "cell_type": "code",
   "execution_count": 179,
   "metadata": {},
   "outputs": [],
   "source": [
    "data.Time = data.Time.replace(to_replace = 'Morning', value ='08h30', regex = True )"
   ]
  },
  {
   "cell_type": "code",
   "execution_count": 180,
   "metadata": {},
   "outputs": [],
   "source": [
    "data.Time = data.Time.replace(to_replace = 'Night', value ='21h30', regex = True )"
   ]
  },
  {
   "cell_type": "code",
   "execution_count": 181,
   "metadata": {},
   "outputs": [],
   "source": [
    "data.Time = data.Time.replace(to_replace = r'(\\/\\w*)', value ='', regex = True )"
   ]
  },
  {
   "cell_type": "code",
   "execution_count": 182,
   "metadata": {},
   "outputs": [],
   "source": [
    "data.Time = data.Time.replace(to_replace = '13h345', value ='13h45', regex = True )"
   ]
  },
  {
   "cell_type": "code",
   "execution_count": 183,
   "metadata": {},
   "outputs": [],
   "source": [
    "data.Time = data.Time.replace(to_replace = '15h00j', value ='15h00', regex = True )"
   ]
  },
  {
   "cell_type": "code",
   "execution_count": 184,
   "metadata": {},
   "outputs": [],
   "source": [
    "data.Time = data.Time.replace(to_replace = '0830', value ='08h30', regex = True )"
   ]
  },
  {
   "cell_type": "code",
   "execution_count": 185,
   "metadata": {},
   "outputs": [],
   "source": [
    "data.Time = data.Time.replace(to_replace = '11h115', value ='11h15', regex = True )"
   ]
  },
  {
   "cell_type": "code",
   "execution_count": 186,
   "metadata": {},
   "outputs": [],
   "source": [
    "data.Time = data.Time.replace(to_replace = '06j00', value ='06h00', regex = True )"
   ]
  },
  {
   "cell_type": "code",
   "execution_count": 187,
   "metadata": {},
   "outputs": [],
   "source": [
    "data.Time = data.Time.replace(to_replace = r'(\\<*)', value ='', regex = True )"
   ]
  },
  {
   "cell_type": "code",
   "execution_count": 188,
   "metadata": {},
   "outputs": [],
   "source": [
    "data.Time = data.Time.replace(to_replace = r'(\\>*)', value ='', regex = True )"
   ]
  },
  {
   "cell_type": "code",
   "execution_count": 189,
   "metadata": {},
   "outputs": [],
   "source": [
    "data.Time = data.Time.replace(to_replace = r'h', value =':', regex = True )"
   ]
  },
  {
   "cell_type": "code",
   "execution_count": 190,
   "metadata": {},
   "outputs": [],
   "source": [
    "data.Time = data.Time.replace(to_replace = 'fall', value ='', regex = True )"
   ]
  },
  {
   "cell_type": "markdown",
   "metadata": {},
   "source": [
    "### Type"
   ]
  },
  {
   "cell_type": "code",
   "execution_count": 191,
   "metadata": {},
   "outputs": [],
   "source": [
    "data.Type = data.Type.replace(to_replace = 'Boating', value = 'Boat')"
   ]
  },
  {
   "cell_type": "code",
   "execution_count": 192,
   "metadata": {},
   "outputs": [],
   "source": [
    "data.Type = data.Type.replace(to_replace = 'Boatomg', value = 'Boat')"
   ]
  },
  {
   "cell_type": "code",
   "execution_count": 193,
   "metadata": {},
   "outputs": [],
   "source": [
    "data.Type = data.Type.replace(to_replace = 'Questionable', value = 'Unknown')"
   ]
  },
  {
   "cell_type": "code",
   "execution_count": 194,
   "metadata": {},
   "outputs": [
    {
     "data": {
      "text/plain": [
       "Unprovoked      4594\n",
       "Provoked         574\n",
       "Invalid          547\n",
       "Boat             341\n",
       "Sea Disaster     239\n",
       "Unknown            6\n",
       "Name: Type, dtype: int64"
      ]
     },
     "execution_count": 194,
     "metadata": {},
     "output_type": "execute_result"
    }
   ],
   "source": [
    "data.Type.value_counts()"
   ]
  },
  {
   "cell_type": "markdown",
   "metadata": {},
   "source": [
    "### Activity "
   ]
  },
  {
   "cell_type": "code",
   "execution_count": 195,
   "metadata": {},
   "outputs": [],
   "source": [
    "data.Activity= data.Activity.replace(to_replace = r'\\s(\\w*\\s)*\\w*', value ='', regex = True )"
   ]
  },
  {
   "cell_type": "code",
   "execution_count": 196,
   "metadata": {},
   "outputs": [],
   "source": [
    "data.Activity= data.Activity.replace(to_replace = r'(\\-\\w*)+', value ='', regex = True )"
   ]
  },
  {
   "cell_type": "code",
   "execution_count": 197,
   "metadata": {},
   "outputs": [],
   "source": [
    "data.Activity= data.Activity.replace(to_replace = 'Surf', value ='Surfing', regex = True )"
   ]
  },
  {
   "cell_type": "code",
   "execution_count": 198,
   "metadata": {},
   "outputs": [],
   "source": [
    "data.Activity= data.Activity.replace(to_replace = 'Body', value ='Surfing', regex = True )"
   ]
  },
  {
   "cell_type": "code",
   "execution_count": 199,
   "metadata": {},
   "outputs": [],
   "source": [
    "data.Activity= data.Activity.replace(to_replace = 'Surfinging', value ='Surfing', regex = True )"
   ]
  },
  {
   "cell_type": "code",
   "execution_count": 200,
   "metadata": {},
   "outputs": [],
   "source": [
    "data.Activity= data.Activity.replace(to_replace = 'Surfingsitting', value ='Surfing', regex = True )"
   ]
  },
  {
   "cell_type": "code",
   "execution_count": 201,
   "metadata": {},
   "outputs": [],
   "source": [
    "data.Activity= data.Activity.replace(to_replace = 'Windsurfing', value ='Surfing', regex = True )"
   ]
  },
  {
   "cell_type": "code",
   "execution_count": 202,
   "metadata": {},
   "outputs": [],
   "source": [
    "data.Activity= data.Activity.replace(to_replace = 'Paddling', value ='Surfing', regex = True )"
   ]
  },
  {
   "cell_type": "code",
   "execution_count": 203,
   "metadata": {},
   "outputs": [],
   "source": [
    "data.Activity= data.Activity.replace(to_replace = 'Paddle', value ='Surfing', regex = True )"
   ]
  },
  {
   "cell_type": "code",
   "execution_count": 204,
   "metadata": {},
   "outputs": [],
   "source": [
    "data.Activity= data.Activity.replace(to_replace = r'Kayak', value ='Kayaking', regex = True )"
   ]
  },
  {
   "cell_type": "code",
   "execution_count": 205,
   "metadata": {},
   "outputs": [],
   "source": [
    "data.Activity= data.Activity.replace(to_replace = 'Kayakinging', value ='Kayaking', regex = True )"
   ]
  },
  {
   "cell_type": "code",
   "execution_count": 206,
   "metadata": {},
   "outputs": [],
   "source": [
    "data.Activity= data.Activity.replace(to_replace = 'Freedom', value ='Swimming', regex = True )"
   ]
  },
  {
   "cell_type": "code",
   "execution_count": 207,
   "metadata": {},
   "outputs": [],
   "source": [
    "data.Activity= data.Activity.replace(to_replace = 'Scuba', value ='Diving', regex = True )"
   ]
  },
  {
   "cell_type": "code",
   "execution_count": 208,
   "metadata": {},
   "outputs": [],
   "source": [
    "data.Activity= data.Activity.replace(to_replace = 'Dived', value ='Diving', regex = True )"
   ]
  },
  {
   "cell_type": "code",
   "execution_count": 209,
   "metadata": {},
   "outputs": [],
   "source": [
    "data.Activity= data.Activity.replace(to_replace = 'Divingdiving', value ='Diving', regex = True )"
   ]
  },
  {
   "cell_type": "code",
   "execution_count": 210,
   "metadata": {},
   "outputs": [],
   "source": [
    "data.Activity= data.Activity.replace(to_replace = 'Divingbut', value ='Diving', regex = True )"
   ]
  },
  {
   "cell_type": "code",
   "execution_count": 211,
   "metadata": {},
   "outputs": [],
   "source": [
    "data.Activity= data.Activity.replace(to_replace = 'Pearl', value ='Diving', regex = True )"
   ]
  },
  {
   "cell_type": "code",
   "execution_count": 212,
   "metadata": {},
   "outputs": [],
   "source": [
    "data.Activity= data.Activity.replace(to_replace = 'Floating', value ='Bathing', regex = True )"
   ]
  },
  {
   "cell_type": "code",
   "execution_count": 213,
   "metadata": {},
   "outputs": [],
   "source": [
    "data.Activity= data.Activity.replace(to_replace = 'boat', value ='Boating', regex = True )"
   ]
  },
  {
   "cell_type": "code",
   "execution_count": 214,
   "metadata": {},
   "outputs": [],
   "source": [
    "data.Activity= data.Activity.replace(to_replace = 'Boat', value ='Boating', regex = True )"
   ]
  },
  {
   "cell_type": "code",
   "execution_count": 215,
   "metadata": {},
   "outputs": [],
   "source": [
    "data.Activity= data.Activity.replace(to_replace = 'Boatinging', value ='Boating', regex = True )"
   ]
  },
  {
   "cell_type": "code",
   "execution_count": 216,
   "metadata": {},
   "outputs": [],
   "source": [
    "data.Activity= data.Activity.replace(to_replace = 'Sailing', value ='Boating', regex = True )"
   ]
  },
  {
   "cell_type": "markdown",
   "metadata": {},
   "source": [
    "### Sex"
   ]
  },
  {
   "cell_type": "code",
   "execution_count": 218,
   "metadata": {},
   "outputs": [],
   "source": [
    "data.rename(columns={\"Sex \":\"Sex\"}, inplace=True)"
   ]
  },
  {
   "cell_type": "code",
   "execution_count": 219,
   "metadata": {},
   "outputs": [],
   "source": [
    "data.Sex = data.Sex.str.rstrip()"
   ]
  },
  {
   "cell_type": "code",
   "execution_count": 220,
   "metadata": {},
   "outputs": [],
   "source": [
    "data.Sex= data.Sex.replace(to_replace = 'N', value ='M')"
   ]
  },
  {
   "cell_type": "code",
   "execution_count": 221,
   "metadata": {},
   "outputs": [],
   "source": [
    "data.Sex= data.Sex.replace(to_replace = 'lli', value ='Unknown')"
   ]
  },
  {
   "cell_type": "code",
   "execution_count": 222,
   "metadata": {},
   "outputs": [],
   "source": [
    "data.Sex= data.Sex.replace(to_replace = '.', value ='Unknown')"
   ]
  },
  {
   "cell_type": "markdown",
   "metadata": {},
   "source": [
    "### Fatal"
   ]
  },
  {
   "cell_type": "code",
   "execution_count": 223,
   "metadata": {},
   "outputs": [],
   "source": [
    "data.rename(columns={\"Fatal (Y/N)\":\"Fatal\"},inplace=True)"
   ]
  },
  {
   "cell_type": "code",
   "execution_count": 224,
   "metadata": {},
   "outputs": [],
   "source": [
    "data.Fatal = data.Fatal.replace(to_replace = 'M', value = 'N' )"
   ]
  },
  {
   "cell_type": "code",
   "execution_count": 225,
   "metadata": {},
   "outputs": [],
   "source": [
    "data.Fatal = data.Fatal.replace(to_replace = 'y', value = 'Y' )"
   ]
  },
  {
   "cell_type": "code",
   "execution_count": 226,
   "metadata": {},
   "outputs": [],
   "source": [
    "data.Fatal = data.Fatal.replace(to_replace = '2017', value = 'Unknown' )"
   ]
  },
  {
   "cell_type": "code",
   "execution_count": 227,
   "metadata": {},
   "outputs": [],
   "source": [
    "data.Fatal = data.Fatal.replace(to_replace = 'UNKNOWN', value = 'Unknown' )"
   ]
  },
  {
   "cell_type": "markdown",
   "metadata": {},
   "source": [
    "### Case Number"
   ]
  },
  {
   "cell_type": "code",
   "execution_count": 228,
   "metadata": {},
   "outputs": [],
   "source": [
    "data.rename(columns={\"Case Number\":\"Case_Number\"},inplace=True)"
   ]
  },
  {
   "cell_type": "code",
   "execution_count": 229,
   "metadata": {},
   "outputs": [],
   "source": [
    "data.Case_Number = data.Case_Number.replace(to_replace = r'(\\.\\w$)', value = '', regex = True)"
   ]
  },
  {
   "cell_type": "code",
   "execution_count": 230,
   "metadata": {},
   "outputs": [],
   "source": [
    "data.Case_Number = data.Case_Number.replace(to_replace = r'\\.[A-Z]\\w', value = '', regex = True)"
   ]
  },
  {
   "cell_type": "code",
   "execution_count": 231,
   "metadata": {},
   "outputs": [],
   "source": [
    "data.Case_Number = data.Case_Number.replace(to_replace = r'\\.[A-Z]|[a-z]', value = '', regex = True)"
   ]
  },
  {
   "cell_type": "code",
   "execution_count": 232,
   "metadata": {},
   "outputs": [],
   "source": [
    "data.Case_Number = data.Case_Number.replace(to_replace = r'\\.$', value = '', regex = True)"
   ]
  },
  {
   "cell_type": "code",
   "execution_count": 233,
   "metadata": {},
   "outputs": [],
   "source": [
    "data.Case_Number = data.Case_Number.replace(to_replace = r'\\.\\ \\&', value = '', regex = True)"
   ]
  },
  {
   "cell_type": "code",
   "execution_count": 234,
   "metadata": {},
   "outputs": [],
   "source": [
    "data.Case_Number = data.Case_Number.replace(to_replace = r'\\/', value = '', regex = True)"
   ]
  },
  {
   "cell_type": "code",
   "execution_count": 235,
   "metadata": {},
   "outputs": [],
   "source": [
    "data.Case_Number = data.Case_Number.replace(to_replace = r'(\\.|-)\\w?$', value = '', regex = True)"
   ]
  },
  {
   "cell_type": "markdown",
   "metadata": {},
   "source": [
    "### Injury"
   ]
  },
  {
   "cell_type": "markdown",
   "metadata": {},
   "source": [
    "The information in the **Injury** column is very complicated to work with as there are a series of cells that have long texts written on them. However, it is possible to extract those incidents that were **FATAL** due to shark attacks. "
   ]
  },
  {
   "cell_type": "code",
   "execution_count": 95,
   "metadata": {},
   "outputs": [],
   "source": [
    "fatal = ['FATAL']\n",
    "\n",
    "def fatal_column(value):\n",
    "    for incident in fatal: \n",
    "        if incident.lower() in value.lower():\n",
    "            return 'FATAL' "
   ]
  },
  {
   "cell_type": "markdown",
   "metadata": {},
   "source": [
    "With this function it is possible to create a categorization column based on words or patterns from other columns. In this case the weord used is **FATAL**"
   ]
  },
  {
   "cell_type": "code",
   "execution_count": 96,
   "metadata": {},
   "outputs": [],
   "source": [
    "data['fatal_injury'] = list(map(fatal_column, data.Injury))"
   ]
  },
  {
   "cell_type": "markdown",
   "metadata": {},
   "source": [
    "### Species"
   ]
  },
  {
   "cell_type": "code",
   "execution_count": 267,
   "metadata": {},
   "outputs": [],
   "source": [
    "data.Species = data.Species.str.lstrip()"
   ]
  },
  {
   "cell_type": "code",
   "execution_count": 253,
   "metadata": {},
   "outputs": [],
   "source": [
    "data.Species = data.Species.replace(to_replace = r'\"', value = '', regex = True)"
   ]
  },
  {
   "cell_type": "code",
   "execution_count": 240,
   "metadata": {},
   "outputs": [],
   "source": [
    "data.Species = data.Species.replace(to_replace = r'\\d.', value='', regex=True)"
   ]
  },
  {
   "cell_type": "code",
   "execution_count": 241,
   "metadata": {},
   "outputs": [],
   "source": [
    "data.Species = data.Species.replace(to_replace = r'\\ m', value='', regex=True)"
   ]
  },
  {
   "cell_type": "code",
   "execution_count": 242,
   "metadata": {},
   "outputs": [],
   "source": [
    "data.Species = data.Species.replace(to_replace = r'to\\s*', value='', regex=True)"
   ]
  },
  {
   "cell_type": "code",
   "execution_count": 251,
   "metadata": {},
   "outputs": [],
   "source": [
    "data.Species = data.Species.replace(to_replace = r\"\\['] |\\[] |A |a |m |kg |-lb|\\[' ']|\\['  ']|\\[ ']|\\[']|\\[. ']|\\[.]|\\[]|\\' ' |\\\\' |\\' |>m|\", value='', regex=True)"
   ]
  },
  {
   "cell_type": "code",
   "execution_count": 94,
   "metadata": {},
   "outputs": [],
   "source": [
    "sharks = ['White shark','Tiger shark','Lemon shark', 'Blacktip shark', 'Blacktail reef shark',\n",
    "          'Blacktip reef shark', 'spinner shark','Blue nose shark','Blue pointer', 'Blue pointers', 'Blue shark',\n",
    "         'Bonitshark','Broadnose sevenguill shark', 'Bronza whaler shark', 'Bronze whaler', 'Bull shark', \n",
    "          'Caribbean reef Shark', ' Caribbean reef Shark', 'Carpet shark', 'Copper shark', 'Dog shark', 'Cow shark',\n",
    "         'Dusky shark', 'Galapagos shark', 'Grey nurse shark', 'Grey reef shark', 'Hammerhead shark',\n",
    "          'Tiger shark','Wobbegong shark','Grey nurse shark','Nurse shark','Raggedoth shark', 'Mako shark',\n",
    "         'Bronze whaler shark','Zambesi shark','Sand shark','Lemon shark','Basking shark','Sandtiger shark',\n",
    "         'Oceanic whitetip shark','Angel shark']"
   ]
  },
  {
   "cell_type": "code",
   "execution_count": 98,
   "metadata": {},
   "outputs": [],
   "source": [
    "def species_column(value):\n",
    "    for species in sharks:\n",
    "        if species.lower() in value.lower():\n",
    "            return species.lower()\n",
    "        else: \n",
    "            pass\n",
    "        "
   ]
  },
  {
   "cell_type": "code",
   "execution_count": 99,
   "metadata": {},
   "outputs": [],
   "source": [
    "data['shark_species'] = list(map(species_column,data.Species))"
   ]
  },
  {
   "cell_type": "code",
   "execution_count": 102,
   "metadata": {},
   "outputs": [
    {
     "data": {
      "text/plain": [
       "white shark               635\n",
       "tiger shark               285\n",
       "bull shark                174\n",
       "blacktip shark             64\n",
       "bronze whaler              64\n",
       "nurse shark                57\n",
       "wobbegong shark            46\n",
       "mako shark                 44\n",
       "hammerhead shark           44\n",
       "raggedoth shark            43\n",
       "spinner shark              43\n",
       "blue shark                 41\n",
       "grey nurse shark           39\n",
       "lemon shark                37\n",
       "zambesi shark              29\n",
       "oceanic whitetip shark     23\n",
       "sand shark                 18\n",
       "grey reef shark            17\n",
       "caribbean reef shark       16\n",
       "dusky shark                14\n",
       "blacktip reef shark        12\n",
       "carpet shark                8\n",
       "galapagos shark             7\n",
       "blue pointer                7\n",
       "basking shark               7\n",
       "angel shark                 6\n",
       "dog shark                   6\n",
       "copper shark                5\n",
       "cow shark                   2\n",
       "blue nose shark             2\n",
       "blacktail reef shark        1\n",
       "bonitshark                  1\n",
       "Name: shark_species, dtype: int64"
      ]
     },
     "execution_count": 102,
     "metadata": {},
     "output_type": "execute_result"
    }
   ],
   "source": [
    "data.shark_species.value_counts()"
   ]
  },
  {
   "cell_type": "markdown",
   "metadata": {},
   "source": [
    "### Data checkpoint"
   ]
  },
  {
   "cell_type": "code",
   "execution_count": 104,
   "metadata": {},
   "outputs": [],
   "source": [
    "data.to_csv(r'C:\\Users\\juanp\\proyectos_varios\\shark_attacks\\data\\data_regex.csv' , index = True)"
   ]
  },
  {
   "cell_type": "code",
   "execution_count": 106,
   "metadata": {},
   "outputs": [
    {
     "data": {
      "text/plain": [
       "Surfing                       1196\n",
       "Swimming                      1029\n",
       "Unknown                        546\n",
       "Fishing                        535\n",
       "Spearfishing                   354\n",
       "Diving                         330\n",
       "Bathing                        220\n",
       "Wading                         155\n",
       "Standing                       115\n",
       "Snorkeling                      90\n",
       "Fell                            66\n",
       "Free                            54\n",
       "Kayaking                        51\n",
       "Boogie                          46\n",
       "Boating                         41\n",
       "Treading                        35\n",
       "Fishing,                        32\n",
       "Attempting                      28\n",
       "Shark                           25\n",
       "Walking                         24\n",
       "Jumped                          22\n",
       "Playing                         20\n",
       "Sitting                         19\n",
       "Wreck                           18\n",
       "Rowing                          17\n",
       "Surfing,                        17\n",
       "Swimming,                       17\n",
       "Spearfishing,                   17\n",
       "The                             17\n",
       "Swimming/                       17\n",
       "Kite                            16\n",
       "Sea                             15\n",
       "Diving,                         15\n",
       "Spearfishing/                   13\n",
       "Washing                         13\n",
       "Canoeing                        13\n",
       "Collecting                      12\n",
       "Sponge                          11\n",
       "Freediving                      11\n",
       "Wade                            10\n",
       "Diving&                         10\n",
       "Feeding                         10\n",
       "Adrift                           9\n",
       "Free,                            8\n",
       "Splashing                        8\n",
       "Hookah                           8\n",
       "Standing,                        8\n",
       "Skindiving                       8\n",
       "Washed                           8\n",
       "Fishing,&                        7\n",
       "Surfing(sitting)                 7\n",
       "Free/                            7\n",
       "Murder                           7\n",
       "Standing/                        7\n",
       "Sea,                             7\n",
       "Removing                         7\n",
       "Stand                            6\n",
       "Jumping                          6\n",
       "Shipwreck                        6\n",
       "Hunting                          6\n",
       "Surfing/                         6\n",
       "The&                             6\n",
       "Skin                             6\n",
       "Spearfishing&                    6\n",
       "Diving(submerged)                5\n",
       "A                                5\n",
       "Swimming&                        5\n",
       "Fishing,,                        5\n",
       "Cleaning                         5\n",
       "Sinking                          5\n",
       "Diving/                          5\n",
       "Lifesaving                       5\n",
       "Kayaking/                        5\n",
       "Dangling                         5\n",
       "Fishing&                         5\n",
       "Surfingskiing                    5\n",
       "Hard                             5\n",
       "Air                              4\n",
       "Lying                            4\n",
       "Spearing                         4\n",
       "Fishing/                         4\n",
       "Escaping                         4\n",
       "Diving(but)                      4\n",
       "Surfing&                         4\n",
       "SCUBA                            4\n",
       "Knocked                          4\n",
       "Fell&                            4\n",
       "Clamming                         4\n",
       "Free&                            4\n",
       "Boating,                         4\n",
       "Dragging                         4\n",
       "Tagging                          4\n",
       "Wading,                          4\n",
       "Competing                        4\n",
       "Catching                         4\n",
       "Netting                          4\n",
       "Thrown                           4\n",
       "Shell                            4\n",
       "Seine                            4\n",
       "Pulling                          4\n",
       "SUP                              4\n",
       "Crabbing                         3\n",
       "Crayfishing                      3\n",
       "Riding                           3\n",
       "Their,000&,                      3\n",
       "Aircraft                         3\n",
       "In                               3\n",
       "Went                             3\n",
       "Working                          3\n",
       "Helping                          3\n",
       "Suicide                          3\n",
       "Canoe                            3\n",
       "Sculling                         3\n",
       "Spearfishing/(at)                3\n",
       ".                                3\n",
       "Night                            3\n",
       "American                         3\n",
       "Swept                            3\n",
       "Crossing                         3\n",
       "Spearfishing(free)               3\n",
       "Photographing                    3\n",
       "Launching                        3\n",
       "Finning                          3\n",
       "Touching                         3\n",
       "Shipwrecked                      3\n",
       "Fishing'                         3\n",
       "Rescuing                         2\n",
       "Filming                          2\n",
       "Abandoning                       2\n",
       "Boogie/                          2\n",
       "Parachuted                       2\n",
       "Chumming                         2\n",
       "Motor                            2\n",
       "Kitesurfing                      2\n",
       "Snorkeling,                      2\n",
       "Testing                          2\n",
       "The,,                            2\n",
       "Hauling                          2\n",
       "Trailing                         2\n",
       "Beach                            2\n",
       "Hardhat                          2\n",
       "Net,                             2\n",
       "Ocean                            2\n",
       "Five..5                          2\n",
       "Spearfishing(but)                2\n",
       "Fishing(trolling)                2\n",
       "Surfing(or)                      2\n",
       "British                          2\n",
       "S2N,.H.&.G.                      2\n",
       "Lobster                          2\n",
       "Diving(at)                       2\n",
       "Taking&                          2\n",
       "Cruising                         2\n",
       "The&.                            2\n",
       "\"Flying\"                         2\n",
       "Air/Sea                          2\n",
       "On                               2\n",
       "Bitten                           2\n",
       "Towing                           2\n",
       "On&                              2\n",
       "HMAS&                            2\n",
       "Fishing,'s                       2\n",
       "Resting                          2\n",
       "Yacht                            2\n",
       "Fell,                            2\n",
       "Jet                              2\n",
       "Net                              2\n",
       "Shooting                         2\n",
       "Ship&                            2\n",
       "Transatlantic                    2\n",
       "Gathering                        2\n",
       "Murdered                         2\n",
       "Diving?                          2\n",
       "Swimming,.9                      2\n",
       "U.S..&.                          2\n",
       "Hoisting                         2\n",
       "Petting                          2\n",
       "Swimming,&                       2\n",
       "Clinging                         2\n",
       "Kiteboarding                     2\n",
       "Spearfishing,,                   2\n",
       "Surfing(lying)                   2\n",
       "Hookah(submerged)                2\n",
       "Small.                           2\n",
       "Longline                         2\n",
       "Cage                             2\n",
       "Ferry                            2\n",
       "Commercial                       2\n",
       "fishing&                         2\n",
       "Free(submerged)                  2\n",
       "Killing                          2\n",
       "Helmet                           2\n",
       "Fishing(Seining)                 2\n",
       "Skindiving,                      2\n",
       "Retrieving                       2\n",
       "Playing/                         2\n",
       "Lying'                           2\n",
       "Free/,                           2\n",
       "Hand                             2\n",
       "Watching                         2\n",
       "The/6/1988,                      2\n",
       "Teasing                          2\n",
       "Treading,                        1\n",
       "Bathing,.                        1\n",
       "Scurfing(surfboard)              1\n",
       "Plane,                           1\n",
       "Drift                            1\n",
       "Deserting                        1\n",
       "Fishing(illegally)               1\n",
       "HMS                              1\n",
       "Wind                             1\n",
       "Attaching                        1\n",
       "Landing                          1\n",
       "U&                               1\n",
       "\"Swimming\"                       1\n",
       "Fishing,.                        1\n",
       "Inspecting(hooked&)              1\n",
       "Line,,,&                         1\n",
       "Sinking'.                        1\n",
       "Commercial,,&.&.                 1\n",
       "S2F                              1\n",
       "Pleasure                         1\n",
       "Fishing(Drowned)                 1\n",
       "German                           1\n",
       "On.                              1\n",
       "Oystering                        1\n",
       "Treading/                        1\n",
       "Light                            1\n",
       "Skimboarding                     1\n",
       "Vessel&,                         1\n",
       "Searching.                       1\n",
       "Shrimping                        1\n",
       "Trochus,                         1\n",
       "Canoe,                           1\n",
       "Gaffing&                         1\n",
       "ship.V.                          1\n",
       "Restraining                      1\n",
       "Photo                            1\n",
       "Boating,(normally),.             1\n",
       "S.S.,,,,                         1\n",
       "cargo                            1\n",
       "Copra                            1\n",
       "Crawling                         1\n",
       "Spearfishing,'                   1\n",
       "Greek,,                          1\n",
       "HBM                              1\n",
       "Water                            1\n",
       "Fishing/,                        1\n",
       "Goggle,                          1\n",
       "On,                              1\n",
       "Bathing''                        1\n",
       "Netting,                         1\n",
       "On'                              1\n",
       "He                               1\n",
       "Air:                             1\n",
       "He&                              1\n",
       "She&                             1\n",
       "In,                              1\n",
       "90,&,                            1\n",
       "Explosion',                      1\n",
       "Sailboarding,                    1\n",
       "Defecating                       1\n",
       "Fishing(rod&)                    1\n",
       "His,,.&                          1\n",
       "USS/24/1944.&                    1\n",
       "Surfingsurfing                   1\n",
       "Grabbed&                         1\n",
       "Spearfishing(24).,’s&            1\n",
       "Gigging                          1\n",
       "Boarding                         1\n",
       "3&                               1\n",
       "Diving.“swallowed’,“shark”       1\n",
       "Watching,                        1\n",
       "Fishing,,&                       1\n",
       "Vessel,                          1\n",
       "Reaching                         1\n",
       "Crossing,,                       1\n",
       "Attempting's                     1\n",
       "Kayaking(returning)              1\n",
       "Put                              1\n",
       "Skin.'s;&'s&                     1\n",
       "4                                1\n",
       "Survived,                        1\n",
       "Hilo                             1\n",
       "1446,..,&.(5)/12/1909            1\n",
       "Wakeboarding                     1\n",
       "Portuguese.                      1\n",
       "Snorkeling–                      1\n",
       "Fell&O                           1\n",
       "Testing,                         1\n",
       "American&                        1\n",
       "Bending                          1\n",
       "Board                            1\n",
       "Fell's                           1\n",
       "Hookah(descending)               1\n",
       "Spent                            1\n",
       "Holding&                         1\n",
       "Lost&                            1\n",
       "British&                         1\n",
       "Speared,’s..                     1\n",
       "Free&(submerged)                 1\n",
       "Freediving(at)                   1\n",
       "\"Boating\"                        1\n",
       "National                         1\n",
       "Steamer&,,&                      1\n",
       "Bathing/                         1\n",
       "H.M.S.&.M.S.Dorsetshire.&        1\n",
       "Attempted                        1\n",
       "Checking,                        1\n",
       "Gaffing                          1\n",
       "Fishing(trawling)                1\n",
       "Known:,&.                        1\n",
       "12's'                            1\n",
       "2(Jeppsen)&(13).,.’t             1\n",
       "LifeBoating                      1\n",
       "The&.’s                          1\n",
       "SS                               1\n",
       "13&                              1\n",
       "Crouching'                       1\n",
       "On\"shark\"                        1\n",
       "Steamer.&.                       1\n",
       "\"Riding\"                         1\n",
       "Filming,                         1\n",
       "Kneeling                         1\n",
       "preparing                        1\n",
       "Conch                            1\n",
       "Spear                            1\n",
       "Dismantling                      1\n",
       "Swimming.5'’                     1\n",
       "Rolled                           1\n",
       "Italian                          1\n",
       "Refused,                         1\n",
       "Spearfishing(Free)               1\n",
       "Underwater                       1\n",
       "Taken                            1\n",
       "Fishing,'                        1\n",
       "Fell&.,\"the.\"                    1\n",
       "\"Climbing\"                       1\n",
       "Setting                          1\n",
       "U.S.                             1\n",
       "\"Crossing\"                       1\n",
       "Air/Sea.                         1\n",
       "Casting                          1\n",
       "Ferry&                           1\n",
       "Cargo                            1\n",
       "Wading,&                         1\n",
       "Leicester                        1\n",
       "Longling                         1\n",
       "Wading?                          1\n",
       "Diving(Helmet)                   1\n",
       "Wading&                          1\n",
       "Kakaying                         1\n",
       "Hardhat,                         1\n",
       "Filming'                         1\n",
       "Moving                           1\n",
       "Fisherman                        1\n",
       "16',,                            1\n",
       "Attacked                         1\n",
       "USS/24/1944..                    1\n",
       "canoeing                         1\n",
       "Stamding                         1\n",
       "Trying                           1\n",
       "Fell?                            1\n",
       "Fishing&.                        1\n",
       "Two.,                            1\n",
       "Put&                             1\n",
       "Days,'.                          1\n",
       "Fishingat                        1\n",
       "Boating?                         1\n",
       "Lying&                           1\n",
       "40'                              1\n",
       "USS&/24/1944,.                   1\n",
       "Sitting's                        1\n",
       "Yacht,                           1\n",
       "Sittting                         1\n",
       "Tuna,                            1\n",
       "Abalone(near)                    1\n",
       "Overcome,'&                      1\n",
       "Canoe,,                          1\n",
       "Skindiving(but)                  1\n",
       "Snorkeling(filming)              1\n",
       "Ascending                        1\n",
       "Crew                             1\n",
       "Accidentally&                    1\n",
       "Fishing&,                        1\n",
       "His                              1\n",
       "Competing&                       1\n",
       "Fishing?                         1\n",
       "Competing/W,'                    1\n",
       "Sea:                             1\n",
       "C47,000                          1\n",
       "On,,&.,&                         1\n",
       "Small,                           1\n",
       "The,,.,.                         1\n",
       "Spearfishing,&                   1\n",
       "Boating,,                        1\n",
       "Scooping                         1\n",
       "Aircaft                          1\n",
       "Bringing,                        1\n",
       "Ship's,&                         1\n",
       "Gloucester                       1\n",
       "Inflatable                       1\n",
       "Surfing(urinating)               1\n",
       "Japanese&                        1\n",
       "Ran                              1\n",
       "Fly                              1\n",
       "Dropped                          1\n",
       "Fishing'tag&'                    1\n",
       "Flying.                          1\n",
       "After,                           1\n",
       "Dynamite                         1\n",
       "Diving&/W                        1\n",
       "Spearfishing,’s                  1\n",
       "Playing,&                        1\n",
       "Tzenny,,                         1\n",
       "British,,.                       1\n",
       "Explosion&                       1\n",
       "Crouching                        1\n",
       "Holding's                        1\n",
       "Dress,&                          1\n",
       "Diving.S.                        1\n",
       "Tech                             1\n",
       "Cargo(Aden).                     1\n",
       "Dry                              1\n",
       "Overturned                       1\n",
       "Swept.S.Frontenac                1\n",
       "Wreck/                           1\n",
       "Burning.S.                       1\n",
       "pêcheur                          1\n",
       "Aircraft,                        1\n",
       "Bathing,                         1\n",
       "Jumped&                          1\n",
       "R5D                              1\n",
       "Captured'&                       1\n",
       "Pushed's,'s                      1\n",
       "Surfing,’                        1\n",
       "Sea:.                            1\n",
       "Anti(CL,),(Battle)&,,..          1\n",
       "On,,,,,,000                      1\n",
       "Dutch,&&.,,                      1\n",
       "Hooking                          1\n",
       "2                                1\n",
       "Swept,                           1\n",
       "Boeing                           1\n",
       "Ditched&.                        1\n",
       "Wading/&                         1\n",
       "Capsized                         1\n",
       "Free,&                           1\n",
       "Boating&                         1\n",
       "Free(but)                        1\n",
       "Filming&                         1\n",
       "Surfing?                         1\n",
       "Wading/                          1\n",
       "Man.&                            1\n",
       "Free&(ascending)                 1\n",
       "B                                1\n",
       "Arsinoe,                         1\n",
       "Diving's’s                       1\n",
       "Taking                           1\n",
       "Surfing(pneumatic)               1\n",
       "wreck                            1\n",
       "Reviving                         1\n",
       "Adrift,,'&                       1\n",
       "Sinking/V                        1\n",
       "Hurricane&                       1\n",
       "Leaving                          1\n",
       "Cutter                           1\n",
       "Slapped                          1\n",
       "Free(ascending)                  1\n",
       "Diving,,&                        1\n",
       "Surfingng                        1\n",
       "Japanese..S.                     1\n",
       "Racing                           1\n",
       "Climbing                         1\n",
       "Sight                            1\n",
       "Loss                             1\n",
       "Had&                             1\n",
       "Wading(shrimping)                1\n",
       "Closed(submerged).               1\n",
       "Argentine                        1\n",
       "Coming                           1\n",
       "Bottom&                          1\n",
       "native                           1\n",
       "Marathon                         1\n",
       "Torpedoed&                       1\n",
       "Bathing(bark..,)                 1\n",
       "Accidentally's                   1\n",
       "43&                              1\n",
       "Diving(shell)                    1\n",
       "Batin                            1\n",
       "Dress                            1\n",
       "Shipwrecked;&                    1\n",
       "Inebriated,                      1\n",
       "seaplane                         1\n",
       "3,909                            1\n",
       "Swimming(lead)                   1\n",
       "Conducting                       1\n",
       "small                            1\n",
       "Among(which).                    1\n",
       "Hard,                            1\n",
       "Wooden                           1\n",
       "Unknown,\"First\"                  1\n",
       "Disappeared,                     1\n",
       "B.                               1\n",
       "Onboard'                         1\n",
       "Plane,.                          1\n",
       "Tandem                           1\n",
       "Row(from),                       1\n",
       "Diving'                          1\n",
       "Salvaging                        1\n",
       "Slipped                          1\n",
       "14&                              1\n",
       "Lashing                          1\n",
       "Thrashing/\"Jaws\"                 1\n",
       "Hunting.4                        1\n",
       "Diving's                         1\n",
       "Diving,'                         1\n",
       "Freediving,&                     1\n",
       "Lobstering                       1\n",
       "Reached&                         1\n",
       "Crabbing(spearing)               1\n",
       "Washed&                          1\n",
       "Unknown,                         1\n",
       "NSB                              1\n",
       "Picking                          1\n",
       "Bathing.9                        1\n",
       "Splashing/                       1\n",
       "Probabable                       1\n",
       "25                               1\n",
       "Sea,/V                           1\n",
       "Observing                        1\n",
       "Free/,&                          1\n",
       "Pacific                          1\n",
       "Free,/W                          1\n",
       "Zosimo&,,',,&                    1\n",
       "Swimming(recovering)             1\n",
       "Human                            1\n",
       "Swimming'                        1\n",
       "Steinhart                        1\n",
       "Walking/                         1\n",
       "Preparing                        1\n",
       "Moving,&                         1\n",
       "Conducting(a)                    1\n",
       "Feeling’s                        1\n",
       "Royal&                           1\n",
       "Feeding?                         1\n",
       "Sleeping                         1\n",
       "Esso&                            1\n",
       "Chasing                          1\n",
       "Air,                             1\n",
       "Fishing,'&                       1\n",
       "Fleeing                          1\n",
       "Walking,&                        1\n",
       "Scientific(Dr.'s)                1\n",
       "Bathing/Swimming                 1\n",
       "Helmet,                          1\n",
       "Boating'ahu&                     1\n",
       "Measuring                        1\n",
       "Standing's                       1\n",
       "Free&(descending)                1\n",
       "Air.                             1\n",
       "3                                1\n",
       "Surfingboarding                  1\n",
       "Harpooned                        1\n",
       "Traveling                        1\n",
       "Scallop(using&)                  1\n",
       "Foundering                       1\n",
       "Surfing\"chest\"(boogie?)          1\n",
       "A,                               1\n",
       "Scallop                          1\n",
       "Fleet.                           1\n",
       "male                             1\n",
       "Sunbathing                       1\n",
       "Bather                           1\n",
       "Fell'                            1\n",
       "Ditched,.                        1\n",
       "Reported                         1\n",
       "Accidentally                     1\n",
       "Dropping                         1\n",
       "Columbian                        1\n",
       "Shark.                           1\n",
       "Diving(ascending)                1\n",
       "Swimming.,,,&                    1\n",
       "yachting                         1\n",
       "17                               1\n",
       "Attempting&                      1\n",
       "Colombian(Avianca)               1\n",
       "Survived                         1\n",
       "Diving(Hookah)                   1\n",
       "Ejected                          1\n",
       "Harpooning                       1\n",
       "Hauling,&                        1\n",
       "Free(surfacing)                  1\n",
       "Harassing                        1\n",
       "The,516                          1\n",
       "Jerked                           1\n",
       "Placed’s                         1\n",
       "63''                             1\n",
       "Anti(Diving)                     1\n",
       "Carrying                         1\n",
       "Free/(resting)                   1\n",
       "A.&                              1\n",
       "Swimming\"filibuster\"             1\n",
       "Investigating                    1\n",
       "Dog                              1\n",
       "Wading’s                         1\n",
       "Painting                         1\n",
       "yachtsman                        1\n",
       "Examining,                       1\n",
       "In.                              1\n",
       "M.V...                           1\n",
       "Oyster                           1\n",
       "Bathing'                         1\n",
       "ship&                            1\n",
       "When,.                           1\n",
       "No                               1\n",
       "Spearfishing,.&.                 1\n",
       "Returning,                       1\n",
       "Angling                          1\n",
       "Spear,                           1\n",
       "Exercising                       1\n",
       "Hiking                           1\n",
       "Boogie,                          1\n",
       "Abalone(resting)                 1\n",
       "Swimming(using)                  1\n",
       "Schooner                         1\n",
       "Stuffing                         1\n",
       "Swimming.E.L.                    1\n",
       "Sitting'                         1\n",
       "Dynamiting                       1\n",
       "The.                             1\n",
       "3.3.&(wearing)                   1\n",
       "Bathing.                         1\n",
       "Playing(9)                       1\n",
       "Adrift'                          1\n",
       "Fishing(big)                     1\n",
       "Grabbing                         1\n",
       "Seining,                         1\n",
       "ship.                            1\n",
       "a's                              1\n",
       "Surfing,&.                       1\n",
       "Vehicle                          1\n",
       "Japanese                         1\n",
       "Hospital&                        1\n",
       "Being                            1\n",
       "Freediving(submerged)            1\n",
       "During,',                        1\n",
       "Commercial(submerged)            1\n",
       "S.S..&.                          1\n",
       "The.,,.                          1\n",
       "Shark,                           1\n",
       "During\"an\"&                      1\n",
       "Bathing&                         1\n",
       "Wrangling                        1\n",
       "American,,&                      1\n",
       "Name: Activity, dtype: int64"
      ]
     },
     "execution_count": 106,
     "metadata": {},
     "output_type": "execute_result"
    }
   ],
   "source": [
    "data.Activity.value_counts()"
   ]
  },
  {
   "cell_type": "code",
   "execution_count": null,
   "metadata": {},
   "outputs": [],
   "source": []
  }
 ],
 "metadata": {
  "kernelspec": {
   "display_name": "Python 3",
   "language": "python",
   "name": "python3"
  },
  "language_info": {
   "codemirror_mode": {
    "name": "ipython",
    "version": 3
   },
   "file_extension": ".py",
   "mimetype": "text/x-python",
   "name": "python",
   "nbconvert_exporter": "python",
   "pygments_lexer": "ipython3",
   "version": "3.9.1"
  }
 },
 "nbformat": 4,
 "nbformat_minor": 4
}
