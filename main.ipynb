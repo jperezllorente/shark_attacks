{
 "cells": [
  {
   "cell_type": "code",
   "execution_count": 1,
   "metadata": {},
   "outputs": [
    {
     "name": "stdout",
     "output_type": "stream",
     "text": [
      "Downloading global-shark-attacks.zip to C:\\Users\\juanp\\Ironhack\\proyectos\\pandas-project\n",
      "\n"
     ]
    },
    {
     "name": "stderr",
     "output_type": "stream",
     "text": [
      "\n",
      "  0%|          | 0.00/548k [00:00<?, ?B/s]\n",
      "100%|##########| 548k/548k [00:00<00:00, 5.39MB/s]\n",
      "100%|##########| 548k/548k [00:00<00:00, 5.34MB/s]\n"
     ]
    }
   ],
   "source": [
    "!kaggle datasets download -d teajay/global-shark-attacks"
   ]
  },
  {
   "cell_type": "code",
   "execution_count": 2,
   "metadata": {},
   "outputs": [
    {
     "name": "stderr",
     "output_type": "stream",
     "text": [
      "x attacks.csv\n"
     ]
    }
   ],
   "source": [
    "!tar -xzvf global-shark-attacks.zip"
   ]
  },
  {
   "cell_type": "code",
   "execution_count": 88,
   "metadata": {},
   "outputs": [],
   "source": [
    "import pandas as pd\n",
    "import numpy as np\n",
    "import seaborn as sns\n",
    "import matplotlib as plt\n",
    "import re\n",
    "import collections"
   ]
  },
  {
   "cell_type": "code",
   "execution_count": 4,
   "metadata": {},
   "outputs": [],
   "source": [
    "data = pd.read_csv(\"data\\\\data_year.csv\", encoding='cp1252')"
   ]
  },
  {
   "cell_type": "markdown",
   "metadata": {},
   "source": [
    "## 1. Basic Analysis"
   ]
  },
  {
   "cell_type": "code",
   "execution_count": 33,
   "metadata": {},
   "outputs": [
    {
     "data": {
      "text/html": [
       "<div>\n",
       "<style scoped>\n",
       "    .dataframe tbody tr th:only-of-type {\n",
       "        vertical-align: middle;\n",
       "    }\n",
       "\n",
       "    .dataframe tbody tr th {\n",
       "        vertical-align: top;\n",
       "    }\n",
       "\n",
       "    .dataframe thead th {\n",
       "        text-align: right;\n",
       "    }\n",
       "</style>\n",
       "<table border=\"1\" class=\"dataframe\">\n",
       "  <thead>\n",
       "    <tr style=\"text-align: right;\">\n",
       "      <th></th>\n",
       "      <th>Case Number</th>\n",
       "      <th>Date</th>\n",
       "      <th>Year</th>\n",
       "      <th>Type</th>\n",
       "      <th>Country</th>\n",
       "      <th>Area</th>\n",
       "      <th>Location</th>\n",
       "      <th>Activity</th>\n",
       "      <th>Name</th>\n",
       "      <th>Sex</th>\n",
       "      <th>...</th>\n",
       "      <th>Species</th>\n",
       "      <th>Investigator or Source</th>\n",
       "      <th>pdf</th>\n",
       "      <th>href formula</th>\n",
       "      <th>href</th>\n",
       "      <th>Case Number.1</th>\n",
       "      <th>Case Number.2</th>\n",
       "      <th>original order</th>\n",
       "      <th>Unnamed: 22</th>\n",
       "      <th>Unnamed: 23</th>\n",
       "    </tr>\n",
       "  </thead>\n",
       "  <tbody>\n",
       "    <tr>\n",
       "      <th>0</th>\n",
       "      <td>2018.06.25</td>\n",
       "      <td>25-Jun-2018</td>\n",
       "      <td>2018.0</td>\n",
       "      <td>Boating</td>\n",
       "      <td>USA</td>\n",
       "      <td>California</td>\n",
       "      <td>Oceanside, San Diego County</td>\n",
       "      <td>Paddling</td>\n",
       "      <td>Julie Wolfe</td>\n",
       "      <td>F</td>\n",
       "      <td>...</td>\n",
       "      <td>White shark</td>\n",
       "      <td>R. Collier, GSAF</td>\n",
       "      <td>2018.06.25-Wolfe.pdf</td>\n",
       "      <td>http://sharkattackfile.net/spreadsheets/pdf_di...</td>\n",
       "      <td>http://sharkattackfile.net/spreadsheets/pdf_di...</td>\n",
       "      <td>2018.06.25</td>\n",
       "      <td>2018.06.25</td>\n",
       "      <td>6303.0</td>\n",
       "      <td>NaN</td>\n",
       "      <td>NaN</td>\n",
       "    </tr>\n",
       "    <tr>\n",
       "      <th>1</th>\n",
       "      <td>2018.06.18</td>\n",
       "      <td>18-Jun-2018</td>\n",
       "      <td>2018.0</td>\n",
       "      <td>Unprovoked</td>\n",
       "      <td>USA</td>\n",
       "      <td>Georgia</td>\n",
       "      <td>St. Simon Island, Glynn County</td>\n",
       "      <td>Standing</td>\n",
       "      <td>Adyson McNeely</td>\n",
       "      <td>F</td>\n",
       "      <td>...</td>\n",
       "      <td>NaN</td>\n",
       "      <td>K.McMurray, TrackingSharks.com</td>\n",
       "      <td>2018.06.18-McNeely.pdf</td>\n",
       "      <td>http://sharkattackfile.net/spreadsheets/pdf_di...</td>\n",
       "      <td>http://sharkattackfile.net/spreadsheets/pdf_di...</td>\n",
       "      <td>2018.06.18</td>\n",
       "      <td>2018.06.18</td>\n",
       "      <td>6302.0</td>\n",
       "      <td>NaN</td>\n",
       "      <td>NaN</td>\n",
       "    </tr>\n",
       "    <tr>\n",
       "      <th>2</th>\n",
       "      <td>2018.06.09</td>\n",
       "      <td>09-Jun-2018</td>\n",
       "      <td>2018.0</td>\n",
       "      <td>Invalid</td>\n",
       "      <td>USA</td>\n",
       "      <td>Hawaii</td>\n",
       "      <td>Habush, Oahu</td>\n",
       "      <td>Surfing</td>\n",
       "      <td>John Denges</td>\n",
       "      <td>M</td>\n",
       "      <td>...</td>\n",
       "      <td>NaN</td>\n",
       "      <td>K.McMurray, TrackingSharks.com</td>\n",
       "      <td>2018.06.09-Denges.pdf</td>\n",
       "      <td>http://sharkattackfile.net/spreadsheets/pdf_di...</td>\n",
       "      <td>http://sharkattackfile.net/spreadsheets/pdf_di...</td>\n",
       "      <td>2018.06.09</td>\n",
       "      <td>2018.06.09</td>\n",
       "      <td>6301.0</td>\n",
       "      <td>NaN</td>\n",
       "      <td>NaN</td>\n",
       "    </tr>\n",
       "    <tr>\n",
       "      <th>3</th>\n",
       "      <td>2018.06.08</td>\n",
       "      <td>08-Jun-2018</td>\n",
       "      <td>2018.0</td>\n",
       "      <td>Unprovoked</td>\n",
       "      <td>AUSTRALIA</td>\n",
       "      <td>New South Wales</td>\n",
       "      <td>Arrawarra Headland</td>\n",
       "      <td>Surfing</td>\n",
       "      <td>male</td>\n",
       "      <td>M</td>\n",
       "      <td>...</td>\n",
       "      <td>2 m shark</td>\n",
       "      <td>B. Myatt, GSAF</td>\n",
       "      <td>2018.06.08-Arrawarra.pdf</td>\n",
       "      <td>http://sharkattackfile.net/spreadsheets/pdf_di...</td>\n",
       "      <td>http://sharkattackfile.net/spreadsheets/pdf_di...</td>\n",
       "      <td>2018.06.08</td>\n",
       "      <td>2018.06.08</td>\n",
       "      <td>6300.0</td>\n",
       "      <td>NaN</td>\n",
       "      <td>NaN</td>\n",
       "    </tr>\n",
       "    <tr>\n",
       "      <th>4</th>\n",
       "      <td>2018.06.04</td>\n",
       "      <td>04-Jun-2018</td>\n",
       "      <td>2018.0</td>\n",
       "      <td>Provoked</td>\n",
       "      <td>MEXICO</td>\n",
       "      <td>Colima</td>\n",
       "      <td>La Ticla</td>\n",
       "      <td>Free diving</td>\n",
       "      <td>Gustavo Ramos</td>\n",
       "      <td>M</td>\n",
       "      <td>...</td>\n",
       "      <td>Tiger shark, 3m</td>\n",
       "      <td>A .Kipper</td>\n",
       "      <td>2018.06.04-Ramos.pdf</td>\n",
       "      <td>http://sharkattackfile.net/spreadsheets/pdf_di...</td>\n",
       "      <td>http://sharkattackfile.net/spreadsheets/pdf_di...</td>\n",
       "      <td>2018.06.04</td>\n",
       "      <td>2018.06.04</td>\n",
       "      <td>6299.0</td>\n",
       "      <td>NaN</td>\n",
       "      <td>NaN</td>\n",
       "    </tr>\n",
       "  </tbody>\n",
       "</table>\n",
       "<p>5 rows × 24 columns</p>\n",
       "</div>"
      ],
      "text/plain": [
       "  Case Number         Date    Year        Type    Country             Area  \\\n",
       "0  2018.06.25  25-Jun-2018  2018.0     Boating        USA       California   \n",
       "1  2018.06.18  18-Jun-2018  2018.0  Unprovoked        USA          Georgia   \n",
       "2  2018.06.09  09-Jun-2018  2018.0     Invalid        USA           Hawaii   \n",
       "3  2018.06.08  08-Jun-2018  2018.0  Unprovoked  AUSTRALIA  New South Wales   \n",
       "4  2018.06.04  04-Jun-2018  2018.0    Provoked     MEXICO           Colima   \n",
       "\n",
       "                         Location     Activity             Name Sex   ...  \\\n",
       "0     Oceanside, San Diego County     Paddling      Julie Wolfe    F  ...   \n",
       "1  St. Simon Island, Glynn County     Standing  Adyson McNeely     F  ...   \n",
       "2                    Habush, Oahu      Surfing      John Denges    M  ...   \n",
       "3              Arrawarra Headland      Surfing             male    M  ...   \n",
       "4                        La Ticla  Free diving   Gustavo Ramos     M  ...   \n",
       "\n",
       "          Species           Investigator or Source                       pdf  \\\n",
       "0      White shark                R. Collier, GSAF      2018.06.25-Wolfe.pdf   \n",
       "1              NaN  K.McMurray, TrackingSharks.com    2018.06.18-McNeely.pdf   \n",
       "2              NaN  K.McMurray, TrackingSharks.com     2018.06.09-Denges.pdf   \n",
       "3        2 m shark                  B. Myatt, GSAF  2018.06.08-Arrawarra.pdf   \n",
       "4  Tiger shark, 3m                       A .Kipper      2018.06.04-Ramos.pdf   \n",
       "\n",
       "                                        href formula  \\\n",
       "0  http://sharkattackfile.net/spreadsheets/pdf_di...   \n",
       "1  http://sharkattackfile.net/spreadsheets/pdf_di...   \n",
       "2  http://sharkattackfile.net/spreadsheets/pdf_di...   \n",
       "3  http://sharkattackfile.net/spreadsheets/pdf_di...   \n",
       "4  http://sharkattackfile.net/spreadsheets/pdf_di...   \n",
       "\n",
       "                                                href Case Number.1  \\\n",
       "0  http://sharkattackfile.net/spreadsheets/pdf_di...    2018.06.25   \n",
       "1  http://sharkattackfile.net/spreadsheets/pdf_di...    2018.06.18   \n",
       "2  http://sharkattackfile.net/spreadsheets/pdf_di...    2018.06.09   \n",
       "3  http://sharkattackfile.net/spreadsheets/pdf_di...    2018.06.08   \n",
       "4  http://sharkattackfile.net/spreadsheets/pdf_di...    2018.06.04   \n",
       "\n",
       "  Case Number.2 original order Unnamed: 22 Unnamed: 23  \n",
       "0    2018.06.25         6303.0         NaN         NaN  \n",
       "1    2018.06.18         6302.0         NaN         NaN  \n",
       "2    2018.06.09         6301.0         NaN         NaN  \n",
       "3    2018.06.08         6300.0         NaN         NaN  \n",
       "4    2018.06.04         6299.0         NaN         NaN  \n",
       "\n",
       "[5 rows x 24 columns]"
      ]
     },
     "execution_count": 33,
     "metadata": {},
     "output_type": "execute_result"
    }
   ],
   "source": [
    "data.head()"
   ]
  },
  {
   "cell_type": "code",
   "execution_count": 50,
   "metadata": {},
   "outputs": [
    {
     "data": {
      "text/plain": [
       "(25723, 24)"
      ]
     },
     "execution_count": 50,
     "metadata": {},
     "output_type": "execute_result"
    }
   ],
   "source": [
    "data.shape"
   ]
  },
  {
   "cell_type": "code",
   "execution_count": 35,
   "metadata": {},
   "outputs": [
    {
     "data": {
      "text/plain": [
       "Index(['Case Number', 'Date', 'Year', 'Type', 'Country', 'Area', 'Location',\n",
       "       'Activity', 'Name', 'Sex ', 'Age', 'Injury', 'Fatal (Y/N)', 'Time',\n",
       "       'Species ', 'Investigator or Source', 'pdf', 'href formula', 'href',\n",
       "       'Case Number.1', 'Case Number.2', 'original order', 'Unnamed: 22',\n",
       "       'Unnamed: 23'],\n",
       "      dtype='object')"
      ]
     },
     "execution_count": 35,
     "metadata": {},
     "output_type": "execute_result"
    }
   ],
   "source": [
    "data.columns"
   ]
  },
  {
   "cell_type": "markdown",
   "metadata": {},
   "source": [
    "The dataset contains a number of columns that wont be relevant for the analysis, like \"pdf\" of \"href formula\", and others whose meaning cannot be interpreted easily, like \"Unnamed 22\" or \"Original order\". This columsn can be dropped as they wont be useful. Also, the column \"Case Number\" and \"Date\" seem to contain the same date information with different formats, so we can delete one of them and work with the other. "
   ]
  },
  {
   "cell_type": "code",
   "execution_count": 4,
   "metadata": {},
   "outputs": [],
   "source": [
    "data = data.drop([\"Date\",\"Name\",\"Investigator or Source\",\"pdf\",\"href formula\",\"href\",\"Case Number.1\",\"Case Number.2\",\n",
    "                 \"original order\",\"Unnamed: 22\", \"Unnamed: 23\"], axis=1)"
   ]
  },
  {
   "cell_type": "markdown",
   "metadata": {},
   "source": [
    "### NaN values"
   ]
  },
  {
   "cell_type": "code",
   "execution_count": 81,
   "metadata": {},
   "outputs": [
    {
     "data": {
      "text/plain": [
       "Case Number    17021\n",
       "Year           19423\n",
       "Type           19425\n",
       "Country        19471\n",
       "Area           19876\n",
       "Location       19961\n",
       "Activity       19965\n",
       "Sex            19986\n",
       "Age            22252\n",
       "Injury         19449\n",
       "Fatal (Y/N)    19960\n",
       "Time           22775\n",
       "Species        22259\n",
       "dtype: int64"
      ]
     },
     "execution_count": 81,
     "metadata": {},
     "output_type": "execute_result"
    }
   ],
   "source": [
    "data.isnull().sum()"
   ]
  },
  {
   "cell_type": "markdown",
   "metadata": {},
   "source": [
    "There is a great number of rows that contain a lot of Nan values. An way to deal with them would be to drop all rows that have a 100% of NaN values, however, there are rows that have many NaN values without reaching the 100%. In order keep the maximun amount of information possible,the **thresh** parameter of the **dropna()** built-in function will be used to determine the maximum number of NaN values allowed per row. In this case the parameter will be set to 6"
   ]
  },
  {
   "cell_type": "code",
   "execution_count": 5,
   "metadata": {},
   "outputs": [],
   "source": [
    "data = data.dropna(axis=0, thresh=6)"
   ]
  },
  {
   "cell_type": "code",
   "execution_count": 170,
   "metadata": {},
   "outputs": [
    {
     "data": {
      "text/plain": [
       "(6301, 13)"
      ]
     },
     "execution_count": 170,
     "metadata": {},
     "output_type": "execute_result"
    }
   ],
   "source": [
    "data.shape"
   ]
  },
  {
   "cell_type": "markdown",
   "metadata": {},
   "source": [
    "With this, we have deleted around 19,000 rows of the dataset, almost 4/5 of the total"
   ]
  },
  {
   "cell_type": "markdown",
   "metadata": {},
   "source": [
    "### How to treat the remaining NaN values?"
   ]
  },
  {
   "cell_type": "markdown",
   "metadata": {},
   "source": [
    "There are different ways to fill the NaN values in a dataset, and each one depends on a series of factors like the type of the column, the kind of analysis, etc. In this case, two approaches are going to be taken. Those NaN values in string type columns are going to be replaced by **Unknown**, as it is something that should not be guessed nor inferred. In the case of data tyoe columns, even though they have not yet been transformed, are going to be repalced with the previous value because it can be assumed that they follow a certain order"
   ]
  },
  {
   "cell_type": "markdown",
   "metadata": {},
   "source": [
    "#### When trying to replace the NaN values of categorical columns, there is an error related to the **Species** column, at is because it has a white space at the end. This can be solved later, but in order to have all the columns with the same format lets do it now"
   ]
  },
  {
   "cell_type": "code",
   "execution_count": 104,
   "metadata": {},
   "outputs": [],
   "source": [
    "data.rename(columns={\"Species \":\"Species\"},inplace  =True)"
   ]
  },
  {
   "cell_type": "code",
   "execution_count": 102,
   "metadata": {},
   "outputs": [],
   "source": [
    "data.rename(columns={\"Sex \":\"Sex\"}, inplace=True)"
   ]
  },
  {
   "cell_type": "code",
   "execution_count": 105,
   "metadata": {},
   "outputs": [],
   "source": [
    "data.rename(columns={\"Fatal (Y/N)\":\"Fatal\"},inplace=True)"
   ]
  },
  {
   "cell_type": "code",
   "execution_count": 107,
   "metadata": {},
   "outputs": [],
   "source": [
    "data.rename(columns={\"Case Number\":\"Case_Number\"},inplace=True)"
   ]
  },
  {
   "cell_type": "code",
   "execution_count": 7,
   "metadata": {},
   "outputs": [],
   "source": [
    "#Replace the NaN with Unknown of categorical values (object)\n",
    "data[[\"Type\", \"Country\", \"Area\", \"Activity\", \"Injury\"\n",
    "            ,\"Sex \", \"Fatal (Y/N)\", \"Species\"]] = data[[\"Type\", \"Country\", \"Area\", \"Activity\", \"Injury\"\n",
    "                         ,\"Sex \", \"Fatal (Y/N)\",\"Species\"]].fillna(\"Unknown\") "
   ]
  },
  {
   "cell_type": "code",
   "execution_count": 8,
   "metadata": {},
   "outputs": [],
   "source": [
    "#In the case of 'Year' and 'Time' we're going to fill NaN values with the previous one, as we assume that they\n",
    "#follow a certain order, and doing this is better that filling them with 'NONE'\n",
    "\n",
    "data[[\"Case Number\",\"Time\", \"Year\"]] = data[[\"Case Number\",\"Time\", \"Year\"]].fillna(method = 'ffill')"
   ]
  },
  {
   "cell_type": "markdown",
   "metadata": {},
   "source": [
    "## 2. Column Analysis"
   ]
  },
  {
   "cell_type": "markdown",
   "metadata": {},
   "source": [
    "Now, lets check each of the colums to see what corrections need to be done"
   ]
  },
  {
   "cell_type": "markdown",
   "metadata": {},
   "source": [
    "### **Year**"
   ]
  },
  {
   "cell_type": "code",
   "execution_count": 9,
   "metadata": {},
   "outputs": [],
   "source": [
    "def sorting(data):\n",
    "    return data.sort_values(ascending = True)"
   ]
  },
  {
   "cell_type": "code",
   "execution_count": 10,
   "metadata": {},
   "outputs": [],
   "source": [
    "def counts(column):\n",
    "    '''\n",
    "    This function returns the value_counts() result of a column as a dictionary sorted by key in ascending order.\n",
    "    Easier to examine.\n",
    "    Args: the column of interest in the format of df.column or df[\"columnd\"]\n",
    "    '''\n",
    "    s = (column.value_counts())\n",
    "    dictionary =  s.to_dict()\n",
    "    return collections.OrderedDict(sorted(dictionary.items()))"
   ]
  },
  {
   "cell_type": "code",
   "execution_count": 100,
   "metadata": {},
   "outputs": [],
   "source": [
    "year = counts(data.Year)"
   ]
  },
  {
   "cell_type": "markdown",
   "metadata": {},
   "source": [
    "The first thing that should be noticed is that ther a 125 attack in year 0, which makes no sense. Also, there are records of attacks taking place in years that are too ancient. This may be typing errors, so, instead of deleting all those records, and losing all the information, when analyzing the **Year** column a threshold will be set to avoid taking this attypical years into account"
   ]
  },
  {
   "cell_type": "markdown",
   "metadata": {},
   "source": [
    "It should also be mentioned that the years have decimals, which is not possible. Therefore, lets remove them."
   ]
  },
  {
   "cell_type": "code",
   "execution_count": 11,
   "metadata": {},
   "outputs": [],
   "source": [
    "data.Year = data.Year.astype('int32')"
   ]
  },
  {
   "cell_type": "code",
   "execution_count": 101,
   "metadata": {},
   "outputs": [],
   "source": [
    "# The df has been safed as a csv so that the progress is not lost if jupyter notebook is closed \n",
    "data.to_csv(r'C:\\Users\\juanp\\proyectos_varios\\shark_attacks\\data\\data_regex.csv' , index = True)"
   ]
  },
  {
   "cell_type": "markdown",
   "metadata": {},
   "source": [
    "## Plots and Visualizations"
   ]
  },
  {
   "cell_type": "code",
   "execution_count": 167,
   "metadata": {},
   "outputs": [
    {
     "data": {
      "text/html": [
       "        <script type=\"text/javascript\">\n",
       "        window.PlotlyConfig = {MathJaxConfig: 'local'};\n",
       "        if (window.MathJax) {MathJax.Hub.Config({SVG: {font: \"STIX-Web\"}});}\n",
       "        if (typeof require !== 'undefined') {\n",
       "        require.undef(\"plotly\");\n",
       "        requirejs.config({\n",
       "            paths: {\n",
       "                'plotly': ['https://cdn.plot.ly/plotly-latest.min']\n",
       "            }\n",
       "        });\n",
       "        require(['plotly'], function(Plotly) {\n",
       "            window._Plotly = Plotly;\n",
       "        });\n",
       "        }\n",
       "        </script>\n",
       "        "
      ]
     },
     "metadata": {},
     "output_type": "display_data"
    }
   ],
   "source": [
    "from ipywidgets import interact\n",
    "import cufflinks as cf\n",
    "from IPython.display import display,HTML\n",
    "cf.set_config_file(sharing='public',theme='ggplot',offline=True)\n",
    "import plotly.express as px"
   ]
  },
  {
   "cell_type": "code",
   "execution_count": 55,
   "metadata": {},
   "outputs": [],
   "source": [
    "aggresive_sharks = data[data.groupby('shark_species')['shark_species'].transform('size') > 40]"
   ]
  },
  {
   "cell_type": "code",
   "execution_count": 143,
   "metadata": {},
   "outputs": [],
   "source": [
    "data = pd.read_csv('data\\\\data_coords.csv')"
   ]
  },
  {
   "cell_type": "code",
   "execution_count": 164,
   "metadata": {},
   "outputs": [],
   "source": [
    "shark_count = data.groupby('shark_species').agg({'Injury':'count', 'fatal_injury':'sum'})"
   ]
  },
  {
   "cell_type": "code",
   "execution_count": 166,
   "metadata": {},
   "outputs": [],
   "source": [
    "shark_count.reset_index(inplace = True)"
   ]
  },
  {
   "cell_type": "code",
   "execution_count": null,
   "metadata": {},
   "outputs": [],
   "source": []
  },
  {
   "cell_type": "code",
   "execution_count": 128,
   "metadata": {},
   "outputs": [
    {
     "data": {
      "application/vnd.plotly.v1+json": {
       "config": {
        "linkText": "Export to plot.ly",
        "plotlyServerURL": "https://plot.ly",
        "showLink": true
       },
       "data": [
        {
         "marker": {
          "color": "rgba(144, 238, 144, 0.6)",
          "line": {
           "color": "rgba(144, 238, 144, 1.0)",
           "width": 1
          }
         },
         "name": "Fatal",
         "orientation": "v",
         "text": "",
         "type": "bar",
         "x": [
          "angel shark",
          "basking shark",
          "blacktail reef shark",
          "blacktip reef shark",
          "blacktip shark",
          "blue nose shark",
          "blue pointer",
          "blue shark",
          "bonitshark",
          "bronze whaler",
          "bull shark",
          "caribbean reef shark",
          "carpet shark",
          "copper shark",
          "cow shark",
          "dog shark",
          "dusky shark",
          "galapagos shark",
          "grey nurse shark",
          "grey reef shark",
          "hammerhead shark",
          "lemon shark",
          "mako shark",
          "nurse shark",
          "oceanic whitetip shark",
          "raggedoth shark",
          "sand shark",
          "spinner shark",
          "tiger shark",
          "white shark",
          "wobbegong shark",
          "zambesi shark"
         ],
         "y": [
          6,
          7,
          1,
          12,
          64,
          2,
          7,
          41,
          1,
          64,
          174,
          16,
          8,
          5,
          2,
          6,
          14,
          7,
          39,
          17,
          44,
          37,
          44,
          57,
          23,
          43,
          18,
          43,
          285,
          635,
          46,
          29
         ]
        }
       ],
       "layout": {
        "legend": {
         "bgcolor": "#FFFFFF",
         "font": {
          "color": "#666666"
         }
        },
        "paper_bgcolor": "#FFFFFF",
        "plot_bgcolor": "#E5E5E5",
        "template": {
         "data": {
          "bar": [
           {
            "error_x": {
             "color": "#2a3f5f"
            },
            "error_y": {
             "color": "#2a3f5f"
            },
            "marker": {
             "line": {
              "color": "#E5ECF6",
              "width": 0.5
             }
            },
            "type": "bar"
           }
          ],
          "barpolar": [
           {
            "marker": {
             "line": {
              "color": "#E5ECF6",
              "width": 0.5
             }
            },
            "type": "barpolar"
           }
          ],
          "carpet": [
           {
            "aaxis": {
             "endlinecolor": "#2a3f5f",
             "gridcolor": "white",
             "linecolor": "white",
             "minorgridcolor": "white",
             "startlinecolor": "#2a3f5f"
            },
            "baxis": {
             "endlinecolor": "#2a3f5f",
             "gridcolor": "white",
             "linecolor": "white",
             "minorgridcolor": "white",
             "startlinecolor": "#2a3f5f"
            },
            "type": "carpet"
           }
          ],
          "choropleth": [
           {
            "colorbar": {
             "outlinewidth": 0,
             "ticks": ""
            },
            "type": "choropleth"
           }
          ],
          "contour": [
           {
            "colorbar": {
             "outlinewidth": 0,
             "ticks": ""
            },
            "colorscale": [
             [
              0,
              "#0d0887"
             ],
             [
              0.1111111111111111,
              "#46039f"
             ],
             [
              0.2222222222222222,
              "#7201a8"
             ],
             [
              0.3333333333333333,
              "#9c179e"
             ],
             [
              0.4444444444444444,
              "#bd3786"
             ],
             [
              0.5555555555555556,
              "#d8576b"
             ],
             [
              0.6666666666666666,
              "#ed7953"
             ],
             [
              0.7777777777777778,
              "#fb9f3a"
             ],
             [
              0.8888888888888888,
              "#fdca26"
             ],
             [
              1,
              "#f0f921"
             ]
            ],
            "type": "contour"
           }
          ],
          "contourcarpet": [
           {
            "colorbar": {
             "outlinewidth": 0,
             "ticks": ""
            },
            "type": "contourcarpet"
           }
          ],
          "heatmap": [
           {
            "colorbar": {
             "outlinewidth": 0,
             "ticks": ""
            },
            "colorscale": [
             [
              0,
              "#0d0887"
             ],
             [
              0.1111111111111111,
              "#46039f"
             ],
             [
              0.2222222222222222,
              "#7201a8"
             ],
             [
              0.3333333333333333,
              "#9c179e"
             ],
             [
              0.4444444444444444,
              "#bd3786"
             ],
             [
              0.5555555555555556,
              "#d8576b"
             ],
             [
              0.6666666666666666,
              "#ed7953"
             ],
             [
              0.7777777777777778,
              "#fb9f3a"
             ],
             [
              0.8888888888888888,
              "#fdca26"
             ],
             [
              1,
              "#f0f921"
             ]
            ],
            "type": "heatmap"
           }
          ],
          "heatmapgl": [
           {
            "colorbar": {
             "outlinewidth": 0,
             "ticks": ""
            },
            "colorscale": [
             [
              0,
              "#0d0887"
             ],
             [
              0.1111111111111111,
              "#46039f"
             ],
             [
              0.2222222222222222,
              "#7201a8"
             ],
             [
              0.3333333333333333,
              "#9c179e"
             ],
             [
              0.4444444444444444,
              "#bd3786"
             ],
             [
              0.5555555555555556,
              "#d8576b"
             ],
             [
              0.6666666666666666,
              "#ed7953"
             ],
             [
              0.7777777777777778,
              "#fb9f3a"
             ],
             [
              0.8888888888888888,
              "#fdca26"
             ],
             [
              1,
              "#f0f921"
             ]
            ],
            "type": "heatmapgl"
           }
          ],
          "histogram": [
           {
            "marker": {
             "colorbar": {
              "outlinewidth": 0,
              "ticks": ""
             }
            },
            "type": "histogram"
           }
          ],
          "histogram2d": [
           {
            "colorbar": {
             "outlinewidth": 0,
             "ticks": ""
            },
            "colorscale": [
             [
              0,
              "#0d0887"
             ],
             [
              0.1111111111111111,
              "#46039f"
             ],
             [
              0.2222222222222222,
              "#7201a8"
             ],
             [
              0.3333333333333333,
              "#9c179e"
             ],
             [
              0.4444444444444444,
              "#bd3786"
             ],
             [
              0.5555555555555556,
              "#d8576b"
             ],
             [
              0.6666666666666666,
              "#ed7953"
             ],
             [
              0.7777777777777778,
              "#fb9f3a"
             ],
             [
              0.8888888888888888,
              "#fdca26"
             ],
             [
              1,
              "#f0f921"
             ]
            ],
            "type": "histogram2d"
           }
          ],
          "histogram2dcontour": [
           {
            "colorbar": {
             "outlinewidth": 0,
             "ticks": ""
            },
            "colorscale": [
             [
              0,
              "#0d0887"
             ],
             [
              0.1111111111111111,
              "#46039f"
             ],
             [
              0.2222222222222222,
              "#7201a8"
             ],
             [
              0.3333333333333333,
              "#9c179e"
             ],
             [
              0.4444444444444444,
              "#bd3786"
             ],
             [
              0.5555555555555556,
              "#d8576b"
             ],
             [
              0.6666666666666666,
              "#ed7953"
             ],
             [
              0.7777777777777778,
              "#fb9f3a"
             ],
             [
              0.8888888888888888,
              "#fdca26"
             ],
             [
              1,
              "#f0f921"
             ]
            ],
            "type": "histogram2dcontour"
           }
          ],
          "mesh3d": [
           {
            "colorbar": {
             "outlinewidth": 0,
             "ticks": ""
            },
            "type": "mesh3d"
           }
          ],
          "parcoords": [
           {
            "line": {
             "colorbar": {
              "outlinewidth": 0,
              "ticks": ""
             }
            },
            "type": "parcoords"
           }
          ],
          "pie": [
           {
            "automargin": true,
            "type": "pie"
           }
          ],
          "scatter": [
           {
            "marker": {
             "colorbar": {
              "outlinewidth": 0,
              "ticks": ""
             }
            },
            "type": "scatter"
           }
          ],
          "scatter3d": [
           {
            "line": {
             "colorbar": {
              "outlinewidth": 0,
              "ticks": ""
             }
            },
            "marker": {
             "colorbar": {
              "outlinewidth": 0,
              "ticks": ""
             }
            },
            "type": "scatter3d"
           }
          ],
          "scattercarpet": [
           {
            "marker": {
             "colorbar": {
              "outlinewidth": 0,
              "ticks": ""
             }
            },
            "type": "scattercarpet"
           }
          ],
          "scattergeo": [
           {
            "marker": {
             "colorbar": {
              "outlinewidth": 0,
              "ticks": ""
             }
            },
            "type": "scattergeo"
           }
          ],
          "scattergl": [
           {
            "marker": {
             "colorbar": {
              "outlinewidth": 0,
              "ticks": ""
             }
            },
            "type": "scattergl"
           }
          ],
          "scattermapbox": [
           {
            "marker": {
             "colorbar": {
              "outlinewidth": 0,
              "ticks": ""
             }
            },
            "type": "scattermapbox"
           }
          ],
          "scatterpolar": [
           {
            "marker": {
             "colorbar": {
              "outlinewidth": 0,
              "ticks": ""
             }
            },
            "type": "scatterpolar"
           }
          ],
          "scatterpolargl": [
           {
            "marker": {
             "colorbar": {
              "outlinewidth": 0,
              "ticks": ""
             }
            },
            "type": "scatterpolargl"
           }
          ],
          "scatterternary": [
           {
            "marker": {
             "colorbar": {
              "outlinewidth": 0,
              "ticks": ""
             }
            },
            "type": "scatterternary"
           }
          ],
          "surface": [
           {
            "colorbar": {
             "outlinewidth": 0,
             "ticks": ""
            },
            "colorscale": [
             [
              0,
              "#0d0887"
             ],
             [
              0.1111111111111111,
              "#46039f"
             ],
             [
              0.2222222222222222,
              "#7201a8"
             ],
             [
              0.3333333333333333,
              "#9c179e"
             ],
             [
              0.4444444444444444,
              "#bd3786"
             ],
             [
              0.5555555555555556,
              "#d8576b"
             ],
             [
              0.6666666666666666,
              "#ed7953"
             ],
             [
              0.7777777777777778,
              "#fb9f3a"
             ],
             [
              0.8888888888888888,
              "#fdca26"
             ],
             [
              1,
              "#f0f921"
             ]
            ],
            "type": "surface"
           }
          ],
          "table": [
           {
            "cells": {
             "fill": {
              "color": "#EBF0F8"
             },
             "line": {
              "color": "white"
             }
            },
            "header": {
             "fill": {
              "color": "#C8D4E3"
             },
             "line": {
              "color": "white"
             }
            },
            "type": "table"
           }
          ]
         },
         "layout": {
          "annotationdefaults": {
           "arrowcolor": "#2a3f5f",
           "arrowhead": 0,
           "arrowwidth": 1
          },
          "autotypenumbers": "strict",
          "coloraxis": {
           "colorbar": {
            "outlinewidth": 0,
            "ticks": ""
           }
          },
          "colorscale": {
           "diverging": [
            [
             0,
             "#8e0152"
            ],
            [
             0.1,
             "#c51b7d"
            ],
            [
             0.2,
             "#de77ae"
            ],
            [
             0.3,
             "#f1b6da"
            ],
            [
             0.4,
             "#fde0ef"
            ],
            [
             0.5,
             "#f7f7f7"
            ],
            [
             0.6,
             "#e6f5d0"
            ],
            [
             0.7,
             "#b8e186"
            ],
            [
             0.8,
             "#7fbc41"
            ],
            [
             0.9,
             "#4d9221"
            ],
            [
             1,
             "#276419"
            ]
           ],
           "sequential": [
            [
             0,
             "#0d0887"
            ],
            [
             0.1111111111111111,
             "#46039f"
            ],
            [
             0.2222222222222222,
             "#7201a8"
            ],
            [
             0.3333333333333333,
             "#9c179e"
            ],
            [
             0.4444444444444444,
             "#bd3786"
            ],
            [
             0.5555555555555556,
             "#d8576b"
            ],
            [
             0.6666666666666666,
             "#ed7953"
            ],
            [
             0.7777777777777778,
             "#fb9f3a"
            ],
            [
             0.8888888888888888,
             "#fdca26"
            ],
            [
             1,
             "#f0f921"
            ]
           ],
           "sequentialminus": [
            [
             0,
             "#0d0887"
            ],
            [
             0.1111111111111111,
             "#46039f"
            ],
            [
             0.2222222222222222,
             "#7201a8"
            ],
            [
             0.3333333333333333,
             "#9c179e"
            ],
            [
             0.4444444444444444,
             "#bd3786"
            ],
            [
             0.5555555555555556,
             "#d8576b"
            ],
            [
             0.6666666666666666,
             "#ed7953"
            ],
            [
             0.7777777777777778,
             "#fb9f3a"
            ],
            [
             0.8888888888888888,
             "#fdca26"
            ],
            [
             1,
             "#f0f921"
            ]
           ]
          },
          "colorway": [
           "#636efa",
           "#EF553B",
           "#00cc96",
           "#ab63fa",
           "#FFA15A",
           "#19d3f3",
           "#FF6692",
           "#B6E880",
           "#FF97FF",
           "#FECB52"
          ],
          "font": {
           "color": "#2a3f5f"
          },
          "geo": {
           "bgcolor": "white",
           "lakecolor": "white",
           "landcolor": "#E5ECF6",
           "showlakes": true,
           "showland": true,
           "subunitcolor": "white"
          },
          "hoverlabel": {
           "align": "left"
          },
          "hovermode": "closest",
          "mapbox": {
           "style": "light"
          },
          "paper_bgcolor": "white",
          "plot_bgcolor": "#E5ECF6",
          "polar": {
           "angularaxis": {
            "gridcolor": "white",
            "linecolor": "white",
            "ticks": ""
           },
           "bgcolor": "#E5ECF6",
           "radialaxis": {
            "gridcolor": "white",
            "linecolor": "white",
            "ticks": ""
           }
          },
          "scene": {
           "xaxis": {
            "backgroundcolor": "#E5ECF6",
            "gridcolor": "white",
            "gridwidth": 2,
            "linecolor": "white",
            "showbackground": true,
            "ticks": "",
            "zerolinecolor": "white"
           },
           "yaxis": {
            "backgroundcolor": "#E5ECF6",
            "gridcolor": "white",
            "gridwidth": 2,
            "linecolor": "white",
            "showbackground": true,
            "ticks": "",
            "zerolinecolor": "white"
           },
           "zaxis": {
            "backgroundcolor": "#E5ECF6",
            "gridcolor": "white",
            "gridwidth": 2,
            "linecolor": "white",
            "showbackground": true,
            "ticks": "",
            "zerolinecolor": "white"
           }
          },
          "shapedefaults": {
           "line": {
            "color": "#2a3f5f"
           }
          },
          "ternary": {
           "aaxis": {
            "gridcolor": "white",
            "linecolor": "white",
            "ticks": ""
           },
           "baxis": {
            "gridcolor": "white",
            "linecolor": "white",
            "ticks": ""
           },
           "bgcolor": "#E5ECF6",
           "caxis": {
            "gridcolor": "white",
            "linecolor": "white",
            "ticks": ""
           }
          },
          "title": {
           "x": 0.05
          },
          "xaxis": {
           "automargin": true,
           "gridcolor": "white",
           "linecolor": "white",
           "ticks": "",
           "title": {
            "standoff": 15
           },
           "zerolinecolor": "white",
           "zerolinewidth": 2
          },
          "yaxis": {
           "automargin": true,
           "gridcolor": "white",
           "linecolor": "white",
           "ticks": "",
           "title": {
            "standoff": 15
           },
           "zerolinecolor": "white",
           "zerolinewidth": 2
          }
         }
        },
        "title": {
         "font": {
          "color": "#151516"
         }
        },
        "xaxis": {
         "gridcolor": "#F6F6F6",
         "showgrid": true,
         "tickfont": {
          "color": "#666666"
         },
         "title": {
          "font": {
           "color": "#666666"
          },
          "text": ""
         },
         "zerolinecolor": "#F6F6F6"
        },
        "yaxis": {
         "gridcolor": "#F6F6F6",
         "showgrid": true,
         "tickfont": {
          "color": "#666666"
         },
         "title": {
          "font": {
           "color": "#666666"
          },
          "text": ""
         },
         "zerolinecolor": "#F6F6F6"
        }
       }
      },
      "text/html": [
       "<div>                            <div id=\"38b6d725-4ea6-445b-a5b5-cb0ca950764b\" class=\"plotly-graph-div\" style=\"height:525px; width:100%;\"></div>            <script type=\"text/javascript\">                require([\"plotly\"], function(Plotly) {                    window.PLOTLYENV=window.PLOTLYENV || {};\n",
       "                    window.PLOTLYENV.BASE_URL='https://plot.ly';                                    if (document.getElementById(\"38b6d725-4ea6-445b-a5b5-cb0ca950764b\")) {                    Plotly.newPlot(                        \"38b6d725-4ea6-445b-a5b5-cb0ca950764b\",                        [{\"marker\": {\"color\": \"rgba(144, 238, 144, 0.6)\", \"line\": {\"color\": \"rgba(144, 238, 144, 1.0)\", \"width\": 1}}, \"name\": \"Fatal\", \"orientation\": \"v\", \"text\": \"\", \"type\": \"bar\", \"x\": [\"angel shark\", \"basking shark\", \"blacktail reef shark\", \"blacktip reef shark\", \"blacktip shark\", \"blue nose shark\", \"blue pointer\", \"blue shark\", \"bonitshark\", \"bronze whaler\", \"bull shark\", \"caribbean reef shark\", \"carpet shark\", \"copper shark\", \"cow shark\", \"dog shark\", \"dusky shark\", \"galapagos shark\", \"grey nurse shark\", \"grey reef shark\", \"hammerhead shark\", \"lemon shark\", \"mako shark\", \"nurse shark\", \"oceanic whitetip shark\", \"raggedoth shark\", \"sand shark\", \"spinner shark\", \"tiger shark\", \"white shark\", \"wobbegong shark\", \"zambesi shark\"], \"y\": [6, 7, 1, 12, 64, 2, 7, 41, 1, 64, 174, 16, 8, 5, 2, 6, 14, 7, 39, 17, 44, 37, 44, 57, 23, 43, 18, 43, 285, 635, 46, 29]}],                        {\"legend\": {\"bgcolor\": \"#FFFFFF\", \"font\": {\"color\": \"#666666\"}}, \"paper_bgcolor\": \"#FFFFFF\", \"plot_bgcolor\": \"#E5E5E5\", \"template\": {\"data\": {\"bar\": [{\"error_x\": {\"color\": \"#2a3f5f\"}, \"error_y\": {\"color\": \"#2a3f5f\"}, \"marker\": {\"line\": {\"color\": \"#E5ECF6\", \"width\": 0.5}}, \"type\": \"bar\"}], \"barpolar\": [{\"marker\": {\"line\": {\"color\": \"#E5ECF6\", \"width\": 0.5}}, \"type\": \"barpolar\"}], \"carpet\": [{\"aaxis\": {\"endlinecolor\": \"#2a3f5f\", \"gridcolor\": \"white\", \"linecolor\": \"white\", \"minorgridcolor\": \"white\", \"startlinecolor\": \"#2a3f5f\"}, \"baxis\": {\"endlinecolor\": \"#2a3f5f\", \"gridcolor\": \"white\", \"linecolor\": \"white\", \"minorgridcolor\": \"white\", \"startlinecolor\": \"#2a3f5f\"}, \"type\": \"carpet\"}], \"choropleth\": [{\"colorbar\": {\"outlinewidth\": 0, \"ticks\": \"\"}, \"type\": \"choropleth\"}], \"contour\": [{\"colorbar\": {\"outlinewidth\": 0, \"ticks\": \"\"}, \"colorscale\": [[0.0, \"#0d0887\"], [0.1111111111111111, \"#46039f\"], [0.2222222222222222, \"#7201a8\"], [0.3333333333333333, \"#9c179e\"], [0.4444444444444444, \"#bd3786\"], [0.5555555555555556, \"#d8576b\"], [0.6666666666666666, \"#ed7953\"], [0.7777777777777778, \"#fb9f3a\"], [0.8888888888888888, \"#fdca26\"], [1.0, \"#f0f921\"]], \"type\": \"contour\"}], \"contourcarpet\": [{\"colorbar\": {\"outlinewidth\": 0, \"ticks\": \"\"}, \"type\": \"contourcarpet\"}], \"heatmap\": [{\"colorbar\": {\"outlinewidth\": 0, \"ticks\": \"\"}, \"colorscale\": [[0.0, \"#0d0887\"], [0.1111111111111111, \"#46039f\"], [0.2222222222222222, \"#7201a8\"], [0.3333333333333333, \"#9c179e\"], [0.4444444444444444, \"#bd3786\"], [0.5555555555555556, \"#d8576b\"], [0.6666666666666666, \"#ed7953\"], [0.7777777777777778, \"#fb9f3a\"], [0.8888888888888888, \"#fdca26\"], [1.0, \"#f0f921\"]], \"type\": \"heatmap\"}], \"heatmapgl\": [{\"colorbar\": {\"outlinewidth\": 0, \"ticks\": \"\"}, \"colorscale\": [[0.0, \"#0d0887\"], [0.1111111111111111, \"#46039f\"], [0.2222222222222222, \"#7201a8\"], [0.3333333333333333, \"#9c179e\"], [0.4444444444444444, \"#bd3786\"], [0.5555555555555556, \"#d8576b\"], [0.6666666666666666, \"#ed7953\"], [0.7777777777777778, \"#fb9f3a\"], [0.8888888888888888, \"#fdca26\"], [1.0, \"#f0f921\"]], \"type\": \"heatmapgl\"}], \"histogram\": [{\"marker\": {\"colorbar\": {\"outlinewidth\": 0, \"ticks\": \"\"}}, \"type\": \"histogram\"}], \"histogram2d\": [{\"colorbar\": {\"outlinewidth\": 0, \"ticks\": \"\"}, \"colorscale\": [[0.0, \"#0d0887\"], [0.1111111111111111, \"#46039f\"], [0.2222222222222222, \"#7201a8\"], [0.3333333333333333, \"#9c179e\"], [0.4444444444444444, \"#bd3786\"], [0.5555555555555556, \"#d8576b\"], [0.6666666666666666, \"#ed7953\"], [0.7777777777777778, \"#fb9f3a\"], [0.8888888888888888, \"#fdca26\"], [1.0, \"#f0f921\"]], \"type\": \"histogram2d\"}], \"histogram2dcontour\": [{\"colorbar\": {\"outlinewidth\": 0, \"ticks\": \"\"}, \"colorscale\": [[0.0, \"#0d0887\"], [0.1111111111111111, \"#46039f\"], [0.2222222222222222, \"#7201a8\"], [0.3333333333333333, \"#9c179e\"], [0.4444444444444444, \"#bd3786\"], [0.5555555555555556, \"#d8576b\"], [0.6666666666666666, \"#ed7953\"], [0.7777777777777778, \"#fb9f3a\"], [0.8888888888888888, \"#fdca26\"], [1.0, \"#f0f921\"]], \"type\": \"histogram2dcontour\"}], \"mesh3d\": [{\"colorbar\": {\"outlinewidth\": 0, \"ticks\": \"\"}, \"type\": \"mesh3d\"}], \"parcoords\": [{\"line\": {\"colorbar\": {\"outlinewidth\": 0, \"ticks\": \"\"}}, \"type\": \"parcoords\"}], \"pie\": [{\"automargin\": true, \"type\": \"pie\"}], \"scatter\": [{\"marker\": {\"colorbar\": {\"outlinewidth\": 0, \"ticks\": \"\"}}, \"type\": \"scatter\"}], \"scatter3d\": [{\"line\": {\"colorbar\": {\"outlinewidth\": 0, \"ticks\": \"\"}}, \"marker\": {\"colorbar\": {\"outlinewidth\": 0, \"ticks\": \"\"}}, \"type\": \"scatter3d\"}], \"scattercarpet\": [{\"marker\": {\"colorbar\": {\"outlinewidth\": 0, \"ticks\": \"\"}}, \"type\": \"scattercarpet\"}], \"scattergeo\": [{\"marker\": {\"colorbar\": {\"outlinewidth\": 0, \"ticks\": \"\"}}, \"type\": \"scattergeo\"}], \"scattergl\": [{\"marker\": {\"colorbar\": {\"outlinewidth\": 0, \"ticks\": \"\"}}, \"type\": \"scattergl\"}], \"scattermapbox\": [{\"marker\": {\"colorbar\": {\"outlinewidth\": 0, \"ticks\": \"\"}}, \"type\": \"scattermapbox\"}], \"scatterpolar\": [{\"marker\": {\"colorbar\": {\"outlinewidth\": 0, \"ticks\": \"\"}}, \"type\": \"scatterpolar\"}], \"scatterpolargl\": [{\"marker\": {\"colorbar\": {\"outlinewidth\": 0, \"ticks\": \"\"}}, \"type\": \"scatterpolargl\"}], \"scatterternary\": [{\"marker\": {\"colorbar\": {\"outlinewidth\": 0, \"ticks\": \"\"}}, \"type\": \"scatterternary\"}], \"surface\": [{\"colorbar\": {\"outlinewidth\": 0, \"ticks\": \"\"}, \"colorscale\": [[0.0, \"#0d0887\"], [0.1111111111111111, \"#46039f\"], [0.2222222222222222, \"#7201a8\"], [0.3333333333333333, \"#9c179e\"], [0.4444444444444444, \"#bd3786\"], [0.5555555555555556, \"#d8576b\"], [0.6666666666666666, \"#ed7953\"], [0.7777777777777778, \"#fb9f3a\"], [0.8888888888888888, \"#fdca26\"], [1.0, \"#f0f921\"]], \"type\": \"surface\"}], \"table\": [{\"cells\": {\"fill\": {\"color\": \"#EBF0F8\"}, \"line\": {\"color\": \"white\"}}, \"header\": {\"fill\": {\"color\": \"#C8D4E3\"}, \"line\": {\"color\": \"white\"}}, \"type\": \"table\"}]}, \"layout\": {\"annotationdefaults\": {\"arrowcolor\": \"#2a3f5f\", \"arrowhead\": 0, \"arrowwidth\": 1}, \"autotypenumbers\": \"strict\", \"coloraxis\": {\"colorbar\": {\"outlinewidth\": 0, \"ticks\": \"\"}}, \"colorscale\": {\"diverging\": [[0, \"#8e0152\"], [0.1, \"#c51b7d\"], [0.2, \"#de77ae\"], [0.3, \"#f1b6da\"], [0.4, \"#fde0ef\"], [0.5, \"#f7f7f7\"], [0.6, \"#e6f5d0\"], [0.7, \"#b8e186\"], [0.8, \"#7fbc41\"], [0.9, \"#4d9221\"], [1, \"#276419\"]], \"sequential\": [[0.0, \"#0d0887\"], [0.1111111111111111, \"#46039f\"], [0.2222222222222222, \"#7201a8\"], [0.3333333333333333, \"#9c179e\"], [0.4444444444444444, \"#bd3786\"], [0.5555555555555556, \"#d8576b\"], [0.6666666666666666, \"#ed7953\"], [0.7777777777777778, \"#fb9f3a\"], [0.8888888888888888, \"#fdca26\"], [1.0, \"#f0f921\"]], \"sequentialminus\": [[0.0, \"#0d0887\"], [0.1111111111111111, \"#46039f\"], [0.2222222222222222, \"#7201a8\"], [0.3333333333333333, \"#9c179e\"], [0.4444444444444444, \"#bd3786\"], [0.5555555555555556, \"#d8576b\"], [0.6666666666666666, \"#ed7953\"], [0.7777777777777778, \"#fb9f3a\"], [0.8888888888888888, \"#fdca26\"], [1.0, \"#f0f921\"]]}, \"colorway\": [\"#636efa\", \"#EF553B\", \"#00cc96\", \"#ab63fa\", \"#FFA15A\", \"#19d3f3\", \"#FF6692\", \"#B6E880\", \"#FF97FF\", \"#FECB52\"], \"font\": {\"color\": \"#2a3f5f\"}, \"geo\": {\"bgcolor\": \"white\", \"lakecolor\": \"white\", \"landcolor\": \"#E5ECF6\", \"showlakes\": true, \"showland\": true, \"subunitcolor\": \"white\"}, \"hoverlabel\": {\"align\": \"left\"}, \"hovermode\": \"closest\", \"mapbox\": {\"style\": \"light\"}, \"paper_bgcolor\": \"white\", \"plot_bgcolor\": \"#E5ECF6\", \"polar\": {\"angularaxis\": {\"gridcolor\": \"white\", \"linecolor\": \"white\", \"ticks\": \"\"}, \"bgcolor\": \"#E5ECF6\", \"radialaxis\": {\"gridcolor\": \"white\", \"linecolor\": \"white\", \"ticks\": \"\"}}, \"scene\": {\"xaxis\": {\"backgroundcolor\": \"#E5ECF6\", \"gridcolor\": \"white\", \"gridwidth\": 2, \"linecolor\": \"white\", \"showbackground\": true, \"ticks\": \"\", \"zerolinecolor\": \"white\"}, \"yaxis\": {\"backgroundcolor\": \"#E5ECF6\", \"gridcolor\": \"white\", \"gridwidth\": 2, \"linecolor\": \"white\", \"showbackground\": true, \"ticks\": \"\", \"zerolinecolor\": \"white\"}, \"zaxis\": {\"backgroundcolor\": \"#E5ECF6\", \"gridcolor\": \"white\", \"gridwidth\": 2, \"linecolor\": \"white\", \"showbackground\": true, \"ticks\": \"\", \"zerolinecolor\": \"white\"}}, \"shapedefaults\": {\"line\": {\"color\": \"#2a3f5f\"}}, \"ternary\": {\"aaxis\": {\"gridcolor\": \"white\", \"linecolor\": \"white\", \"ticks\": \"\"}, \"baxis\": {\"gridcolor\": \"white\", \"linecolor\": \"white\", \"ticks\": \"\"}, \"bgcolor\": \"#E5ECF6\", \"caxis\": {\"gridcolor\": \"white\", \"linecolor\": \"white\", \"ticks\": \"\"}}, \"title\": {\"x\": 0.05}, \"xaxis\": {\"automargin\": true, \"gridcolor\": \"white\", \"linecolor\": \"white\", \"ticks\": \"\", \"title\": {\"standoff\": 15}, \"zerolinecolor\": \"white\", \"zerolinewidth\": 2}, \"yaxis\": {\"automargin\": true, \"gridcolor\": \"white\", \"linecolor\": \"white\", \"ticks\": \"\", \"title\": {\"standoff\": 15}, \"zerolinecolor\": \"white\", \"zerolinewidth\": 2}}}, \"title\": {\"font\": {\"color\": \"#151516\"}}, \"xaxis\": {\"gridcolor\": \"#F6F6F6\", \"showgrid\": true, \"tickfont\": {\"color\": \"#666666\"}, \"title\": {\"font\": {\"color\": \"#666666\"}, \"text\": \"\"}, \"zerolinecolor\": \"#F6F6F6\"}, \"yaxis\": {\"gridcolor\": \"#F6F6F6\", \"showgrid\": true, \"tickfont\": {\"color\": \"#666666\"}, \"title\": {\"font\": {\"color\": \"#666666\"}, \"text\": \"\"}, \"zerolinecolor\": \"#F6F6F6\"}},                        {\"showLink\": true, \"linkText\": \"Export to plot.ly\", \"plotlyServerURL\": \"https://plot.ly\", \"responsive\": true}                    ).then(function(){\n",
       "                            \n",
       "var gd = document.getElementById('38b6d725-4ea6-445b-a5b5-cb0ca950764b');\n",
       "var x = new MutationObserver(function (mutations, observer) {{\n",
       "        var display = window.getComputedStyle(gd).display;\n",
       "        if (!display || display === 'none') {{\n",
       "            console.log([gd, 'removed!']);\n",
       "            Plotly.purge(gd);\n",
       "            observer.disconnect();\n",
       "        }}\n",
       "}});\n",
       "\n",
       "// Listen for the removal of the full notebook cells\n",
       "var notebookContainer = gd.closest('#notebook-container');\n",
       "if (notebookContainer) {{\n",
       "    x.observe(notebookContainer, {childList: true});\n",
       "}}\n",
       "\n",
       "// Listen for the clearing of the current output cell\n",
       "var outputEl = gd.closest('.output');\n",
       "if (outputEl) {{\n",
       "    x.observe(outputEl, {childList: true});\n",
       "}}\n",
       "\n",
       "                        })                };                });            </script>        </div>"
      ]
     },
     "metadata": {},
     "output_type": "display_data"
    }
   ],
   "source": [
    "shark_count.iplot(kind='bar', color = 'lightgreen')"
   ]
  },
  {
   "cell_type": "code",
   "execution_count": 93,
   "metadata": {},
   "outputs": [
    {
     "data": {
      "text/plain": [
       "[Text(0, 0, 'white shark'),\n",
       " Text(1, 0, 'tiger shark'),\n",
       " Text(2, 0, 'bull shark'),\n",
       " Text(3, 0, 'nurse shark'),\n",
       " Text(4, 0, 'wobbegong shark'),\n",
       " Text(5, 0, 'blacktip shark'),\n",
       " Text(6, 0, 'blue shark'),\n",
       " Text(7, 0, 'spinner shark'),\n",
       " Text(8, 0, 'mako shark'),\n",
       " Text(9, 0, 'bronze whaler'),\n",
       " Text(10, 0, 'hammerhead shark'),\n",
       " Text(11, 0, 'raggedoth shark')]"
      ]
     },
     "execution_count": 93,
     "metadata": {},
     "output_type": "execute_result"
    },
    {
     "data": {
      "image/png": "[encoded data removed]",
      "text/plain": [
       "<Figure size 849.6x595.44 with 1 Axes>"
      ]
     },
     "metadata": {},
     "output_type": "display_data"
    }
   ],
   "source": [
    "sns.set(rc={'figure.figsize':(11.8,8.27)})\n",
    "sns.set_style('white')\n",
    "pl = sns.countplot(x=aggresive_sharks.shark_species, hue = aggresive_sharks.Fatal, palette=\"viridis\")\n",
    "pl.set(ylim=(0,300))\n",
    "pl.set_xticklabels(pl.get_xticklabels(),rotation = 30)"
   ]
  },
  {
   "cell_type": "markdown",
   "metadata": {},
   "source": [
    "### Geographical Visualization "
   ]
  },
  {
   "cell_type": "code",
   "execution_count": 161,
   "metadata": {},
   "outputs": [],
   "source": [
    "from pycountry_convert import country_alpha2_to_continent_code, country_name_to_country_alpha2,map_countries\n",
    "from geopy.geocoders import Nominatim\n",
    "from geopy.exc import GeocoderTimedOut"
   ]
  },
  {
   "cell_type": "code",
   "execution_count": 7,
   "metadata": {},
   "outputs": [],
   "source": [
    "def get_country_code(col):\n",
    "    try:\n",
    "        cn_a2_code =  country_name_to_country_alpha2(col)\n",
    "    except:\n",
    "        cn_a2_code = 'Unknown' \n",
    "    return cn_a2_code"
   ]
  },
  {
   "cell_type": "code",
   "execution_count": 8,
   "metadata": {},
   "outputs": [],
   "source": [
    "def get_continent(col):\n",
    "    try:\n",
    "        cn_continent = country_alpha2_to_continent_code(col)\n",
    "    except:\n",
    "        cn_continent = 'Unknown' \n",
    "    return cn_continent"
   ]
  },
  {
   "cell_type": "code",
   "execution_count": 9,
   "metadata": {},
   "outputs": [],
   "source": [
    "data['country_code'] = list(map(get_country_code,data.Country))"
   ]
  },
  {
   "cell_type": "code",
   "execution_count": 10,
   "metadata": {},
   "outputs": [],
   "source": [
    "data['continent'] = list(map(get_continent,data.country_code))"
   ]
  },
  {
   "cell_type": "code",
   "execution_count": 5,
   "metadata": {},
   "outputs": [],
   "source": [
    "from geopy.geocoders import Nominatim\n",
    "geolocator = Nominatim(user_agent='my_application')"
   ]
  },
  {
   "cell_type": "code",
   "execution_count": 37,
   "metadata": {},
   "outputs": [
    {
     "data": {
      "text/plain": [
       "39.3260685"
      ]
     },
     "execution_count": 37,
     "metadata": {},
     "output_type": "execute_result"
    }
   ],
   "source": [
    "geolocator = Nominatim(user_agent=\"your_app_name\")\n",
    "geolocator.geocode('Spain').latitude"
   ]
  },
  {
   "cell_type": "code",
   "execution_count": 12,
   "metadata": {},
   "outputs": [],
   "source": [
    "lat = []\n",
    "long = []\n",
    "geolocator = Nominatim(user_agent=\"your_app_name\")\n",
    "def latitude_coord(col):\n",
    "    return geolocator.geocode(col).latitude\n",
    "\n",
    "def longitude_coord(col):\n",
    "    geolo"
   ]
  },
  {
   "cell_type": "code",
   "execution_count": 13,
   "metadata": {},
   "outputs": [],
   "source": [
    "for i in data.Country:\n",
    "    try:\n",
    "        lat.append(latitude_coord(i))\n",
    "    except: \n",
    "        lat.append('Unknown')"
   ]
  },
  {
   "cell_type": "code",
   "execution_count": 16,
   "metadata": {},
   "outputs": [],
   "source": [
    "for i in data.Country:\n",
    "    try:\n",
    "        long.append(geolocator.geocode(i).longitude)\n",
    "    except: \n",
    "        long.append('Unknown')"
   ]
  },
  {
   "cell_type": "code",
   "execution_count": 15,
   "metadata": {},
   "outputs": [],
   "source": [
    "data['lat'] = lat"
   ]
  },
  {
   "cell_type": "code",
   "execution_count": 36,
   "metadata": {},
   "outputs": [],
   "source": [
    "data['long'] = long"
   ]
  },
  {
   "cell_type": "code",
   "execution_count": 40,
   "metadata": {},
   "outputs": [],
   "source": [
    "data.to_csv(r'C:\\Users\\juanp\\proyectos_varios\\shark_attacks\\data\\data_coords.csv' , index = False)"
   ]
  },
  {
   "cell_type": "code",
   "execution_count": 37,
   "metadata": {},
   "outputs": [],
   "source": [
    "import geopandas, shapely\n",
    "from shapely.geometry import Point\n",
    "import geojson\n",
    "with open('data\\\\countries.geojson') as f:\n",
    "    gj = geojson.load(f)"
   ]
  },
  {
   "cell_type": "code",
   "execution_count": 58,
   "metadata": {},
   "outputs": [
    {
     "data": {
      "text/html": [
       "<div>\n",
       "<style scoped>\n",
       "    .dataframe tbody tr th:only-of-type {\n",
       "        vertical-align: middle;\n",
       "    }\n",
       "\n",
       "    .dataframe tbody tr th {\n",
       "        vertical-align: top;\n",
       "    }\n",
       "\n",
       "    .dataframe thead th {\n",
       "        text-align: right;\n",
       "    }\n",
       "</style>\n",
       "<table border=\"1\" class=\"dataframe\">\n",
       "  <thead>\n",
       "    <tr style=\"text-align: right;\">\n",
       "      <th></th>\n",
       "      <th>Unnamed: 0</th>\n",
       "      <th>Case_Number</th>\n",
       "      <th>Year</th>\n",
       "      <th>Type</th>\n",
       "      <th>Country</th>\n",
       "      <th>Area</th>\n",
       "      <th>Location</th>\n",
       "      <th>Activity</th>\n",
       "      <th>Sex</th>\n",
       "      <th>Age</th>\n",
       "      <th>...</th>\n",
       "      <th>Time</th>\n",
       "      <th>Species</th>\n",
       "      <th>fatal_injury</th>\n",
       "      <th>shark_species</th>\n",
       "      <th>month_incident</th>\n",
       "      <th>country_code</th>\n",
       "      <th>continent</th>\n",
       "      <th>lat</th>\n",
       "      <th>long</th>\n",
       "      <th>geometry</th>\n",
       "    </tr>\n",
       "  </thead>\n",
       "  <tbody>\n",
       "    <tr>\n",
       "      <th>3</th>\n",
       "      <td>3</td>\n",
       "      <td>2018.06.08</td>\n",
       "      <td>2018</td>\n",
       "      <td>Unprovoked</td>\n",
       "      <td>Australia</td>\n",
       "      <td>New South Wales</td>\n",
       "      <td>Arrawarra Headland</td>\n",
       "      <td>Surfing</td>\n",
       "      <td>M</td>\n",
       "      <td>NaN</td>\n",
       "      <td>...</td>\n",
       "      <td>07:45</td>\n",
       "      <td>shark</td>\n",
       "      <td>NaN</td>\n",
       "      <td>NaN</td>\n",
       "      <td>Jun</td>\n",
       "      <td>AU</td>\n",
       "      <td>OC</td>\n",
       "      <td>-24.776109</td>\n",
       "      <td>134.755</td>\n",
       "      <td>POINT (134.75500 -24.77611)</td>\n",
       "    </tr>\n",
       "  </tbody>\n",
       "</table>\n",
       "<p>1 rows × 22 columns</p>\n",
       "</div>"
      ],
      "text/plain": [
       "   Unnamed: 0 Case_Number  Year        Type    Country             Area  \\\n",
       "3           3  2018.06.08  2018  Unprovoked  Australia  New South Wales   \n",
       "\n",
       "             Location Activity Sex  Age  ...   Time Species fatal_injury  \\\n",
       "3  Arrawarra Headland  Surfing   M  NaN  ...  07:45   shark          NaN   \n",
       "\n",
       "  shark_species month_incident country_code continent        lat     long  \\\n",
       "3           NaN            Jun           AU        OC -24.776109  134.755   \n",
       "\n",
       "                      geometry  \n",
       "3  POINT (134.75500 -24.77611)  \n",
       "\n",
       "[1 rows x 22 columns]"
      ]
     },
     "execution_count": 58,
     "metadata": {},
     "output_type": "execute_result"
    }
   ],
   "source": [
    "gdp[gdp.Country== 'Australia'].head(1)"
   ]
  },
  {
   "cell_type": "code",
   "execution_count": 59,
   "metadata": {},
   "outputs": [
    {
     "ename": "FileNotFoundError",
     "evalue": "[Errno 2] No such file or directory: 'spain-communities.geojson'",
     "output_type": "error",
     "traceback": [
      "\u001b[1;31m---------------------------------------------------------------------------\u001b[0m",
      "\u001b[1;31mFileNotFoundError\u001b[0m                         Traceback (most recent call last)",
      "\u001b[1;32m<ipython-input-59-bcde91080bff>\u001b[0m in \u001b[0;36m<module>\u001b[1;34m\u001b[0m\n\u001b[0;32m      2\u001b[0m \u001b[1;33m\u001b[0m\u001b[0m\n\u001b[0;32m      3\u001b[0m \u001b[1;31m# open the json file - json.load() methods returns a python dictionary\u001b[0m\u001b[1;33m\u001b[0m\u001b[1;33m\u001b[0m\u001b[1;33m\u001b[0m\u001b[0m\n\u001b[1;32m----> 4\u001b[1;33m \u001b[1;32mwith\u001b[0m \u001b[0mopen\u001b[0m\u001b[1;33m(\u001b[0m\u001b[0mcommunities_geo\u001b[0m\u001b[1;33m)\u001b[0m \u001b[1;32mas\u001b[0m \u001b[0mcommunities_file\u001b[0m\u001b[1;33m:\u001b[0m\u001b[1;33m\u001b[0m\u001b[1;33m\u001b[0m\u001b[0m\n\u001b[0m\u001b[0;32m      5\u001b[0m     \u001b[0mcommunities_json\u001b[0m \u001b[1;33m=\u001b[0m \u001b[0mjson\u001b[0m\u001b[1;33m.\u001b[0m\u001b[0mload\u001b[0m\u001b[1;33m(\u001b[0m\u001b[0mcommunities_file\u001b[0m\u001b[1;33m)\u001b[0m\u001b[1;33m\u001b[0m\u001b[1;33m\u001b[0m\u001b[0m\n",
      "\u001b[1;31mFileNotFoundError\u001b[0m: [Errno 2] No such file or directory: 'spain-communities.geojson'"
     ]
    }
   ],
   "source": [
    "communities_geo = r'spain-communities.geojson'\n",
    "\n",
    "# open the json file - json.load() methods returns a python dictionary\n",
    "with open(communities_geo) as communities_file:\n",
    "    communities_json = json.load(communities_file)"
   ]
  },
  {
   "cell_type": "code",
   "execution_count": 24,
   "metadata": {},
   "outputs": [],
   "source": [
    "lat = list(data.lat)"
   ]
  },
  {
   "cell_type": "code",
   "execution_count": 26,
   "metadata": {},
   "outputs": [],
   "source": [
    "long = list(data.long)"
   ]
  },
  {
   "cell_type": "code",
   "execution_count": 42,
   "metadata": {},
   "outputs": [],
   "source": [
    "data.lat = data.lat.apply(lambda x: float(x) if x!= 'Unknown' else '')"
   ]
  },
  {
   "cell_type": "code",
   "execution_count": 43,
   "metadata": {},
   "outputs": [],
   "source": [
    "data.long = data.long.apply(lambda x: float(x) if x!= 'Unknown' else '')"
   ]
  },
  {
   "cell_type": "code",
   "execution_count": 61,
   "metadata": {},
   "outputs": [],
   "source": [
    "data_coords = data[(data.lat != 'Unknown') & (data.long != 'Unknown')]"
   ]
  },
  {
   "cell_type": "code",
   "execution_count": 67,
   "metadata": {},
   "outputs": [],
   "source": [
    "gdp = geopandas.GeoDataFrame(\n",
    "    data_coords, geometry=geopandas.points_from_xy(data_coords.long, data_coords.lat))\n"
   ]
  },
  {
   "cell_type": "code",
   "execution_count": 13,
   "metadata": {},
   "outputs": [],
   "source": [
    "gdp = geopandas.GeoDataFrame(gdf, geometry=geopandas.points_from_xy(gdf.long, gdf.lat))"
   ]
  },
  {
   "cell_type": "code",
   "execution_count": 70,
   "metadata": {},
   "outputs": [],
   "source": [
    "gdp.to_csv(r'C:\\Users\\juanp\\proyectos_varios\\shark_attacks\\data\\data_geoframe.csv' , index = False)"
   ]
  },
  {
   "cell_type": "markdown",
   "metadata": {},
   "source": [
    "### Creating World Map"
   ]
  },
  {
   "cell_type": "code",
   "execution_count": 102,
   "metadata": {},
   "outputs": [
    {
     "data": {
      "text/plain": [
       "Index(['Unnamed: 0', 'Case_Number', 'Year', 'Type', 'Country', 'Area',\n",
       "       'Location', 'Activity', 'Sex', 'Age', 'Injury', 'Fatal', 'Time',\n",
       "       'Species', 'fatal_injury', 'shark_species', 'month_incident',\n",
       "       'country_code', 'continent', 'lat', 'long', 'geometry'],\n",
       "      dtype='object')"
      ]
     },
     "execution_count": 102,
     "metadata": {},
     "output_type": "execute_result"
    }
   ],
   "source": [
    "gdp.columns"
   ]
  },
  {
   "cell_type": "code",
   "execution_count": 181,
   "metadata": {},
   "outputs": [],
   "source": [
    "data_fatal = gdp.groupby('Country').agg({'Type':'count','fatal_injury':'count','lat':'first', 'long':'first'})"
   ]
  },
  {
   "cell_type": "code",
   "execution_count": 182,
   "metadata": {},
   "outputs": [],
   "source": [
    "data_fatal = pd.DataFrame(data_fatal)"
   ]
  },
  {
   "cell_type": "code",
   "execution_count": 183,
   "metadata": {},
   "outputs": [],
   "source": [
    "data_fatal.reset_index(level=0, inplace=True)"
   ]
  },
  {
   "cell_type": "code",
   "execution_count": 184,
   "metadata": {},
   "outputs": [],
   "source": [
    "data_fatal['fatal_perc'] = round((data_fatal.fatal_injury / data_fatal.Type)*100,2)"
   ]
  },
  {
   "cell_type": "code",
   "execution_count": 185,
   "metadata": {},
   "outputs": [],
   "source": [
    "data_fatal_gdp = geopandas.GeoDataFrame(data_fatal, geometry=geopandas.points_from_xy(data_fatal.long, data_fatal.lat))"
   ]
  },
  {
   "cell_type": "code",
   "execution_count": 186,
   "metadata": {},
   "outputs": [],
   "source": [
    "df_json = json.loads(data_fatal_gdp.to_json())"
   ]
  },
  {
   "cell_type": "code",
   "execution_count": 187,
   "metadata": {},
   "outputs": [],
   "source": [
    "json_data = json.dumps(df_json)"
   ]
  },
  {
   "cell_type": "code",
   "execution_count": 188,
   "metadata": {},
   "outputs": [],
   "source": [
    "from bokeh.io import output_notebook, show, output_file\n",
    "from bokeh.plotting import figure\n",
    "from bokeh.models import GeoJSONDataSource, LinearColorMapper, ColorBar\n",
    "from bokeh.palettes import brewer"
   ]
  },
  {
   "cell_type": "code",
   "execution_count": 189,
   "metadata": {},
   "outputs": [],
   "source": [
    "geosource = GeoJSONDataSource(geojson=json_data)"
   ]
  },
  {
   "cell_type": "code",
   "execution_count": 190,
   "metadata": {},
   "outputs": [],
   "source": [
    "palette = brewer['YlGnBu'][8]\n",
    "palette = palette[::-1]\n",
    "color_mapper = LinearColorMapper(palette = palette, low = 0, high = 2000)"
   ]
  },
  {
   "cell_type": "code",
   "execution_count": 198,
   "metadata": {},
   "outputs": [],
   "source": [
    "p = figure(plot_height = 600 , plot_width = 950, toolbar_location = None)\n",
    "p.xgrid.grid_line_color = None\n",
    "p.ygrid.grid_line_color = None"
   ]
  },
  {
   "cell_type": "code",
   "execution_count": 200,
   "metadata": {},
   "outputs": [
    {
     "data": {
      "text/html": [
       "\n",
       "    <div class=\"bk-root\">\n",
       "        <a href=\"https://bokeh.org\" target=\"_blank\" class=\"bk-logo bk-logo-small bk-logo-notebook\"></a>\n",
       "        <span id=\"1815\">Loading BokehJS ...</span>\n",
       "    </div>"
      ]
     },
     "metadata": {},
     "output_type": "display_data"
    },
    {
     "data": {
      "application/javascript": [
       "\n",
       "(function(root) {\n",
       "  function now() {\n",
       "    return new Date();\n",
       "  }\n",
       "\n",
       "  const force = true;\n",
       "\n",
       "  if (typeof root._bokeh_onload_callbacks === \"undefined\" || force === true) {\n",
       "    root._bokeh_onload_callbacks = [];\n",
       "    root._bokeh_is_loading = undefined;\n",
       "  }\n",
       "\n",
       "  const JS_MIME_TYPE = 'application/javascript';\n",
       "  const HTML_MIME_TYPE = 'text/html';\n",
       "  const EXEC_MIME_TYPE = 'application/vnd.bokehjs_exec.v0+json';\n",
       "  const CLASS_NAME = 'output_bokeh rendered_html';\n",
       "\n",
       "  /**\n",
       "   * Render data to the DOM node\n",
       "   */\n",
       "  function render(props, node) {\n",
       "    const script = document.createElement(\"script\");\n",
       "    node.appendChild(script);\n",
       "  }\n",
       "\n",
       "  /**\n",
       "   * Handle when an output is cleared or removed\n",
       "   */\n",
       "  function handleClearOutput(event, handle) {\n",
       "    const cell = handle.cell;\n",
       "\n",
       "    const id = cell.output_area._bokeh_element_id;\n",
       "    const server_id = cell.output_area._bokeh_server_id;\n",
       "    // Clean up Bokeh references\n",
       "    if (id != null && id in Bokeh.index) {\n",
       "      Bokeh.index[id].model.document.clear();\n",
       "      delete Bokeh.index[id];\n",
       "    }\n",
       "\n",
       "    if (server_id !== undefined) {\n",
       "      // Clean up Bokeh references\n",
       "      const cmd_clean = \"from bokeh.io.state import curstate; print(curstate().uuid_to_server['\" + server_id + \"'].get_sessions()[0].document.roots[0]._id)\";\n",
       "      cell.notebook.kernel.execute(cmd_clean, {\n",
       "        iopub: {\n",
       "          output: function(msg) {\n",
       "            const id = msg.content.text.trim();\n",
       "            if (id in Bokeh.index) {\n",
       "              Bokeh.index[id].model.document.clear();\n",
       "              delete Bokeh.index[id];\n",
       "            }\n",
       "          }\n",
       "        }\n",
       "      });\n",
       "      // Destroy server and session\n",
       "      const cmd_destroy = \"import bokeh.io.notebook as ion; ion.destroy_server('\" + server_id + \"')\";\n",
       "      cell.notebook.kernel.execute(cmd_destroy);\n",
       "    }\n",
       "  }\n",
       "\n",
       "  /**\n",
       "   * Handle when a new output is added\n",
       "   */\n",
       "  function handleAddOutput(event, handle) {\n",
       "    const output_area = handle.output_area;\n",
       "    const output = handle.output;\n",
       "\n",
       "    // limit handleAddOutput to display_data with EXEC_MIME_TYPE content only\n",
       "    if ((output.output_type != \"display_data\") || (!Object.prototype.hasOwnProperty.call(output.data, EXEC_MIME_TYPE))) {\n",
       "      return\n",
       "    }\n",
       "\n",
       "    const toinsert = output_area.element.find(\".\" + CLASS_NAME.split(' ')[0]);\n",
       "\n",
       "    if (output.metadata[EXEC_MIME_TYPE][\"id\"] !== undefined) {\n",
       "      toinsert[toinsert.length - 1].firstChild.textContent = output.data[JS_MIME_TYPE];\n",
       "      // store reference to embed id on output_area\n",
       "      output_area._bokeh_element_id = output.metadata[EXEC_MIME_TYPE][\"id\"];\n",
       "    }\n",
       "    if (output.metadata[EXEC_MIME_TYPE][\"server_id\"] !== undefined) {\n",
       "      const bk_div = document.createElement(\"div\");\n",
       "      bk_div.innerHTML = output.data[HTML_MIME_TYPE];\n",
       "      const script_attrs = bk_div.children[0].attributes;\n",
       "      for (let i = 0; i < script_attrs.length; i++) {\n",
       "        toinsert[toinsert.length - 1].firstChild.setAttribute(script_attrs[i].name, script_attrs[i].value);\n",
       "        toinsert[toinsert.length - 1].firstChild.textContent = bk_div.children[0].textContent\n",
       "      }\n",
       "      // store reference to server id on output_area\n",
       "      output_area._bokeh_server_id = output.metadata[EXEC_MIME_TYPE][\"server_id\"];\n",
       "    }\n",
       "  }\n",
       "\n",
       "  function register_renderer(events, OutputArea) {\n",
       "\n",
       "    function append_mime(data, metadata, element) {\n",
       "      // create a DOM node to render to\n",
       "      const toinsert = this.create_output_subarea(\n",
       "        metadata,\n",
       "        CLASS_NAME,\n",
       "        EXEC_MIME_TYPE\n",
       "      );\n",
       "      this.keyboard_manager.register_events(toinsert);\n",
       "      // Render to node\n",
       "      const props = {data: data, metadata: metadata[EXEC_MIME_TYPE]};\n",
       "      render(props, toinsert[toinsert.length - 1]);\n",
       "      element.append(toinsert);\n",
       "      return toinsert\n",
       "    }\n",
       "\n",
       "    /* Handle when an output is cleared or removed */\n",
       "    events.on('clear_output.CodeCell', handleClearOutput);\n",
       "    events.on('delete.Cell', handleClearOutput);\n",
       "\n",
       "    /* Handle when a new output is added */\n",
       "    events.on('output_added.OutputArea', handleAddOutput);\n",
       "\n",
       "    /**\n",
       "     * Register the mime type and append_mime function with output_area\n",
       "     */\n",
       "    OutputArea.prototype.register_mime_type(EXEC_MIME_TYPE, append_mime, {\n",
       "      /* Is output safe? */\n",
       "      safe: true,\n",
       "      /* Index of renderer in `output_area.display_order` */\n",
       "      index: 0\n",
       "    });\n",
       "  }\n",
       "\n",
       "  // register the mime type if in Jupyter Notebook environment and previously unregistered\n",
       "  if (root.Jupyter !== undefined) {\n",
       "    const events = require('base/js/events');\n",
       "    const OutputArea = require('notebook/js/outputarea').OutputArea;\n",
       "\n",
       "    if (OutputArea.prototype.mime_types().indexOf(EXEC_MIME_TYPE) == -1) {\n",
       "      register_renderer(events, OutputArea);\n",
       "    }\n",
       "  }\n",
       "\n",
       "  \n",
       "  if (typeof (root._bokeh_timeout) === \"undefined\" || force === true) {\n",
       "    root._bokeh_timeout = Date.now() + 5000;\n",
       "    root._bokeh_failed_load = false;\n",
       "  }\n",
       "\n",
       "  const NB_LOAD_WARNING = {'data': {'text/html':\n",
       "     \"<div style='background-color: #fdd'>\\n\"+\n",
       "     \"<p>\\n\"+\n",
       "     \"BokehJS does not appear to have successfully loaded. If loading BokehJS from CDN, this \\n\"+\n",
       "     \"may be due to a slow or bad network connection. Possible fixes:\\n\"+\n",
       "     \"</p>\\n\"+\n",
       "     \"<ul>\\n\"+\n",
       "     \"<li>re-rerun `output_notebook()` to attempt to load from CDN again, or</li>\\n\"+\n",
       "     \"<li>use INLINE resources instead, as so:</li>\\n\"+\n",
       "     \"</ul>\\n\"+\n",
       "     \"<code>\\n\"+\n",
       "     \"from bokeh.resources import INLINE\\n\"+\n",
       "     \"output_notebook(resources=INLINE)\\n\"+\n",
       "     \"</code>\\n\"+\n",
       "     \"</div>\"}};\n",
       "\n",
       "  function display_loaded() {\n",
       "    const el = document.getElementById(\"1815\");\n",
       "    if (el != null) {\n",
       "      el.textContent = \"BokehJS is loading...\";\n",
       "    }\n",
       "    if (root.Bokeh !== undefined) {\n",
       "      if (el != null) {\n",
       "        el.textContent = \"BokehJS \" + root.Bokeh.version + \" successfully loaded.\";\n",
       "      }\n",
       "    } else if (Date.now() < root._bokeh_timeout) {\n",
       "      setTimeout(display_loaded, 100)\n",
       "    }\n",
       "  }\n",
       "\n",
       "\n",
       "  function run_callbacks() {\n",
       "    try {\n",
       "      root._bokeh_onload_callbacks.forEach(function(callback) {\n",
       "        if (callback != null)\n",
       "          callback();\n",
       "      });\n",
       "    } finally {\n",
       "      delete root._bokeh_onload_callbacks\n",
       "    }\n",
       "    console.debug(\"Bokeh: all callbacks have finished\");\n",
       "  }\n",
       "\n",
       "  function load_libs(css_urls, js_urls, callback) {\n",
       "    if (css_urls == null) css_urls = [];\n",
       "    if (js_urls == null) js_urls = [];\n",
       "\n",
       "    root._bokeh_onload_callbacks.push(callback);\n",
       "    if (root._bokeh_is_loading > 0) {\n",
       "      console.debug(\"Bokeh: BokehJS is being loaded, scheduling callback at\", now());\n",
       "      return null;\n",
       "    }\n",
       "    if (js_urls == null || js_urls.length === 0) {\n",
       "      run_callbacks();\n",
       "      return null;\n",
       "    }\n",
       "    console.debug(\"Bokeh: BokehJS not loaded, scheduling load and callback at\", now());\n",
       "    root._bokeh_is_loading = css_urls.length + js_urls.length;\n",
       "\n",
       "    function on_load() {\n",
       "      root._bokeh_is_loading--;\n",
       "      if (root._bokeh_is_loading === 0) {\n",
       "        console.debug(\"Bokeh: all BokehJS libraries/stylesheets loaded\");\n",
       "        run_callbacks()\n",
       "      }\n",
       "    }\n",
       "\n",
       "    function on_error(url) {\n",
       "      console.error(\"failed to load \" + url);\n",
       "    }\n",
       "\n",
       "    for (let i = 0; i < css_urls.length; i++) {\n",
       "      const url = css_urls[i];\n",
       "      const element = document.createElement(\"link\");\n",
       "      element.onload = on_load;\n",
       "      element.onerror = on_error.bind(null, url);\n",
       "      element.rel = \"stylesheet\";\n",
       "      element.type = \"text/css\";\n",
       "      element.href = url;\n",
       "      console.debug(\"Bokeh: injecting link tag for BokehJS stylesheet: \", url);\n",
       "      document.body.appendChild(element);\n",
       "    }\n",
       "\n",
       "    for (let i = 0; i < js_urls.length; i++) {\n",
       "      const url = js_urls[i];\n",
       "      const element = document.createElement('script');\n",
       "      element.onload = on_load;\n",
       "      element.onerror = on_error.bind(null, url);\n",
       "      element.async = false;\n",
       "      element.src = url;\n",
       "      console.debug(\"Bokeh: injecting script tag for BokehJS library: \", url);\n",
       "      document.head.appendChild(element);\n",
       "    }\n",
       "  };\n",
       "\n",
       "  function inject_raw_css(css) {\n",
       "    const element = document.createElement(\"style\");\n",
       "    element.appendChild(document.createTextNode(css));\n",
       "    document.body.appendChild(element);\n",
       "  }\n",
       "\n",
       "  \n",
       "  const js_urls = [\"https://cdn.bokeh.org/bokeh/release/bokeh-2.4.1.min.js\", \"https://cdn.bokeh.org/bokeh/release/bokeh-gl-2.4.1.min.js\", \"https://cdn.bokeh.org/bokeh/release/bokeh-widgets-2.4.1.min.js\", \"https://cdn.bokeh.org/bokeh/release/bokeh-tables-2.4.1.min.js\", \"https://cdn.bokeh.org/bokeh/release/bokeh-mathjax-2.4.1.min.js\"];\n",
       "  const css_urls = [];\n",
       "  \n",
       "\n",
       "  const inline_js = [\n",
       "    function(Bokeh) {\n",
       "      Bokeh.set_log_level(\"info\");\n",
       "    },\n",
       "    function(Bokeh) {\n",
       "    \n",
       "    \n",
       "    }\n",
       "  ];\n",
       "\n",
       "  function run_inline_js() {\n",
       "    \n",
       "    if (root.Bokeh !== undefined || force === true) {\n",
       "      \n",
       "    for (let i = 0; i < inline_js.length; i++) {\n",
       "      inline_js[i].call(root, root.Bokeh);\n",
       "    }\n",
       "    if (force === true) {\n",
       "        display_loaded();\n",
       "      }} else if (Date.now() < root._bokeh_timeout) {\n",
       "      setTimeout(run_inline_js, 100);\n",
       "    } else if (!root._bokeh_failed_load) {\n",
       "      console.log(\"Bokeh: BokehJS failed to load within specified timeout.\");\n",
       "      root._bokeh_failed_load = true;\n",
       "    } else if (force !== true) {\n",
       "      const cell = $(document.getElementById(\"1815\")).parents('.cell').data().cell;\n",
       "      cell.output_area.append_execute_result(NB_LOAD_WARNING)\n",
       "    }\n",
       "\n",
       "  }\n",
       "\n",
       "  if (root._bokeh_is_loading === 0) {\n",
       "    console.debug(\"Bokeh: BokehJS loaded, going straight to plotting\");\n",
       "    run_inline_js();\n",
       "  } else {\n",
       "    load_libs(css_urls, js_urls, function() {\n",
       "      console.debug(\"Bokeh: BokehJS plotting callback run at\", now());\n",
       "      run_inline_js();\n",
       "    });\n",
       "  }\n",
       "}(window));"
      ],
      "application/vnd.bokehjs_load.v0+json": "\n(function(root) {\n  function now() {\n    return new Date();\n  }\n\n  const force = true;\n\n  if (typeof root._bokeh_onload_callbacks === \"undefined\" || force === true) {\n    root._bokeh_onload_callbacks = [];\n    root._bokeh_is_loading = undefined;\n  }\n\n  \n\n  \n  if (typeof (root._bokeh_timeout) === \"undefined\" || force === true) {\n    root._bokeh_timeout = Date.now() + 5000;\n    root._bokeh_failed_load = false;\n  }\n\n  const NB_LOAD_WARNING = {'data': {'text/html':\n     \"<div style='background-color: #fdd'>\\n\"+\n     \"<p>\\n\"+\n     \"BokehJS does not appear to have successfully loaded. If loading BokehJS from CDN, this \\n\"+\n     \"may be due to a slow or bad network connection. Possible fixes:\\n\"+\n     \"</p>\\n\"+\n     \"<ul>\\n\"+\n     \"<li>re-rerun `output_notebook()` to attempt to load from CDN again, or</li>\\n\"+\n     \"<li>use INLINE resources instead, as so:</li>\\n\"+\n     \"</ul>\\n\"+\n     \"<code>\\n\"+\n     \"from bokeh.resources import INLINE\\n\"+\n     \"output_notebook(resources=INLINE)\\n\"+\n     \"</code>\\n\"+\n     \"</div>\"}};\n\n  function display_loaded() {\n    const el = document.getElementById(\"1815\");\n    if (el != null) {\n      el.textContent = \"BokehJS is loading...\";\n    }\n    if (root.Bokeh !== undefined) {\n      if (el != null) {\n        el.textContent = \"BokehJS \" + root.Bokeh.version + \" successfully loaded.\";\n      }\n    } else if (Date.now() < root._bokeh_timeout) {\n      setTimeout(display_loaded, 100)\n    }\n  }\n\n\n  function run_callbacks() {\n    try {\n      root._bokeh_onload_callbacks.forEach(function(callback) {\n        if (callback != null)\n          callback();\n      });\n    } finally {\n      delete root._bokeh_onload_callbacks\n    }\n    console.debug(\"Bokeh: all callbacks have finished\");\n  }\n\n  function load_libs(css_urls, js_urls, callback) {\n    if (css_urls == null) css_urls = [];\n    if (js_urls == null) js_urls = [];\n\n    root._bokeh_onload_callbacks.push(callback);\n    if (root._bokeh_is_loading > 0) {\n      console.debug(\"Bokeh: BokehJS is being loaded, scheduling callback at\", now());\n      return null;\n    }\n    if (js_urls == null || js_urls.length === 0) {\n      run_callbacks();\n      return null;\n    }\n    console.debug(\"Bokeh: BokehJS not loaded, scheduling load and callback at\", now());\n    root._bokeh_is_loading = css_urls.length + js_urls.length;\n\n    function on_load() {\n      root._bokeh_is_loading--;\n      if (root._bokeh_is_loading === 0) {\n        console.debug(\"Bokeh: all BokehJS libraries/stylesheets loaded\");\n        run_callbacks()\n      }\n    }\n\n    function on_error(url) {\n      console.error(\"failed to load \" + url);\n    }\n\n    for (let i = 0; i < css_urls.length; i++) {\n      const url = css_urls[i];\n      const element = document.createElement(\"link\");\n      element.onload = on_load;\n      element.onerror = on_error.bind(null, url);\n      element.rel = \"stylesheet\";\n      element.type = \"text/css\";\n      element.href = url;\n      console.debug(\"Bokeh: injecting link tag for BokehJS stylesheet: \", url);\n      document.body.appendChild(element);\n    }\n\n    for (let i = 0; i < js_urls.length; i++) {\n      const url = js_urls[i];\n      const element = document.createElement('script');\n      element.onload = on_load;\n      element.onerror = on_error.bind(null, url);\n      element.async = false;\n      element.src = url;\n      console.debug(\"Bokeh: injecting script tag for BokehJS library: \", url);\n      document.head.appendChild(element);\n    }\n  };\n\n  function inject_raw_css(css) {\n    const element = document.createElement(\"style\");\n    element.appendChild(document.createTextNode(css));\n    document.body.appendChild(element);\n  }\n\n  \n  const js_urls = [\"https://cdn.bokeh.org/bokeh/release/bokeh-2.4.1.min.js\", \"https://cdn.bokeh.org/bokeh/release/bokeh-gl-2.4.1.min.js\", \"https://cdn.bokeh.org/bokeh/release/bokeh-widgets-2.4.1.min.js\", \"https://cdn.bokeh.org/bokeh/release/bokeh-tables-2.4.1.min.js\", \"https://cdn.bokeh.org/bokeh/release/bokeh-mathjax-2.4.1.min.js\"];\n  const css_urls = [];\n  \n\n  const inline_js = [\n    function(Bokeh) {\n      Bokeh.set_log_level(\"info\");\n    },\n    function(Bokeh) {\n    \n    \n    }\n  ];\n\n  function run_inline_js() {\n    \n    if (root.Bokeh !== undefined || force === true) {\n      \n    for (let i = 0; i < inline_js.length; i++) {\n      inline_js[i].call(root, root.Bokeh);\n    }\n    if (force === true) {\n        display_loaded();\n      }} else if (Date.now() < root._bokeh_timeout) {\n      setTimeout(run_inline_js, 100);\n    } else if (!root._bokeh_failed_load) {\n      console.log(\"Bokeh: BokehJS failed to load within specified timeout.\");\n      root._bokeh_failed_load = true;\n    } else if (force !== true) {\n      const cell = $(document.getElementById(\"1815\")).parents('.cell').data().cell;\n      cell.output_area.append_execute_result(NB_LOAD_WARNING)\n    }\n\n  }\n\n  if (root._bokeh_is_loading === 0) {\n    console.debug(\"Bokeh: BokehJS loaded, going straight to plotting\");\n    run_inline_js();\n  } else {\n    load_libs(css_urls, js_urls, function() {\n      console.debug(\"Bokeh: BokehJS plotting callback run at\", now());\n      run_inline_js();\n    });\n  }\n}(window));"
     },
     "metadata": {},
     "output_type": "display_data"
    },
    {
     "data": {
      "text/html": [
       "\n",
       "\n",
       "\n",
       "\n",
       "\n",
       "\n",
       "  <div class=\"bk-root\" id=\"a2015936-35cc-4e63-acf0-286cb3493eb7\" data-root-id=\"1694\"></div>\n"
      ]
     },
     "metadata": {},
     "output_type": "display_data"
    },
    {
     "data": {
      "application/javascript": [
       "(function(root) {\n",
       "  function embed_document(root) {\n",
       "    \n",
       "  const docs_json = {\"b55c65bb-5ef5-4f9f-b7c3-ea020c534b85\":{\"defs\":[],\"roots\":{\"references\":[{\"attributes\":{\"below\":[{\"id\":\"1703\"}],\"center\":[{\"id\":\"1706\"},{\"id\":\"1710\"}],\"left\":[{\"id\":\"1707\"}],\"renderers\":[{\"id\":\"1729\"},{\"id\":\"1802\"}],\"title\":{\"id\":\"1732\"},\"toolbar\":{\"id\":\"1718\"},\"toolbar_location\":null,\"width\":950,\"x_range\":{\"id\":\"1695\"},\"x_scale\":{\"id\":\"1699\"},\"y_range\":{\"id\":\"1697\"},\"y_scale\":{\"id\":\"1701\"}},\"id\":\"1694\",\"subtype\":\"Figure\",\"type\":\"Plot\"},{\"attributes\":{\"coordinates\":null,\"data_source\":{\"id\":\"1485\"},\"glyph\":{\"id\":\"1726\"},\"group\":null,\"hover_glyph\":null,\"muted_glyph\":{\"id\":\"1728\"},\"nonselection_glyph\":{\"id\":\"1727\"},\"view\":{\"id\":\"1730\"}},\"id\":\"1729\",\"type\":\"GlyphRenderer\"},{\"attributes\":{},\"id\":\"1704\",\"type\":\"BasicTicker\"},{\"attributes\":{},\"id\":\"1716\",\"type\":\"HelpTool\"},{\"attributes\":{\"fill_alpha\":{\"value\":0.1},\"fill_color\":{\"field\":\"Type\",\"transform\":{\"id\":\"1486\"}},\"hatch_alpha\":{\"value\":0.1},\"line_alpha\":{\"value\":0.1},\"line_width\":{\"value\":0.25},\"xs\":{\"field\":\"xs\"},\"ys\":{\"field\":\"ys\"}},\"id\":\"1727\",\"type\":\"Patches\"},{\"attributes\":{},\"id\":\"1701\",\"type\":\"LinearScale\"},{\"attributes\":{},\"id\":\"1548\",\"type\":\"UnionRenderers\"},{\"attributes\":{\"source\":{\"id\":\"1485\"}},\"id\":\"1803\",\"type\":\"CDSView\"},{\"attributes\":{},\"id\":\"1735\",\"type\":\"BasicTickFormatter\"},{\"attributes\":{},\"id\":\"1549\",\"type\":\"Selection\"},{\"attributes\":{\"tools\":[{\"id\":\"1711\"},{\"id\":\"1712\"},{\"id\":\"1713\"},{\"id\":\"1714\"},{\"id\":\"1715\"},{\"id\":\"1716\"}]},\"id\":\"1718\",\"type\":\"Toolbar\"},{\"attributes\":{\"source\":{\"id\":\"1485\"}},\"id\":\"1730\",\"type\":\"CDSView\"},{\"attributes\":{\"fill_alpha\":{\"value\":0.2},\"fill_color\":{\"field\":\"Type\",\"transform\":{\"id\":\"1486\"}},\"hatch_alpha\":{\"value\":0.2},\"line_alpha\":{\"value\":0.2},\"line_width\":{\"value\":0.25},\"xs\":{\"field\":\"xs\"},\"ys\":{\"field\":\"ys\"}},\"id\":\"1728\",\"type\":\"Patches\"},{\"attributes\":{\"fill_color\":{\"value\":\"#1f77b4\"},\"line_width\":{\"value\":0.25},\"xs\":{\"field\":\"xs\"},\"ys\":{\"field\":\"ys\"}},\"id\":\"1799\",\"type\":\"Patches\"},{\"attributes\":{},\"id\":\"1736\",\"type\":\"AllLabels\"},{\"attributes\":{\"geojson\":\"{\\\"type\\\": \\\"FeatureCollection\\\", \\\"features\\\": [{\\\"id\\\": \\\"0\\\", \\\"type\\\": \\\"Feature\\\", \\\"properties\\\": {\\\"Country\\\": \\\"Africa\\\", \\\"Type\\\": 1, \\\"fatal_injury\\\": 1, \\\"fatal_perc\\\": 100.0, \\\"lat\\\": 11.5024338, \\\"long\\\": 17.7578122}, \\\"geometry\\\": {\\\"type\\\": \\\"Point\\\", \\\"coordinates\\\": [17.7578122, 11.5024338]}}, {\\\"id\\\": \\\"1\\\", \\\"type\\\": \\\"Feature\\\", \\\"properties\\\": {\\\"Country\\\": \\\"American Samoa\\\", \\\"Type\\\": 3, \\\"fatal_injury\\\": 3, \\\"fatal_perc\\\": 100.0, \\\"lat\\\": -14.289304000000001, \\\"long\\\": -170.692511}, \\\"geometry\\\": {\\\"type\\\": \\\"Point\\\", \\\"coordinates\\\": [-170.692511, -14.289304000000001]}}, {\\\"id\\\": \\\"2\\\", \\\"type\\\": \\\"Feature\\\", \\\"properties\\\": {\\\"Country\\\": \\\"Angola\\\", \\\"Type\\\": 1, \\\"fatal_injury\\\": 0, \\\"fatal_perc\\\": 0.0, \\\"lat\\\": -11.877576800000002, \\\"long\\\": 17.5691241}, \\\"geometry\\\": {\\\"type\\\": \\\"Point\\\", \\\"coordinates\\\": [17.5691241, -11.877576800000002]}}, {\\\"id\\\": \\\"3\\\", \\\"type\\\": \\\"Feature\\\", \\\"properties\\\": {\\\"Country\\\": \\\"Antigua\\\", \\\"Type\\\": 2, \\\"fatal_injury\\\": 0, \\\"fatal_perc\\\": 0.0, \\\"lat\\\": 17.10371515, \\\"long\\\": -61.79045045805584}, \\\"geometry\\\": {\\\"type\\\": \\\"Point\\\", \\\"coordinates\\\": [-61.79045045805584, 17.10371515]}}, {\\\"id\\\": \\\"4\\\", \\\"type\\\": \\\"Feature\\\", \\\"properties\\\": {\\\"Country\\\": \\\"Argentina\\\", \\\"Type\\\": 1, \\\"fatal_injury\\\": 0, \\\"fatal_perc\\\": 0.0, \\\"lat\\\": -34.9964963, \\\"long\\\": -64.9672817}, \\\"geometry\\\": {\\\"type\\\": \\\"Point\\\", \\\"coordinates\\\": [-64.9672817, -34.9964963]}}, {\\\"id\\\": \\\"5\\\", \\\"type\\\": \\\"Feature\\\", \\\"properties\\\": {\\\"Country\\\": \\\"Aruba\\\", \\\"Type\\\": 1, \\\"fatal_injury\\\": 1, \\\"fatal_perc\\\": 100.0, \\\"lat\\\": 12.4902998, \\\"long\\\": -69.96098420000001}, \\\"geometry\\\": {\\\"type\\\": \\\"Point\\\", \\\"coordinates\\\": [-69.96098420000001, 12.4902998]}}, {\\\"id\\\": \\\"6\\\", \\\"type\\\": \\\"Feature\\\", \\\"properties\\\": {\\\"Country\\\": \\\"Asia\\\", \\\"Type\\\": 1, \\\"fatal_injury\\\": 0, \\\"fatal_perc\\\": 0.0, \\\"lat\\\": 51.2086975, \\\"long\\\": 89.2343748}, \\\"geometry\\\": {\\\"type\\\": \\\"Point\\\", \\\"coordinates\\\": [89.2343748, 51.2086975]}}, {\\\"id\\\": \\\"7\\\", \\\"type\\\": \\\"Feature\\\", \\\"properties\\\": {\\\"Country\\\": \\\"Atlantic Ocean\\\", \\\"Type\\\": 12, \\\"fatal_injury\\\": 2, \\\"fatal_perc\\\": 16.67, \\\"lat\\\": 13.581921, \\\"long\\\": -38.320312}, \\\"geometry\\\": {\\\"type\\\": \\\"Point\\\", \\\"coordinates\\\": [-38.320312, 13.581921]}}, {\\\"id\\\": \\\"8\\\", \\\"type\\\": \\\"Feature\\\", \\\"properties\\\": {\\\"Country\\\": \\\"Australia\\\", \\\"Type\\\": 1046, \\\"fatal_injury\\\": 173, \\\"fatal_perc\\\": 16.54, \\\"lat\\\": -24.7761086, \\\"long\\\": 134.755}, \\\"geometry\\\": {\\\"type\\\": \\\"Point\\\", \\\"coordinates\\\": [134.755, -24.7761086]}}, {\\\"id\\\": \\\"9\\\", \\\"type\\\": \\\"Feature\\\", \\\"properties\\\": {\\\"Country\\\": \\\"Bahamas\\\", \\\"Type\\\": 97, \\\"fatal_injury\\\": 4, \\\"fatal_perc\\\": 4.12, \\\"lat\\\": 24.7736546, \\\"long\\\": -78.0000547}, \\\"geometry\\\": {\\\"type\\\": \\\"Point\\\", \\\"coordinates\\\": [-78.0000547, 24.7736546]}}, {\\\"id\\\": \\\"10\\\", \\\"type\\\": \\\"Feature\\\", \\\"properties\\\": {\\\"Country\\\": \\\"Bahrein\\\", \\\"Type\\\": 1, \\\"fatal_injury\\\": 1, \\\"fatal_perc\\\": 100.0, \\\"lat\\\": 26.155124899999997, \\\"long\\\": 50.5344606}, \\\"geometry\\\": {\\\"type\\\": \\\"Point\\\", \\\"coordinates\\\": [50.5344606, 26.155124899999997]}}, {\\\"id\\\": \\\"11\\\", \\\"type\\\": \\\"Feature\\\", \\\"properties\\\": {\\\"Country\\\": \\\"Bangladesh\\\", \\\"Type\\\": 1, \\\"fatal_injury\\\": 1, \\\"fatal_perc\\\": 100.0, \\\"lat\\\": 23.5031022, \\\"long\\\": 90.00386523825053}, \\\"geometry\\\": {\\\"type\\\": \\\"Point\\\", \\\"coordinates\\\": [90.00386523825053, 23.5031022]}}, {\\\"id\\\": \\\"12\\\", \\\"type\\\": \\\"Feature\\\", \\\"properties\\\": {\\\"Country\\\": \\\"Barbados\\\", \\\"Type\\\": 4, \\\"fatal_injury\\\": 2, \\\"fatal_perc\\\": 50.0, \\\"lat\\\": 13.1500331, \\\"long\\\": -59.52503050000001}, \\\"geometry\\\": {\\\"type\\\": \\\"Point\\\", \\\"coordinates\\\": [-59.52503050000001, 13.1500331]}}, {\\\"id\\\": \\\"13\\\", \\\"type\\\": \\\"Feature\\\", \\\"properties\\\": {\\\"Country\\\": \\\"Bay Of Bengal\\\", \\\"Type\\\": 1, \\\"fatal_injury\\\": 1, \\\"fatal_perc\\\": 100.0, \\\"lat\\\": 15.656917199999999, \\\"long\\\": 87.63793940000001}, \\\"geometry\\\": {\\\"type\\\": \\\"Point\\\", \\\"coordinates\\\": [87.63793940000001, 15.656917199999999]}}, {\\\"id\\\": \\\"14\\\", \\\"type\\\": \\\"Feature\\\", \\\"properties\\\": {\\\"Country\\\": \\\"Belize\\\", \\\"Type\\\": 3, \\\"fatal_injury\\\": 1, \\\"fatal_perc\\\": 33.33, \\\"lat\\\": 16.8259793, \\\"long\\\": -88.7600927}, \\\"geometry\\\": {\\\"type\\\": \\\"Point\\\", \\\"coordinates\\\": [-88.7600927, 16.8259793]}}, {\\\"id\\\": \\\"15\\\", \\\"type\\\": \\\"Feature\\\", \\\"properties\\\": {\\\"Country\\\": \\\"Bermuda\\\", \\\"Type\\\": 15, \\\"fatal_injury\\\": 2, \\\"fatal_perc\\\": 13.33, \\\"lat\\\": 32.3018217, \\\"long\\\": -64.7603583}, \\\"geometry\\\": {\\\"type\\\": \\\"Point\\\", \\\"coordinates\\\": [-64.7603583, 32.3018217]}}, {\\\"id\\\": \\\"16\\\", \\\"type\\\": \\\"Feature\\\", \\\"properties\\\": {\\\"Country\\\": \\\"Brazil\\\", \\\"Type\\\": 107, \\\"fatal_injury\\\": 33, \\\"fatal_perc\\\": 30.84, \\\"lat\\\": -10.333333300000001, \\\"long\\\": -53.2}, \\\"geometry\\\": {\\\"type\\\": \\\"Point\\\", \\\"coordinates\\\": [-53.2, -10.333333300000001]}}, {\\\"id\\\": \\\"17\\\", \\\"type\\\": \\\"Feature\\\", \\\"properties\\\": {\\\"Country\\\": \\\"British Isles\\\", \\\"Type\\\": 1, \\\"fatal_injury\\\": 0, \\\"fatal_perc\\\": 0.0, \\\"lat\\\": 54.06, \\\"long\\\": -4.8}, \\\"geometry\\\": {\\\"type\\\": \\\"Point\\\", \\\"coordinates\\\": [-4.8, 54.06]}}, {\\\"id\\\": \\\"18\\\", \\\"type\\\": \\\"Feature\\\", \\\"properties\\\": {\\\"Country\\\": \\\"British Virgin Islands\\\", \\\"Type\\\": 1, \\\"fatal_injury\\\": 0, \\\"fatal_perc\\\": 0.0, \\\"lat\\\": 18.4024395, \\\"long\\\": -64.5661642}, \\\"geometry\\\": {\\\"type\\\": \\\"Point\\\", \\\"coordinates\\\": [-64.5661642, 18.4024395]}}, {\\\"id\\\": \\\"19\\\", \\\"type\\\": \\\"Feature\\\", \\\"properties\\\": {\\\"Country\\\": \\\"Canada\\\", \\\"Type\\\": 6, \\\"fatal_injury\\\": 0, \\\"fatal_perc\\\": 0.0, \\\"lat\\\": 61.0666922, \\\"long\\\": -107.991707}, \\\"geometry\\\": {\\\"type\\\": \\\"Point\\\", \\\"coordinates\\\": [-107.991707, 61.0666922]}}, {\\\"id\\\": \\\"20\\\", \\\"type\\\": \\\"Feature\\\", \\\"properties\\\": {\\\"Country\\\": \\\"Cape Verde\\\", \\\"Type\\\": 3, \\\"fatal_injury\\\": 1, \\\"fatal_perc\\\": 33.33, \\\"lat\\\": 16.0000552, \\\"long\\\": -24.0083947}, \\\"geometry\\\": {\\\"type\\\": \\\"Point\\\", \\\"coordinates\\\": [-24.0083947, 16.0000552]}}, {\\\"id\\\": \\\"21\\\", \\\"type\\\": \\\"Feature\\\", \\\"properties\\\": {\\\"Country\\\": \\\"Caribbean Sea\\\", \\\"Type\\\": 8, \\\"fatal_injury\\\": 4, \\\"fatal_perc\\\": 50.0, \\\"lat\\\": 15.0000001, \\\"long\\\": -75.0000001}, \\\"geometry\\\": {\\\"type\\\": \\\"Point\\\", \\\"coordinates\\\": [-75.0000001, 15.0000001]}}, {\\\"id\\\": \\\"22\\\", \\\"type\\\": \\\"Feature\\\", \\\"properties\\\": {\\\"Country\\\": \\\"Cayman Islands\\\", \\\"Type\\\": 2, \\\"fatal_injury\\\": 0, \\\"fatal_perc\\\": 0.0, \\\"lat\\\": 19.70318225, \\\"long\\\": -79.9174627243246}, \\\"geometry\\\": {\\\"type\\\": \\\"Point\\\", \\\"coordinates\\\": [-79.9174627243246, 19.70318225]}}, {\\\"id\\\": \\\"23\\\", \\\"type\\\": \\\"Feature\\\", \\\"properties\\\": {\\\"Country\\\": \\\"Central Pacific\\\", \\\"Type\\\": 2, \\\"fatal_injury\\\": 1, \\\"fatal_perc\\\": 50.0, \\\"lat\\\": 1.36449615, \\\"long\\\": 173.11839733239722}, \\\"geometry\\\": {\\\"type\\\": \\\"Point\\\", \\\"coordinates\\\": [173.11839733239722, 1.36449615]}}, {\\\"id\\\": \\\"24\\\", \\\"type\\\": \\\"Feature\\\", \\\"properties\\\": {\\\"Country\\\": \\\"Ceylon (Sri Lanka)\\\", \\\"Type\\\": 1, \\\"fatal_injury\\\": 1, \\\"fatal_perc\\\": 100.0, \\\"lat\\\": 7.877395849999999, \\\"long\\\": 80.66247852355892}, \\\"geometry\\\": {\\\"type\\\": \\\"Point\\\", \\\"coordinates\\\": [80.66247852355892, 7.877395849999999]}}, {\\\"id\\\": \\\"25\\\", \\\"type\\\": \\\"Feature\\\", \\\"properties\\\": {\\\"Country\\\": \\\"Chile\\\", \\\"Type\\\": 7, \\\"fatal_injury\\\": 3, \\\"fatal_perc\\\": 42.86, \\\"lat\\\": -31.7613365, \\\"long\\\": -71.3187697}, \\\"geometry\\\": {\\\"type\\\": \\\"Point\\\", \\\"coordinates\\\": [-71.3187697, -31.7613365]}}, {\\\"id\\\": \\\"26\\\", \\\"type\\\": \\\"Feature\\\", \\\"properties\\\": {\\\"Country\\\": \\\"China\\\", \\\"Type\\\": 4, \\\"fatal_injury\\\": 2, \\\"fatal_perc\\\": 50.0, \\\"lat\\\": 35.000074, \\\"long\\\": 104.999927}, \\\"geometry\\\": {\\\"type\\\": \\\"Point\\\", \\\"coordinates\\\": [104.999927, 35.000074]}}, {\\\"id\\\": \\\"27\\\", \\\"type\\\": \\\"Feature\\\", \\\"properties\\\": {\\\"Country\\\": \\\"Colombia\\\", \\\"Type\\\": 9, \\\"fatal_injury\\\": 1, \\\"fatal_perc\\\": 11.11, \\\"lat\\\": 4.099917, \\\"long\\\": -72.90881329999999}, \\\"geometry\\\": {\\\"type\\\": \\\"Point\\\", \\\"coordinates\\\": [-72.90881329999999, 4.099917]}}, {\\\"id\\\": \\\"28\\\", \\\"type\\\": \\\"Feature\\\", \\\"properties\\\": {\\\"Country\\\": \\\"Comoros\\\", \\\"Type\\\": 1, \\\"fatal_injury\\\": 0, \\\"fatal_perc\\\": 0.0, \\\"lat\\\": -12.204517599999999, \\\"long\\\": 44.2832964}, \\\"geometry\\\": {\\\"type\\\": \\\"Point\\\", \\\"coordinates\\\": [44.2832964, -12.204517599999999]}}, {\\\"id\\\": \\\"29\\\", \\\"type\\\": \\\"Feature\\\", \\\"properties\\\": {\\\"Country\\\": \\\"Costa Rica\\\", \\\"Type\\\": 13, \\\"fatal_injury\\\": 6, \\\"fatal_perc\\\": 46.15, \\\"lat\\\": 10.2735633, \\\"long\\\": -84.0739102}, \\\"geometry\\\": {\\\"type\\\": \\\"Point\\\", \\\"coordinates\\\": [-84.0739102, 10.2735633]}}, {\\\"id\\\": \\\"30\\\", \\\"type\\\": \\\"Feature\\\", \\\"properties\\\": {\\\"Country\\\": \\\"Croatia\\\", \\\"Type\\\": 16, \\\"fatal_injury\\\": 8, \\\"fatal_perc\\\": 50.0, \\\"lat\\\": 45.5643442, \\\"long\\\": 17.0118954}, \\\"geometry\\\": {\\\"type\\\": \\\"Point\\\", \\\"coordinates\\\": [17.0118954, 45.5643442]}}, {\\\"id\\\": \\\"31\\\", \\\"type\\\": \\\"Feature\\\", \\\"properties\\\": {\\\"Country\\\": \\\"Cuba\\\", \\\"Type\\\": 30, \\\"fatal_injury\\\": 12, \\\"fatal_perc\\\": 40.0, \\\"lat\\\": 23.013133800000002, \\\"long\\\": -80.8328748}, \\\"geometry\\\": {\\\"type\\\": \\\"Point\\\", \\\"coordinates\\\": [-80.8328748, 23.013133800000002]}}, {\\\"id\\\": \\\"32\\\", \\\"type\\\": \\\"Feature\\\", \\\"properties\\\": {\\\"Country\\\": \\\"Curacao\\\", \\\"Type\\\": 1, \\\"fatal_injury\\\": 0, \\\"fatal_perc\\\": 0.0, \\\"lat\\\": 12.117648800000001, \\\"long\\\": -68.9309263}, \\\"geometry\\\": {\\\"type\\\": \\\"Point\\\", \\\"coordinates\\\": [-68.9309263, 12.117648800000001]}}, {\\\"id\\\": \\\"33\\\", \\\"type\\\": \\\"Feature\\\", \\\"properties\\\": {\\\"Country\\\": \\\"Diego Garcia\\\", \\\"Type\\\": 1, \\\"fatal_injury\\\": 1, \\\"fatal_perc\\\": 100.0, \\\"lat\\\": -7.3383584499999985, \\\"long\\\": 72.47181546315355}, \\\"geometry\\\": {\\\"type\\\": \\\"Point\\\", \\\"coordinates\\\": [72.47181546315355, -7.3383584499999985]}}, {\\\"id\\\": \\\"34\\\", \\\"type\\\": \\\"Feature\\\", \\\"properties\\\": {\\\"Country\\\": \\\"Djibouti\\\", \\\"Type\\\": 1, \\\"fatal_injury\\\": 1, \\\"fatal_perc\\\": 100.0, \\\"lat\\\": 11.8145966, \\\"long\\\": 42.8453061}, \\\"geometry\\\": {\\\"type\\\": \\\"Point\\\", \\\"coordinates\\\": [42.8453061, 11.8145966]}}, {\\\"id\\\": \\\"35\\\", \\\"type\\\": \\\"Feature\\\", \\\"properties\\\": {\\\"Country\\\": \\\"Dominican Republic\\\", \\\"Type\\\": 7, \\\"fatal_injury\\\": 2, \\\"fatal_perc\\\": 28.57, \\\"lat\\\": 19.0974031, \\\"long\\\": -70.30280259999999}, \\\"geometry\\\": {\\\"type\\\": \\\"Point\\\", \\\"coordinates\\\": [-70.30280259999999, 19.0974031]}}, {\\\"id\\\": \\\"36\\\", \\\"type\\\": \\\"Feature\\\", \\\"properties\\\": {\\\"Country\\\": \\\"Ecuador\\\", \\\"Type\\\": 8, \\\"fatal_injury\\\": 0, \\\"fatal_perc\\\": 0.0, \\\"lat\\\": -1.3397668, \\\"long\\\": -79.3666965}, \\\"geometry\\\": {\\\"type\\\": \\\"Point\\\", \\\"coordinates\\\": [-79.3666965, -1.3397668]}}, {\\\"id\\\": \\\"37\\\", \\\"type\\\": \\\"Feature\\\", \\\"properties\\\": {\\\"Country\\\": \\\"Egypt\\\", \\\"Type\\\": 28, \\\"fatal_injury\\\": 7, \\\"fatal_perc\\\": 25.0, \\\"lat\\\": 26.254049300000002, \\\"long\\\": 29.2675469}, \\\"geometry\\\": {\\\"type\\\": \\\"Point\\\", \\\"coordinates\\\": [29.2675469, 26.254049300000002]}}, {\\\"id\\\": \\\"38\\\", \\\"type\\\": \\\"Feature\\\", \\\"properties\\\": {\\\"Country\\\": \\\"El Salvador\\\", \\\"Type\\\": 4, \\\"fatal_injury\\\": 2, \\\"fatal_perc\\\": 50.0, \\\"lat\\\": 13.800038199999998, \\\"long\\\": -88.9140683}, \\\"geometry\\\": {\\\"type\\\": \\\"Point\\\", \\\"coordinates\\\": [-88.9140683, 13.800038199999998]}}, {\\\"id\\\": \\\"39\\\", \\\"type\\\": \\\"Feature\\\", \\\"properties\\\": {\\\"Country\\\": \\\"Federated States Of Micronesia\\\", \\\"Type\\\": 1, \\\"fatal_injury\\\": 0, \\\"fatal_perc\\\": 0.0, \\\"lat\\\": 8.6062347, \\\"long\\\": 151.832744331612}, \\\"geometry\\\": {\\\"type\\\": \\\"Point\\\", \\\"coordinates\\\": [151.832744331612, 8.6062347]}}, {\\\"id\\\": \\\"40\\\", \\\"type\\\": \\\"Feature\\\", \\\"properties\\\": {\\\"Country\\\": \\\"Fiji\\\", \\\"Type\\\": 50, \\\"fatal_injury\\\": 17, \\\"fatal_perc\\\": 34.0, \\\"lat\\\": -18.123969600000002, \\\"long\\\": 179.0122737}, \\\"geometry\\\": {\\\"type\\\": \\\"Point\\\", \\\"coordinates\\\": [179.0122737, -18.123969600000002]}}, {\\\"id\\\": \\\"41\\\", \\\"type\\\": \\\"Feature\\\", \\\"properties\\\": {\\\"Country\\\": \\\"France\\\", \\\"Type\\\": 8, \\\"fatal_injury\\\": 1, \\\"fatal_perc\\\": 12.5, \\\"lat\\\": 46.603353999999996, \\\"long\\\": 1.8883334999999999}, \\\"geometry\\\": {\\\"type\\\": \\\"Point\\\", \\\"coordinates\\\": [1.8883334999999999, 46.603353999999996]}}, {\\\"id\\\": \\\"42\\\", \\\"type\\\": \\\"Feature\\\", \\\"properties\\\": {\\\"Country\\\": \\\"French Polynesia\\\", \\\"Type\\\": 23, \\\"fatal_injury\\\": 1, \\\"fatal_perc\\\": 4.35, \\\"lat\\\": -16.03442485, \\\"long\\\": -146.0490931059517}, \\\"geometry\\\": {\\\"type\\\": \\\"Point\\\", \\\"coordinates\\\": [-146.0490931059517, -16.03442485]}}, {\\\"id\\\": \\\"43\\\", \\\"type\\\": \\\"Feature\\\", \\\"properties\\\": {\\\"Country\\\": \\\"Gabon\\\", \\\"Type\\\": 1, \\\"fatal_injury\\\": 1, \\\"fatal_perc\\\": 100.0, \\\"lat\\\": -0.8999695, \\\"long\\\": 11.689969900000001}, \\\"geometry\\\": {\\\"type\\\": \\\"Point\\\", \\\"coordinates\\\": [11.689969900000001, -0.8999695]}}, {\\\"id\\\": \\\"44\\\", \\\"type\\\": \\\"Feature\\\", \\\"properties\\\": {\\\"Country\\\": \\\"Ghana\\\", \\\"Type\\\": 1, \\\"fatal_injury\\\": 1, \\\"fatal_perc\\\": 100.0, \\\"lat\\\": 8.0300284, \\\"long\\\": -1.0800271000000001}, \\\"geometry\\\": {\\\"type\\\": \\\"Point\\\", \\\"coordinates\\\": [-1.0800271000000001, 8.0300284]}}, {\\\"id\\\": \\\"45\\\", \\\"type\\\": \\\"Feature\\\", \\\"properties\\\": {\\\"Country\\\": \\\"Grand Cayman\\\", \\\"Type\\\": 1, \\\"fatal_injury\\\": 0, \\\"fatal_perc\\\": 0.0, \\\"lat\\\": 19.329869100000003, \\\"long\\\": -81.17122907994889}, \\\"geometry\\\": {\\\"type\\\": \\\"Point\\\", \\\"coordinates\\\": [-81.17122907994889, 19.329869100000003]}}, {\\\"id\\\": \\\"46\\\", \\\"type\\\": \\\"Feature\\\", \\\"properties\\\": {\\\"Country\\\": \\\"Greece\\\", \\\"Type\\\": 20, \\\"fatal_injury\\\": 12, \\\"fatal_perc\\\": 60.0, \\\"lat\\\": 38.995368299999996, \\\"long\\\": 21.987713199999998}, \\\"geometry\\\": {\\\"type\\\": \\\"Point\\\", \\\"coordinates\\\": [21.987713199999998, 38.995368299999996]}}, {\\\"id\\\": \\\"47\\\", \\\"type\\\": \\\"Feature\\\", \\\"properties\\\": {\\\"Country\\\": \\\"Greenland\\\", \\\"Type\\\": 1, \\\"fatal_injury\\\": 1, \\\"fatal_perc\\\": 100.0, \\\"lat\\\": 77.61923490000001, \\\"long\\\": -42.8125967}, \\\"geometry\\\": {\\\"type\\\": \\\"Point\\\", \\\"coordinates\\\": [-42.8125967, 77.61923490000001]}}, {\\\"id\\\": \\\"48\\\", \\\"type\\\": \\\"Feature\\\", \\\"properties\\\": {\\\"Country\\\": \\\"Grenada\\\", \\\"Type\\\": 4, \\\"fatal_injury\\\": 3, \\\"fatal_perc\\\": 75.0, \\\"lat\\\": 12.136037400000001, \\\"long\\\": -61.69040450000001}, \\\"geometry\\\": {\\\"type\\\": \\\"Point\\\", \\\"coordinates\\\": [-61.69040450000001, 12.136037400000001]}}, {\\\"id\\\": \\\"49\\\", \\\"type\\\": \\\"Feature\\\", \\\"properties\\\": {\\\"Country\\\": \\\"Guam\\\", \\\"Type\\\": 4, \\\"fatal_injury\\\": 1, \\\"fatal_perc\\\": 25.0, \\\"lat\\\": 13.4501257, \\\"long\\\": 144.75755102972062}, \\\"geometry\\\": {\\\"type\\\": \\\"Point\\\", \\\"coordinates\\\": [144.75755102972062, 13.4501257]}}, {\\\"id\\\": \\\"50\\\", \\\"type\\\": \\\"Feature\\\", \\\"properties\\\": {\\\"Country\\\": \\\"Guatemala\\\", \\\"Type\\\": 1, \\\"fatal_injury\\\": 0, \\\"fatal_perc\\\": 0.0, \\\"lat\\\": 15.635608800000002, \\\"long\\\": -89.8988087}, \\\"geometry\\\": {\\\"type\\\": \\\"Point\\\", \\\"coordinates\\\": [-89.8988087, 15.635608800000002]}}, {\\\"id\\\": \\\"51\\\", \\\"type\\\": \\\"Feature\\\", \\\"properties\\\": {\\\"Country\\\": \\\"Guinea\\\", \\\"Type\\\": 2, \\\"fatal_injury\\\": 2, \\\"fatal_perc\\\": 100.0, \\\"lat\\\": 10.7226226, \\\"long\\\": -10.7083587}, \\\"geometry\\\": {\\\"type\\\": \\\"Point\\\", \\\"coordinates\\\": [-10.7083587, 10.7226226]}}, {\\\"id\\\": \\\"52\\\", \\\"type\\\": \\\"Feature\\\", \\\"properties\\\": {\\\"Country\\\": \\\"Gulf Of Aden\\\", \\\"Type\\\": 1, \\\"fatal_injury\\\": 1, \\\"fatal_perc\\\": 100.0, \\\"lat\\\": 12.61473005, \\\"long\\\": 47.506337831936634}, \\\"geometry\\\": {\\\"type\\\": \\\"Point\\\", \\\"coordinates\\\": [47.506337831936634, 12.61473005]}}, {\\\"id\\\": \\\"53\\\", \\\"type\\\": \\\"Feature\\\", \\\"properties\\\": {\\\"Country\\\": \\\"Honduras\\\", \\\"Type\\\": 2, \\\"fatal_injury\\\": 1, \\\"fatal_perc\\\": 50.0, \\\"lat\\\": 15.2572432, \\\"long\\\": -86.0755145}, \\\"geometry\\\": {\\\"type\\\": \\\"Point\\\", \\\"coordinates\\\": [-86.0755145, 15.2572432]}}, {\\\"id\\\": \\\"54\\\", \\\"type\\\": \\\"Feature\\\", \\\"properties\\\": {\\\"Country\\\": \\\"Hong Kong\\\", \\\"Type\\\": 24, \\\"fatal_injury\\\": 16, \\\"fatal_perc\\\": 66.67, \\\"lat\\\": 22.2793278, \\\"long\\\": 114.16281310000001}, \\\"geometry\\\": {\\\"type\\\": \\\"Point\\\", \\\"coordinates\\\": [114.16281310000001, 22.2793278]}}, {\\\"id\\\": \\\"55\\\", \\\"type\\\": \\\"Feature\\\", \\\"properties\\\": {\\\"Country\\\": \\\"Iceland\\\", \\\"Type\\\": 2, \\\"fatal_injury\\\": 0, \\\"fatal_perc\\\": 0.0, \\\"lat\\\": 64.9841821, \\\"long\\\": -18.1059013}, \\\"geometry\\\": {\\\"type\\\": \\\"Point\\\", \\\"coordinates\\\": [-18.1059013, 64.9841821]}}, {\\\"id\\\": \\\"56\\\", \\\"type\\\": \\\"Feature\\\", \\\"properties\\\": {\\\"Country\\\": \\\"India\\\", \\\"Type\\\": 19, \\\"fatal_injury\\\": 10, \\\"fatal_perc\\\": 52.63, \\\"lat\\\": 22.3511148, \\\"long\\\": 78.6677428}, \\\"geometry\\\": {\\\"type\\\": \\\"Point\\\", \\\"coordinates\\\": [78.6677428, 22.3511148]}}, {\\\"id\\\": \\\"57\\\", \\\"type\\\": \\\"Feature\\\", \\\"properties\\\": {\\\"Country\\\": \\\"Indian Ocean\\\", \\\"Type\\\": 4, \\\"fatal_injury\\\": 1, \\\"fatal_perc\\\": 25.0, \\\"lat\\\": -9.9999999, \\\"long\\\": 69.9999999}, \\\"geometry\\\": {\\\"type\\\": \\\"Point\\\", \\\"coordinates\\\": [69.9999999, -9.9999999]}}, {\\\"id\\\": \\\"58\\\", \\\"type\\\": \\\"Feature\\\", \\\"properties\\\": {\\\"Country\\\": \\\"Indonesia\\\", \\\"Type\\\": 13, \\\"fatal_injury\\\": 4, \\\"fatal_perc\\\": 30.77, \\\"lat\\\": -2.4833826, \\\"long\\\": 117.89028529999999}, \\\"geometry\\\": {\\\"type\\\": \\\"Point\\\", \\\"coordinates\\\": [117.89028529999999, -2.4833826]}}, {\\\"id\\\": \\\"59\\\", \\\"type\\\": \\\"Feature\\\", \\\"properties\\\": {\\\"Country\\\": \\\"Iran\\\", \\\"Type\\\": 29, \\\"fatal_injury\\\": 13, \\\"fatal_perc\\\": 44.83, \\\"lat\\\": 32.6475314, \\\"long\\\": 54.56435160000001}, \\\"geometry\\\": {\\\"type\\\": \\\"Point\\\", \\\"coordinates\\\": [54.56435160000001, 32.6475314]}}, {\\\"id\\\": \\\"60\\\", \\\"type\\\": \\\"Feature\\\", \\\"properties\\\": {\\\"Country\\\": \\\"Iraq\\\", \\\"Type\\\": 11, \\\"fatal_injury\\\": 2, \\\"fatal_perc\\\": 18.18, \\\"lat\\\": 33.0955793, \\\"long\\\": 44.174977500000004}, \\\"geometry\\\": {\\\"type\\\": \\\"Point\\\", \\\"coordinates\\\": [44.174977500000004, 33.0955793]}}, {\\\"id\\\": \\\"61\\\", \\\"type\\\": \\\"Feature\\\", \\\"properties\\\": {\\\"Country\\\": \\\"Israel\\\", \\\"Type\\\": 6, \\\"fatal_injury\\\": 0, \\\"fatal_perc\\\": 0.0, \\\"lat\\\": 31.531311300000002, \\\"long\\\": 34.8667654}, \\\"geometry\\\": {\\\"type\\\": \\\"Point\\\", \\\"coordinates\\\": [34.8667654, 31.531311300000002]}}, {\\\"id\\\": \\\"62\\\", \\\"type\\\": \\\"Feature\\\", \\\"properties\\\": {\\\"Country\\\": \\\"Italy\\\", \\\"Type\\\": 50, \\\"fatal_injury\\\": 6, \\\"fatal_perc\\\": 12.0, \\\"lat\\\": 42.6384261, \\\"long\\\": 12.674297}, \\\"geometry\\\": {\\\"type\\\": \\\"Point\\\", \\\"coordinates\\\": [12.674297, 42.6384261]}}, {\\\"id\\\": \\\"63\\\", \\\"type\\\": \\\"Feature\\\", \\\"properties\\\": {\\\"Country\\\": \\\"Jamaica\\\", \\\"Type\\\": 17, \\\"fatal_injury\\\": 6, \\\"fatal_perc\\\": 35.29, \\\"lat\\\": 18.185050699999998, \\\"long\\\": -77.3947693}, \\\"geometry\\\": {\\\"type\\\": \\\"Point\\\", \\\"coordinates\\\": [-77.3947693, 18.185050699999998]}}, {\\\"id\\\": \\\"64\\\", \\\"type\\\": \\\"Feature\\\", \\\"properties\\\": {\\\"Country\\\": \\\"Japan\\\", \\\"Type\\\": 33, \\\"fatal_injury\\\": 14, \\\"fatal_perc\\\": 42.42, \\\"lat\\\": 36.5748441, \\\"long\\\": 139.2394179}, \\\"geometry\\\": {\\\"type\\\": \\\"Point\\\", \\\"coordinates\\\": [139.2394179, 36.5748441]}}, {\\\"id\\\": \\\"65\\\", \\\"type\\\": \\\"Feature\\\", \\\"properties\\\": {\\\"Country\\\": \\\"Java\\\", \\\"Type\\\": 1, \\\"fatal_injury\\\": 0, \\\"fatal_perc\\\": 0.0, \\\"lat\\\": -7.3279694000000015, \\\"long\\\": 109.6139109880134}, \\\"geometry\\\": {\\\"type\\\": \\\"Point\\\", \\\"coordinates\\\": [109.6139109880134, -7.3279694000000015]}}, {\\\"id\\\": \\\"66\\\", \\\"type\\\": \\\"Feature\\\", \\\"properties\\\": {\\\"Country\\\": \\\"Johnston Island\\\", \\\"Type\\\": 2, \\\"fatal_injury\\\": 0, \\\"fatal_perc\\\": 0.0, \\\"lat\\\": 59.339375, \\\"long\\\": -108.93704166666664}, \\\"geometry\\\": {\\\"type\\\": \\\"Point\\\", \\\"coordinates\\\": [-108.93704166666664, 59.339375]}}, {\\\"id\\\": \\\"67\\\", \\\"type\\\": \\\"Feature\\\", \\\"properties\\\": {\\\"Country\\\": \\\"Kenya\\\", \\\"Type\\\": 9, \\\"fatal_injury\\\": 6, \\\"fatal_perc\\\": 66.67, \\\"lat\\\": 1.4419683, \\\"long\\\": 38.431397499999996}, \\\"geometry\\\": {\\\"type\\\": \\\"Point\\\", \\\"coordinates\\\": [38.431397499999996, 1.4419683]}}, {\\\"id\\\": \\\"68\\\", \\\"type\\\": \\\"Feature\\\", \\\"properties\\\": {\\\"Country\\\": \\\"Kiribati\\\", \\\"Type\\\": 4, \\\"fatal_injury\\\": 1, \\\"fatal_perc\\\": 25.0, \\\"lat\\\": -1.2394555500000002, \\\"long\\\": 175.29694553869794}, \\\"geometry\\\": {\\\"type\\\": \\\"Point\\\", \\\"coordinates\\\": [175.29694553869794, -1.2394555500000002]}}, {\\\"id\\\": \\\"69\\\", \\\"type\\\": \\\"Feature\\\", \\\"properties\\\": {\\\"Country\\\": \\\"Korea\\\", \\\"Type\\\": 1, \\\"fatal_injury\\\": 1, \\\"fatal_perc\\\": 100.0, \\\"lat\\\": 36.638391999999996, \\\"long\\\": 127.69611880000001}, \\\"geometry\\\": {\\\"type\\\": \\\"Point\\\", \\\"coordinates\\\": [127.69611880000001, 36.638391999999996]}}, {\\\"id\\\": \\\"70\\\", \\\"type\\\": \\\"Feature\\\", \\\"properties\\\": {\\\"Country\\\": \\\"Lebanon\\\", \\\"Type\\\": 1, \\\"fatal_injury\\\": 0, \\\"fatal_perc\\\": 0.0, \\\"lat\\\": 33.875062899999996, \\\"long\\\": 35.843409}, \\\"geometry\\\": {\\\"type\\\": \\\"Point\\\", \\\"coordinates\\\": [35.843409, 33.875062899999996]}}, {\\\"id\\\": \\\"71\\\", \\\"type\\\": \\\"Feature\\\", \\\"properties\\\": {\\\"Country\\\": \\\"Liberia\\\", \\\"Type\\\": 3, \\\"fatal_injury\\\": 2, \\\"fatal_perc\\\": 66.67, \\\"lat\\\": 5.7499721, \\\"long\\\": -9.3658524}, \\\"geometry\\\": {\\\"type\\\": \\\"Point\\\", \\\"coordinates\\\": [-9.3658524, 5.7499721]}}, {\\\"id\\\": \\\"72\\\", \\\"type\\\": \\\"Feature\\\", \\\"properties\\\": {\\\"Country\\\": \\\"Libya\\\", \\\"Type\\\": 2, \\\"fatal_injury\\\": 2, \\\"fatal_perc\\\": 100.0, \\\"lat\\\": 26.8234472, \\\"long\\\": 18.1236723}, \\\"geometry\\\": {\\\"type\\\": \\\"Point\\\", \\\"coordinates\\\": [18.1236723, 26.8234472]}}, {\\\"id\\\": \\\"73\\\", \\\"type\\\": \\\"Feature\\\", \\\"properties\\\": {\\\"Country\\\": \\\"Madagascar\\\", \\\"Type\\\": 5, \\\"fatal_injury\\\": 3, \\\"fatal_perc\\\": 60.0, \\\"lat\\\": -18.9249604, \\\"long\\\": 46.441642200000004}, \\\"geometry\\\": {\\\"type\\\": \\\"Point\\\", \\\"coordinates\\\": [46.441642200000004, -18.9249604]}}, {\\\"id\\\": \\\"74\\\", \\\"type\\\": \\\"Feature\\\", \\\"properties\\\": {\\\"Country\\\": \\\"Malaysia\\\", \\\"Type\\\": 5, \\\"fatal_injury\\\": 0, \\\"fatal_perc\\\": 0.0, \\\"lat\\\": 4.5693754, \\\"long\\\": 102.2656823}, \\\"geometry\\\": {\\\"type\\\": \\\"Point\\\", \\\"coordinates\\\": [102.2656823, 4.5693754]}}, {\\\"id\\\": \\\"75\\\", \\\"type\\\": \\\"Feature\\\", \\\"properties\\\": {\\\"Country\\\": \\\"Maldive Islands\\\", \\\"Type\\\": 1, \\\"fatal_injury\\\": 1, \\\"fatal_perc\\\": 100.0, \\\"lat\\\": 4.624823200000001, \\\"long\\\": 73.57271846303527}, \\\"geometry\\\": {\\\"type\\\": \\\"Point\\\", \\\"coordinates\\\": [73.57271846303527, 4.624823200000001]}}, {\\\"id\\\": \\\"76\\\", \\\"type\\\": \\\"Feature\\\", \\\"properties\\\": {\\\"Country\\\": \\\"Maldives\\\", \\\"Type\\\": 1, \\\"fatal_injury\\\": 0, \\\"fatal_perc\\\": 0.0, \\\"lat\\\": 4.7064352, \\\"long\\\": 73.3287853}, \\\"geometry\\\": {\\\"type\\\": \\\"Point\\\", \\\"coordinates\\\": [73.3287853, 4.7064352]}}, {\\\"id\\\": \\\"77\\\", \\\"type\\\": \\\"Feature\\\", \\\"properties\\\": {\\\"Country\\\": \\\"Malta\\\", \\\"Type\\\": 3, \\\"fatal_injury\\\": 1, \\\"fatal_perc\\\": 33.33, \\\"lat\\\": 35.888599299999996, \\\"long\\\": 14.4476911}, \\\"geometry\\\": {\\\"type\\\": \\\"Point\\\", \\\"coordinates\\\": [14.4476911, 35.888599299999996]}}, {\\\"id\\\": \\\"78\\\", \\\"type\\\": \\\"Feature\\\", \\\"properties\\\": {\\\"Country\\\": \\\"Marshall Islands\\\", \\\"Type\\\": 12, \\\"fatal_injury\\\": 1, \\\"fatal_perc\\\": 8.33, \\\"lat\\\": 8.9995549, \\\"long\\\": 168.0002575}, \\\"geometry\\\": {\\\"type\\\": \\\"Point\\\", \\\"coordinates\\\": [168.0002575, 8.9995549]}}, {\\\"id\\\": \\\"79\\\", \\\"type\\\": \\\"Feature\\\", \\\"properties\\\": {\\\"Country\\\": \\\"Martinique\\\", \\\"Type\\\": 2, \\\"fatal_injury\\\": 0, \\\"fatal_perc\\\": 0.0, \\\"lat\\\": 14.636792699999999, \\\"long\\\": -61.01582685063731}, \\\"geometry\\\": {\\\"type\\\": \\\"Point\\\", \\\"coordinates\\\": [-61.01582685063731, 14.636792699999999]}}, {\\\"id\\\": \\\"80\\\", \\\"type\\\": \\\"Feature\\\", \\\"properties\\\": {\\\"Country\\\": \\\"Mauritius\\\", \\\"Type\\\": 8, \\\"fatal_injury\\\": 1, \\\"fatal_perc\\\": 12.5, \\\"lat\\\": -20.2759451, \\\"long\\\": 57.5703566}, \\\"geometry\\\": {\\\"type\\\": \\\"Point\\\", \\\"coordinates\\\": [57.5703566, -20.2759451]}}, {\\\"id\\\": \\\"81\\\", \\\"type\\\": \\\"Feature\\\", \\\"properties\\\": {\\\"Country\\\": \\\"Mayotte\\\", \\\"Type\\\": 1, \\\"fatal_injury\\\": 1, \\\"fatal_perc\\\": 100.0, \\\"lat\\\": -12.823048, \\\"long\\\": 45.1520755}, \\\"geometry\\\": {\\\"type\\\": \\\"Point\\\", \\\"coordinates\\\": [45.1520755, -12.823048]}}, {\\\"id\\\": \\\"82\\\", \\\"type\\\": \\\"Feature\\\", \\\"properties\\\": {\\\"Country\\\": \\\"Mediterranean Sea\\\", \\\"Type\\\": 2, \\\"fatal_injury\\\": 1, \\\"fatal_perc\\\": 50.0, \\\"lat\\\": 35.0000035, \\\"long\\\": 19.9999957}, \\\"geometry\\\": {\\\"type\\\": \\\"Point\\\", \\\"coordinates\\\": [19.9999957, 35.0000035]}}, {\\\"id\\\": \\\"83\\\", \\\"type\\\": \\\"Feature\\\", \\\"properties\\\": {\\\"Country\\\": \\\"Mexico\\\", \\\"Type\\\": 72, \\\"fatal_injury\\\": 31, \\\"fatal_perc\\\": 43.06, \\\"lat\\\": 22.5000485, \\\"long\\\": -100.000037}, \\\"geometry\\\": {\\\"type\\\": \\\"Point\\\", \\\"coordinates\\\": [-100.000037, 22.5000485]}}, {\\\"id\\\": \\\"84\\\", \\\"type\\\": \\\"Feature\\\", \\\"properties\\\": {\\\"Country\\\": \\\"Micronesia\\\", \\\"Type\\\": 3, \\\"fatal_injury\\\": 0, \\\"fatal_perc\\\": 0.0, \\\"lat\\\": 8.6062347, \\\"long\\\": 151.832744331612}, \\\"geometry\\\": {\\\"type\\\": \\\"Point\\\", \\\"coordinates\\\": [151.832744331612, 8.6062347]}}, {\\\"id\\\": \\\"85\\\", \\\"type\\\": \\\"Feature\\\", \\\"properties\\\": {\\\"Country\\\": \\\"Mid Atlantic Ocean\\\", \\\"Type\\\": 4, \\\"fatal_injury\\\": 2, \\\"fatal_perc\\\": 50.0, \\\"lat\\\": 36.8523104, \\\"long\\\": -75.97558240000001}, \\\"geometry\\\": {\\\"type\\\": \\\"Point\\\", \\\"coordinates\\\": [-75.97558240000001, 36.8523104]}}, {\\\"id\\\": \\\"86\\\", \\\"type\\\": \\\"Feature\\\", \\\"properties\\\": {\\\"Country\\\": \\\"Montenegro\\\", \\\"Type\\\": 2, \\\"fatal_injury\\\": 2, \\\"fatal_perc\\\": 100.0, \\\"lat\\\": 42.9868853, \\\"long\\\": 19.518099199999998}, \\\"geometry\\\": {\\\"type\\\": \\\"Point\\\", \\\"coordinates\\\": [19.518099199999998, 42.9868853]}}, {\\\"id\\\": \\\"87\\\", \\\"type\\\": \\\"Feature\\\", \\\"properties\\\": {\\\"Country\\\": \\\"Mozambique\\\", \\\"Type\\\": 40, \\\"fatal_injury\\\": 14, \\\"fatal_perc\\\": 35.0, \\\"lat\\\": -19.302232999999998, \\\"long\\\": 34.9144977}, \\\"geometry\\\": {\\\"type\\\": \\\"Point\\\", \\\"coordinates\\\": [34.9144977, -19.302232999999998]}}, {\\\"id\\\": \\\"88\\\", \\\"type\\\": \\\"Feature\\\", \\\"properties\\\": {\\\"Country\\\": \\\"Myanmar\\\", \\\"Type\\\": 2, \\\"fatal_injury\\\": 1, \\\"fatal_perc\\\": 50.0, \\\"lat\\\": 17.1750495, \\\"long\\\": 95.9999652}, \\\"geometry\\\": {\\\"type\\\": \\\"Point\\\", \\\"coordinates\\\": [95.9999652, 17.1750495]}}, {\\\"id\\\": \\\"89\\\", \\\"type\\\": \\\"Feature\\\", \\\"properties\\\": {\\\"Country\\\": \\\"Namibia\\\", \\\"Type\\\": 1, \\\"fatal_injury\\\": 0, \\\"fatal_perc\\\": 0.0, \\\"lat\\\": -23.2335499, \\\"long\\\": 17.323110699999997}, \\\"geometry\\\": {\\\"type\\\": \\\"Point\\\", \\\"coordinates\\\": [17.323110699999997, -23.2335499]}}, {\\\"id\\\": \\\"90\\\", \\\"type\\\": \\\"Feature\\\", \\\"properties\\\": {\\\"Country\\\": \\\"Netherlands Antilles\\\", \\\"Type\\\": 1, \\\"fatal_injury\\\": 0, \\\"fatal_perc\\\": 0.0, \\\"lat\\\": 12.1845, \\\"long\\\": -68.6607922625}, \\\"geometry\\\": {\\\"type\\\": \\\"Point\\\", \\\"coordinates\\\": [-68.6607922625, 12.1845]}}, {\\\"id\\\": \\\"91\\\", \\\"type\\\": \\\"Feature\\\", \\\"properties\\\": {\\\"Country\\\": \\\"Nevis\\\", \\\"Type\\\": 1, \\\"fatal_injury\\\": 0, \\\"fatal_perc\\\": 0.0, \\\"lat\\\": 17.150881299999998, \\\"long\\\": -62.585289600699994}, \\\"geometry\\\": {\\\"type\\\": \\\"Point\\\", \\\"coordinates\\\": [-62.585289600699994, 17.150881299999998]}}, {\\\"id\\\": \\\"92\\\", \\\"type\\\": \\\"Feature\\\", \\\"properties\\\": {\\\"Country\\\": \\\"New Caledonia\\\", \\\"Type\\\": 47, \\\"fatal_injury\\\": 14, \\\"fatal_perc\\\": 29.79, \\\"lat\\\": -21.3019905, \\\"long\\\": 165.48807730000001}, \\\"geometry\\\": {\\\"type\\\": \\\"Point\\\", \\\"coordinates\\\": [165.48807730000001, -21.3019905]}}, {\\\"id\\\": \\\"93\\\", \\\"type\\\": \\\"Feature\\\", \\\"properties\\\": {\\\"Country\\\": \\\"New Zealand\\\", \\\"Type\\\": 86, \\\"fatal_injury\\\": 11, \\\"fatal_perc\\\": 12.79, \\\"lat\\\": -41.5000831, \\\"long\\\": 172.83440769999999}, \\\"geometry\\\": {\\\"type\\\": \\\"Point\\\", \\\"coordinates\\\": [172.83440769999999, -41.5000831]}}, {\\\"id\\\": \\\"94\\\", \\\"type\\\": \\\"Feature\\\", \\\"properties\\\": {\\\"Country\\\": \\\"Nicaragua\\\", \\\"Type\\\": 5, \\\"fatal_injury\\\": 3, \\\"fatal_perc\\\": 60.0, \\\"lat\\\": 12.609015699999999, \\\"long\\\": -85.29369109999999}, \\\"geometry\\\": {\\\"type\\\": \\\"Point\\\", \\\"coordinates\\\": [-85.29369109999999, 12.609015699999999]}}, {\\\"id\\\": \\\"95\\\", \\\"type\\\": \\\"Feature\\\", \\\"properties\\\": {\\\"Country\\\": \\\"Nigeria\\\", \\\"Type\\\": 2, \\\"fatal_injury\\\": 1, \\\"fatal_perc\\\": 50.0, \\\"lat\\\": 9.6000359, \\\"long\\\": 7.999972099999999}, \\\"geometry\\\": {\\\"type\\\": \\\"Point\\\", \\\"coordinates\\\": [7.999972099999999, 9.6000359]}}, {\\\"id\\\": \\\"96\\\", \\\"type\\\": \\\"Feature\\\", \\\"properties\\\": {\\\"Country\\\": \\\"North Atlantic Ocean\\\", \\\"Type\\\": 4, \\\"fatal_injury\\\": 0, \\\"fatal_perc\\\": 0.0, \\\"lat\\\": 40.0, \\\"long\\\": -40.0}, \\\"geometry\\\": {\\\"type\\\": \\\"Point\\\", \\\"coordinates\\\": [-40.0, 40.0]}}, {\\\"id\\\": \\\"97\\\", \\\"type\\\": \\\"Feature\\\", \\\"properties\\\": {\\\"Country\\\": \\\"North Pacific Ocean\\\", \\\"Type\\\": 7, \\\"fatal_injury\\\": 1, \\\"fatal_perc\\\": 14.29, \\\"lat\\\": 30.0, \\\"long\\\": -170.0}, \\\"geometry\\\": {\\\"type\\\": \\\"Point\\\", \\\"coordinates\\\": [-170.0, 30.0]}}, {\\\"id\\\": \\\"98\\\", \\\"type\\\": \\\"Feature\\\", \\\"properties\\\": {\\\"Country\\\": \\\"North Sea\\\", \\\"Type\\\": 1, \\\"fatal_injury\\\": 0, \\\"fatal_perc\\\": 0.0, \\\"lat\\\": 56.74123355, \\\"long\\\": 2.8911717166880475}, \\\"geometry\\\": {\\\"type\\\": \\\"Point\\\", \\\"coordinates\\\": [2.8911717166880475, 56.74123355]}}, {\\\"id\\\": \\\"99\\\", \\\"type\\\": \\\"Feature\\\", \\\"properties\\\": {\\\"Country\\\": \\\"Northern Mariana Islands\\\", \\\"Type\\\": 1, \\\"fatal_injury\\\": 0, \\\"fatal_perc\\\": 0.0, \\\"lat\\\": 14.1490205, \\\"long\\\": 145.21345248318926}, \\\"geometry\\\": {\\\"type\\\": \\\"Point\\\", \\\"coordinates\\\": [145.21345248318926, 14.1490205]}}, {\\\"id\\\": \\\"100\\\", \\\"type\\\": \\\"Feature\\\", \\\"properties\\\": {\\\"Country\\\": \\\"Norway\\\", \\\"Type\\\": 2, \\\"fatal_injury\\\": 0, \\\"fatal_perc\\\": 0.0, \\\"lat\\\": 60.5000209, \\\"long\\\": 9.099971499999999}, \\\"geometry\\\": {\\\"type\\\": \\\"Point\\\", \\\"coordinates\\\": [9.099971499999999, 60.5000209]}}, {\\\"id\\\": \\\"101\\\", \\\"type\\\": \\\"Feature\\\", \\\"properties\\\": {\\\"Country\\\": \\\"Pacific Ocean\\\", \\\"Type\\\": 16, \\\"fatal_injury\\\": 3, \\\"fatal_perc\\\": 18.75, \\\"lat\\\": -0.7031069999999999, \\\"long\\\": -120.9375}, \\\"geometry\\\": {\\\"type\\\": \\\"Point\\\", \\\"coordinates\\\": [-120.9375, -0.7031069999999999]}}, {\\\"id\\\": \\\"102\\\", \\\"type\\\": \\\"Feature\\\", \\\"properties\\\": {\\\"Country\\\": \\\"Palau\\\", \\\"Type\\\": 5, \\\"fatal_injury\\\": 0, \\\"fatal_perc\\\": 0.0, \\\"lat\\\": 5.378353700000001, \\\"long\\\": 132.91025729999998}, \\\"geometry\\\": {\\\"type\\\": \\\"Point\\\", \\\"coordinates\\\": [132.91025729999998, 5.378353700000001]}}, {\\\"id\\\": \\\"103\\\", \\\"type\\\": \\\"Feature\\\", \\\"properties\\\": {\\\"Country\\\": \\\"Palestinian Territories\\\", \\\"Type\\\": 1, \\\"fatal_injury\\\": 0, \\\"fatal_perc\\\": 0.0, \\\"lat\\\": 31.46242095, \\\"long\\\": 34.262716572130714}, \\\"geometry\\\": {\\\"type\\\": \\\"Point\\\", \\\"coordinates\\\": [34.262716572130714, 31.46242095]}}, {\\\"id\\\": \\\"104\\\", \\\"type\\\": \\\"Feature\\\", \\\"properties\\\": {\\\"Country\\\": \\\"Panama\\\", \\\"Type\\\": 22, \\\"fatal_injury\\\": 12, \\\"fatal_perc\\\": 54.55, \\\"lat\\\": 8.559559, \\\"long\\\": -81.1308434}, \\\"geometry\\\": {\\\"type\\\": \\\"Point\\\", \\\"coordinates\\\": [-81.1308434, 8.559559]}}, {\\\"id\\\": \\\"105\\\", \\\"type\\\": \\\"Feature\\\", \\\"properties\\\": {\\\"Country\\\": \\\"Papua New Guinea\\\", \\\"Type\\\": 134, \\\"fatal_injury\\\": 57, \\\"fatal_perc\\\": 42.54, \\\"lat\\\": -5.6816069, \\\"long\\\": 144.2489081}, \\\"geometry\\\": {\\\"type\\\": \\\"Point\\\", \\\"coordinates\\\": [144.2489081, -5.6816069]}}, {\\\"id\\\": \\\"106\\\", \\\"type\\\": \\\"Feature\\\", \\\"properties\\\": {\\\"Country\\\": \\\"Persian Gulf\\\", \\\"Type\\\": 3, \\\"fatal_injury\\\": 0, \\\"fatal_perc\\\": 0.0, \\\"lat\\\": 27.06926285, \\\"long\\\": 51.39129100207683}, \\\"geometry\\\": {\\\"type\\\": \\\"Point\\\", \\\"coordinates\\\": [51.39129100207683, 27.06926285]}}, {\\\"id\\\": \\\"107\\\", \\\"type\\\": \\\"Feature\\\", \\\"properties\\\": {\\\"Country\\\": \\\"Peru\\\", \\\"Type\\\": 1, \\\"fatal_injury\\\": 1, \\\"fatal_perc\\\": 100.0, \\\"lat\\\": -6.8699697, \\\"long\\\": -75.0458515}, \\\"geometry\\\": {\\\"type\\\": \\\"Point\\\", \\\"coordinates\\\": [-75.0458515, -6.8699697]}}, {\\\"id\\\": \\\"108\\\", \\\"type\\\": \\\"Feature\\\", \\\"properties\\\": {\\\"Country\\\": \\\"Philippines\\\", \\\"Type\\\": 40, \\\"fatal_injury\\\": 14, \\\"fatal_perc\\\": 35.0, \\\"lat\\\": 12.750348599999999, \\\"long\\\": 122.7312101}, \\\"geometry\\\": {\\\"type\\\": \\\"Point\\\", \\\"coordinates\\\": [122.7312101, 12.750348599999999]}}, {\\\"id\\\": \\\"109\\\", \\\"type\\\": \\\"Feature\\\", \\\"properties\\\": {\\\"Country\\\": \\\"Portugal\\\", \\\"Type\\\": 7, \\\"fatal_injury\\\": 2, \\\"fatal_perc\\\": 28.57, \\\"lat\\\": 40.0332629, \\\"long\\\": -7.889626299999999}, \\\"geometry\\\": {\\\"type\\\": \\\"Point\\\", \\\"coordinates\\\": [-7.889626299999999, 40.0332629]}}, {\\\"id\\\": \\\"110\\\", \\\"type\\\": \\\"Feature\\\", \\\"properties\\\": {\\\"Country\\\": \\\"Puerto Rico\\\", \\\"Type\\\": 1, \\\"fatal_injury\\\": 0, \\\"fatal_perc\\\": 0.0, \\\"lat\\\": 18.2214149, \\\"long\\\": -66.41328179513847}, \\\"geometry\\\": {\\\"type\\\": \\\"Point\\\", \\\"coordinates\\\": [-66.41328179513847, 18.2214149]}}, {\\\"id\\\": \\\"111\\\", \\\"type\\\": \\\"Feature\\\", \\\"properties\\\": {\\\"Country\\\": \\\"Red Sea\\\", \\\"Type\\\": 2, \\\"fatal_injury\\\": 0, \\\"fatal_perc\\\": 0.0, \\\"lat\\\": 20.29654545, \\\"long\\\": 38.53429714399387}, \\\"geometry\\\": {\\\"type\\\": \\\"Point\\\", \\\"coordinates\\\": [38.53429714399387, 20.29654545]}}, {\\\"id\\\": \\\"112\\\", \\\"type\\\": \\\"Feature\\\", \\\"properties\\\": {\\\"Country\\\": \\\"Reunion\\\", \\\"Type\\\": 56, \\\"fatal_injury\\\": 26, \\\"fatal_perc\\\": 46.43, \\\"lat\\\": -21.1309332, \\\"long\\\": 55.526577100000004}, \\\"geometry\\\": {\\\"type\\\": \\\"Point\\\", \\\"coordinates\\\": [55.526577100000004, -21.1309332]}}, {\\\"id\\\": \\\"113\\\", \\\"type\\\": \\\"Feature\\\", \\\"properties\\\": {\\\"Country\\\": \\\"Roatan\\\", \\\"Type\\\": 1, \\\"fatal_injury\\\": 0, \\\"fatal_perc\\\": 0.0, \\\"lat\\\": 16.3274234, \\\"long\\\": -86.53648145696455}, \\\"geometry\\\": {\\\"type\\\": \\\"Point\\\", \\\"coordinates\\\": [-86.53648145696455, 16.3274234]}}, {\\\"id\\\": \\\"114\\\", \\\"type\\\": \\\"Feature\\\", \\\"properties\\\": {\\\"Country\\\": \\\"Russia\\\", \\\"Type\\\": 4, \\\"fatal_injury\\\": 0, \\\"fatal_perc\\\": 0.0, \\\"lat\\\": 64.6863136, \\\"long\\\": 97.7453061}, \\\"geometry\\\": {\\\"type\\\": \\\"Point\\\", \\\"coordinates\\\": [97.7453061, 64.6863136]}}, {\\\"id\\\": \\\"115\\\", \\\"type\\\": \\\"Feature\\\", \\\"properties\\\": {\\\"Country\\\": \\\"Saint Helena, Ascension and Tristan da Cunha\\\", \\\"Type\\\": 2, \\\"fatal_injury\\\": 0, \\\"fatal_perc\\\": 0.0, \\\"lat\\\": -15.96545515, \\\"long\\\": -5.702575637953244}, \\\"geometry\\\": {\\\"type\\\": \\\"Point\\\", \\\"coordinates\\\": [-5.702575637953244, -15.96545515]}}, {\\\"id\\\": \\\"116\\\", \\\"type\\\": \\\"Feature\\\", \\\"properties\\\": {\\\"Country\\\": \\\"Samoa\\\", \\\"Type\\\": 6, \\\"fatal_injury\\\": 2, \\\"fatal_perc\\\": 33.33, \\\"lat\\\": -13.769389499999999, \\\"long\\\": -172.12005}, \\\"geometry\\\": {\\\"type\\\": \\\"Point\\\", \\\"coordinates\\\": [-172.12005, -13.769389499999999]}}, {\\\"id\\\": \\\"117\\\", \\\"type\\\": \\\"Feature\\\", \\\"properties\\\": {\\\"Country\\\": \\\"Saudi Arabia\\\", \\\"Type\\\": 5, \\\"fatal_injury\\\": 1, \\\"fatal_perc\\\": 20.0, \\\"lat\\\": 25.624261800000003, \\\"long\\\": 42.352832799999995}, \\\"geometry\\\": {\\\"type\\\": \\\"Point\\\", \\\"coordinates\\\": [42.352832799999995, 25.624261800000003]}}, {\\\"id\\\": \\\"118\\\", \\\"type\\\": \\\"Feature\\\", \\\"properties\\\": {\\\"Country\\\": \\\"Senegal\\\", \\\"Type\\\": 10, \\\"fatal_injury\\\": 2, \\\"fatal_perc\\\": 20.0, \\\"lat\\\": 14.475060699999998, \\\"long\\\": -14.452961199999999}, \\\"geometry\\\": {\\\"type\\\": \\\"Point\\\", \\\"coordinates\\\": [-14.452961199999999, 14.475060699999998]}}, {\\\"id\\\": \\\"119\\\", \\\"type\\\": \\\"Feature\\\", \\\"properties\\\": {\\\"Country\\\": \\\"Seychelles\\\", \\\"Type\\\": 8, \\\"fatal_injury\\\": 6, \\\"fatal_perc\\\": 75.0, \\\"lat\\\": -4.6574976999999995, \\\"long\\\": 55.45401460000001}, \\\"geometry\\\": {\\\"type\\\": \\\"Point\\\", \\\"coordinates\\\": [55.45401460000001, -4.6574976999999995]}}, {\\\"id\\\": \\\"120\\\", \\\"type\\\": \\\"Feature\\\", \\\"properties\\\": {\\\"Country\\\": \\\"Sierra Leone\\\", \\\"Type\\\": 7, \\\"fatal_injury\\\": 3, \\\"fatal_perc\\\": 42.86, \\\"lat\\\": 8.6400349, \\\"long\\\": -11.8400269}, \\\"geometry\\\": {\\\"type\\\": \\\"Point\\\", \\\"coordinates\\\": [-11.8400269, 8.6400349]}}, {\\\"id\\\": \\\"121\\\", \\\"type\\\": \\\"Feature\\\", \\\"properties\\\": {\\\"Country\\\": \\\"Singapore\\\", \\\"Type\\\": 4, \\\"fatal_injury\\\": 2, \\\"fatal_perc\\\": 50.0, \\\"lat\\\": 1.357107, \\\"long\\\": 103.81949920000001}, \\\"geometry\\\": {\\\"type\\\": \\\"Point\\\", \\\"coordinates\\\": [103.81949920000001, 1.357107]}}, {\\\"id\\\": \\\"122\\\", \\\"type\\\": \\\"Feature\\\", \\\"properties\\\": {\\\"Country\\\": \\\"Slovenia\\\", \\\"Type\\\": 1, \\\"fatal_injury\\\": 0, \\\"fatal_perc\\\": 0.0, \\\"lat\\\": 46.14903455, \\\"long\\\": 14.626325753340625}, \\\"geometry\\\": {\\\"type\\\": \\\"Point\\\", \\\"coordinates\\\": [14.626325753340625, 46.14903455]}}, {\\\"id\\\": \\\"123\\\", \\\"type\\\": \\\"Feature\\\", \\\"properties\\\": {\\\"Country\\\": \\\"Solomon Islands\\\", \\\"Type\\\": 27, \\\"fatal_injury\\\": 10, \\\"fatal_perc\\\": 37.04, \\\"lat\\\": -8.7053941, \\\"long\\\": 159.1070693851845}, \\\"geometry\\\": {\\\"type\\\": \\\"Point\\\", \\\"coordinates\\\": [159.1070693851845, -8.7053941]}}, {\\\"id\\\": \\\"124\\\", \\\"type\\\": \\\"Feature\\\", \\\"properties\\\": {\\\"Country\\\": \\\"Somalia\\\", \\\"Type\\\": 5, \\\"fatal_injury\\\": 4, \\\"fatal_perc\\\": 80.0, \\\"lat\\\": 8.3676771, \\\"long\\\": 49.083416}, \\\"geometry\\\": {\\\"type\\\": \\\"Point\\\", \\\"coordinates\\\": [49.083416, 8.3676771]}}, {\\\"id\\\": \\\"125\\\", \\\"type\\\": \\\"Feature\\\", \\\"properties\\\": {\\\"Country\\\": \\\"South Africa\\\", \\\"Type\\\": 508, \\\"fatal_injury\\\": 89, \\\"fatal_perc\\\": 17.52, \\\"lat\\\": -28.816623600000003, \\\"long\\\": 24.991639000000003}, \\\"geometry\\\": {\\\"type\\\": \\\"Point\\\", \\\"coordinates\\\": [24.991639000000003, -28.816623600000003]}}, {\\\"id\\\": \\\"126\\\", \\\"type\\\": \\\"Feature\\\", \\\"properties\\\": {\\\"Country\\\": \\\"South Atlantic Ocean\\\", \\\"Type\\\": 6, \\\"fatal_injury\\\": 0, \\\"fatal_perc\\\": 0.0, \\\"lat\\\": -45.0, \\\"long\\\": -15.0}, \\\"geometry\\\": {\\\"type\\\": \\\"Point\\\", \\\"coordinates\\\": [-15.0, -45.0]}}, {\\\"id\\\": \\\"127\\\", \\\"type\\\": \\\"Feature\\\", \\\"properties\\\": {\\\"Country\\\": \\\"South China Sea\\\", \\\"Type\\\": 1, \\\"fatal_injury\\\": 0, \\\"fatal_perc\\\": 0.0, \\\"lat\\\": 15.0000001, \\\"long\\\": 114.9999999}, \\\"geometry\\\": {\\\"type\\\": \\\"Point\\\", \\\"coordinates\\\": [114.9999999, 15.0000001]}}, {\\\"id\\\": \\\"128\\\", \\\"type\\\": \\\"Feature\\\", \\\"properties\\\": {\\\"Country\\\": \\\"South Korea\\\", \\\"Type\\\": 7, \\\"fatal_injury\\\": 5, \\\"fatal_perc\\\": 71.43, \\\"lat\\\": 36.638391999999996, \\\"long\\\": 127.69611880000001}, \\\"geometry\\\": {\\\"type\\\": \\\"Point\\\", \\\"coordinates\\\": [127.69611880000001, 36.638391999999996]}}, {\\\"id\\\": \\\"129\\\", \\\"type\\\": \\\"Feature\\\", \\\"properties\\\": {\\\"Country\\\": \\\"South Pacific Ocean\\\", \\\"Type\\\": 2, \\\"fatal_injury\\\": 2, \\\"fatal_perc\\\": 100.0, \\\"lat\\\": -45.0, \\\"long\\\": -130.0}, \\\"geometry\\\": {\\\"type\\\": \\\"Point\\\", \\\"coordinates\\\": [-130.0, -45.0]}}, {\\\"id\\\": \\\"130\\\", \\\"type\\\": \\\"Feature\\\", \\\"properties\\\": {\\\"Country\\\": \\\"Southwest Pacific Ocean\\\", \\\"Type\\\": 2, \\\"fatal_injury\\\": 1, \\\"fatal_perc\\\": 50.0, \\\"lat\\\": 46.953835, \\\"long\\\": -124.158208}, \\\"geometry\\\": {\\\"type\\\": \\\"Point\\\", \\\"coordinates\\\": [-124.158208, 46.953835]}}, {\\\"id\\\": \\\"131\\\", \\\"type\\\": \\\"Feature\\\", \\\"properties\\\": {\\\"Country\\\": \\\"Spain\\\", \\\"Type\\\": 28, \\\"fatal_injury\\\": 1, \\\"fatal_perc\\\": 3.57, \\\"lat\\\": 39.3260685, \\\"long\\\": -4.8379791}, \\\"geometry\\\": {\\\"type\\\": \\\"Point\\\", \\\"coordinates\\\": [-4.8379791, 39.3260685]}}, {\\\"id\\\": \\\"132\\\", \\\"type\\\": \\\"Feature\\\", \\\"properties\\\": {\\\"Country\\\": \\\"Sri Lanka\\\", \\\"Type\\\": 11, \\\"fatal_injury\\\": 2, \\\"fatal_perc\\\": 18.18, \\\"lat\\\": 7.555494199999999, \\\"long\\\": 80.7137847}, \\\"geometry\\\": {\\\"type\\\": \\\"Point\\\", \\\"coordinates\\\": [80.7137847, 7.555494199999999]}}, {\\\"id\\\": \\\"133\\\", \\\"type\\\": \\\"Feature\\\", \\\"properties\\\": {\\\"Country\\\": \\\"St. Martin\\\", \\\"Type\\\": 2, \\\"fatal_injury\\\": 0, \\\"fatal_perc\\\": 0.0, \\\"lat\\\": 18.085493, \\\"long\\\": -63.051292097960605}, \\\"geometry\\\": {\\\"type\\\": \\\"Point\\\", \\\"coordinates\\\": [-63.051292097960605, 18.085493]}}, {\\\"id\\\": \\\"134\\\", \\\"type\\\": \\\"Feature\\\", \\\"properties\\\": {\\\"Country\\\": \\\"Sudan\\\", \\\"Type\\\": 5, \\\"fatal_injury\\\": 1, \\\"fatal_perc\\\": 20.0, \\\"lat\\\": 14.584444400000002, \\\"long\\\": 29.4917691}, \\\"geometry\\\": {\\\"type\\\": \\\"Point\\\", \\\"coordinates\\\": [29.4917691, 14.584444400000002]}}, {\\\"id\\\": \\\"135\\\", \\\"type\\\": \\\"Feature\\\", \\\"properties\\\": {\\\"Country\\\": \\\"Sweden\\\", \\\"Type\\\": 1, \\\"fatal_injury\\\": 0, \\\"fatal_perc\\\": 0.0, \\\"lat\\\": 59.67497120000001, \\\"long\\\": 14.5208584}, \\\"geometry\\\": {\\\"type\\\": \\\"Point\\\", \\\"coordinates\\\": [14.5208584, 59.67497120000001]}}, {\\\"id\\\": \\\"136\\\", \\\"type\\\": \\\"Feature\\\", \\\"properties\\\": {\\\"Country\\\": \\\"Taiwan\\\", \\\"Type\\\": 6, \\\"fatal_injury\\\": 1, \\\"fatal_perc\\\": 16.67, \\\"lat\\\": 23.973937399999997, \\\"long\\\": 120.9820179}, \\\"geometry\\\": {\\\"type\\\": \\\"Point\\\", \\\"coordinates\\\": [120.9820179, 23.973937399999997]}}, {\\\"id\\\": \\\"137\\\", \\\"type\\\": \\\"Feature\\\", \\\"properties\\\": {\\\"Country\\\": \\\"Tanzania\\\", \\\"Type\\\": 8, \\\"fatal_injury\\\": 5, \\\"fatal_perc\\\": 62.5, \\\"lat\\\": -6.5247123, \\\"long\\\": 35.7878438}, \\\"geometry\\\": {\\\"type\\\": \\\"Point\\\", \\\"coordinates\\\": [35.7878438, -6.5247123]}}, {\\\"id\\\": \\\"138\\\", \\\"type\\\": \\\"Feature\\\", \\\"properties\\\": {\\\"Country\\\": \\\"Tasman Sea\\\", \\\"Type\\\": 1, \\\"fatal_injury\\\": 0, \\\"fatal_perc\\\": 0.0, \\\"lat\\\": -40.0, \\\"long\\\": 160.0}, \\\"geometry\\\": {\\\"type\\\": \\\"Point\\\", \\\"coordinates\\\": [160.0, -40.0]}}, {\\\"id\\\": \\\"139\\\", \\\"type\\\": \\\"Feature\\\", \\\"properties\\\": {\\\"Country\\\": \\\"Thailand\\\", \\\"Type\\\": 8, \\\"fatal_injury\\\": 3, \\\"fatal_perc\\\": 37.5, \\\"lat\\\": 14.8971921, \\\"long\\\": 100.83273}, \\\"geometry\\\": {\\\"type\\\": \\\"Point\\\", \\\"coordinates\\\": [100.83273, 14.8971921]}}, {\\\"id\\\": \\\"140\\\", \\\"type\\\": \\\"Feature\\\", \\\"properties\\\": {\\\"Country\\\": \\\"The Balkans\\\", \\\"Type\\\": 1, \\\"fatal_injury\\\": 1, \\\"fatal_perc\\\": 100.0, \\\"lat\\\": 51.282392, \\\"long\\\": 1.083623086183966}, \\\"geometry\\\": {\\\"type\\\": \\\"Point\\\", \\\"coordinates\\\": [1.083623086183966, 51.282392]}}, {\\\"id\\\": \\\"141\\\", \\\"type\\\": \\\"Feature\\\", \\\"properties\\\": {\\\"Country\\\": \\\"Tonga\\\", \\\"Type\\\": 16, \\\"fatal_injury\\\": 3, \\\"fatal_perc\\\": 18.75, \\\"lat\\\": -19.9160819, \\\"long\\\": -175.202642}, \\\"geometry\\\": {\\\"type\\\": \\\"Point\\\", \\\"coordinates\\\": [-175.202642, -19.9160819]}}, {\\\"id\\\": \\\"142\\\", \\\"type\\\": \\\"Feature\\\", \\\"properties\\\": {\\\"Country\\\": \\\"Trinidad and Tobago\\\", \\\"Type\\\": 4, \\\"fatal_injury\\\": 1, \\\"fatal_perc\\\": 25.0, \\\"lat\\\": 10.8677845, \\\"long\\\": -60.9821067}, \\\"geometry\\\": {\\\"type\\\": \\\"Point\\\", \\\"coordinates\\\": [-60.9821067, 10.8677845]}}, {\\\"id\\\": \\\"143\\\", \\\"type\\\": \\\"Feature\\\", \\\"properties\\\": {\\\"Country\\\": \\\"Tunisia\\\", \\\"Type\\\": 2, \\\"fatal_injury\\\": 0, \\\"fatal_perc\\\": 0.0, \\\"lat\\\": 33.8439408, \\\"long\\\": 9.400138}, \\\"geometry\\\": {\\\"type\\\": \\\"Point\\\", \\\"coordinates\\\": [9.400138, 33.8439408]}}, {\\\"id\\\": \\\"144\\\", \\\"type\\\": \\\"Feature\\\", \\\"properties\\\": {\\\"Country\\\": \\\"Turkey\\\", \\\"Type\\\": 10, \\\"fatal_injury\\\": 2, \\\"fatal_perc\\\": 20.0, \\\"lat\\\": 38.959759399999996, \\\"long\\\": 34.9249653}, \\\"geometry\\\": {\\\"type\\\": \\\"Point\\\", \\\"coordinates\\\": [34.9249653, 38.959759399999996]}}, {\\\"id\\\": \\\"145\\\", \\\"type\\\": \\\"Feature\\\", \\\"properties\\\": {\\\"Country\\\": \\\"Turks and Caicos\\\", \\\"Type\\\": 5, \\\"fatal_injury\\\": 1, \\\"fatal_perc\\\": 20.0, \\\"lat\\\": 21.7214683, \\\"long\\\": -71.62017829999999}, \\\"geometry\\\": {\\\"type\\\": \\\"Point\\\", \\\"coordinates\\\": [-71.62017829999999, 21.7214683]}}, {\\\"id\\\": \\\"146\\\", \\\"type\\\": \\\"Feature\\\", \\\"properties\\\": {\\\"Country\\\": \\\"USA\\\", \\\"Type\\\": 1931, \\\"fatal_injury\\\": 114, \\\"fatal_perc\\\": 5.9, \\\"lat\\\": 39.7837304, \\\"long\\\": -100.445882}, \\\"geometry\\\": {\\\"type\\\": \\\"Point\\\", \\\"coordinates\\\": [-100.445882, 39.7837304]}}, {\\\"id\\\": \\\"147\\\", \\\"type\\\": \\\"Feature\\\", \\\"properties\\\": {\\\"Country\\\": \\\"United Arab Emirates\\\", \\\"Type\\\": 4, \\\"fatal_injury\\\": 0, \\\"fatal_perc\\\": 0.0, \\\"lat\\\": 24.0002488, \\\"long\\\": 53.999482900000004}, \\\"geometry\\\": {\\\"type\\\": \\\"Point\\\", \\\"coordinates\\\": [53.999482900000004, 24.0002488]}}, {\\\"id\\\": \\\"148\\\", \\\"type\\\": \\\"Feature\\\", \\\"properties\\\": {\\\"Country\\\": \\\"United Kingdom\\\", \\\"Type\\\": 34, \\\"fatal_injury\\\": 5, \\\"fatal_perc\\\": 14.71, \\\"lat\\\": 54.702354500000006, \\\"long\\\": -3.2765752999999997}, \\\"geometry\\\": {\\\"type\\\": \\\"Point\\\", \\\"coordinates\\\": [-3.2765752999999997, 54.702354500000006]}}, {\\\"id\\\": \\\"149\\\", \\\"type\\\": \\\"Feature\\\", \\\"properties\\\": {\\\"Country\\\": \\\"Unknown\\\", \\\"Type\\\": 39, \\\"fatal_injury\\\": 18, \\\"fatal_perc\\\": 46.15, \\\"lat\\\": 25.029422, \\\"long\\\": -77.36195598496681}, \\\"geometry\\\": {\\\"type\\\": \\\"Point\\\", \\\"coordinates\\\": [-77.36195598496681, 25.029422]}}, {\\\"id\\\": \\\"150\\\", \\\"type\\\": \\\"Feature\\\", \\\"properties\\\": {\\\"Country\\\": \\\"Uruguay\\\", \\\"Type\\\": 3, \\\"fatal_injury\\\": 1, \\\"fatal_perc\\\": 33.33, \\\"lat\\\": -32.8755548, \\\"long\\\": -56.0201525}, \\\"geometry\\\": {\\\"type\\\": \\\"Point\\\", \\\"coordinates\\\": [-56.0201525, -32.8755548]}}, {\\\"id\\\": \\\"151\\\", \\\"type\\\": \\\"Feature\\\", \\\"properties\\\": {\\\"Country\\\": \\\"Vanuatu\\\", \\\"Type\\\": 14, \\\"fatal_injury\\\": 9, \\\"fatal_perc\\\": 64.29, \\\"lat\\\": -16.525506900000003, \\\"long\\\": 168.10691540000002}, \\\"geometry\\\": {\\\"type\\\": \\\"Point\\\", \\\"coordinates\\\": [168.10691540000002, -16.525506900000003]}}, {\\\"id\\\": \\\"152\\\", \\\"type\\\": \\\"Feature\\\", \\\"properties\\\": {\\\"Country\\\": \\\"Venezuela\\\", \\\"Type\\\": 11, \\\"fatal_injury\\\": 5, \\\"fatal_perc\\\": 45.45, \\\"lat\\\": 8.0018709, \\\"long\\\": -66.1109318}, \\\"geometry\\\": {\\\"type\\\": \\\"Point\\\", \\\"coordinates\\\": [-66.1109318, 8.0018709]}}, {\\\"id\\\": \\\"153\\\", \\\"type\\\": \\\"Feature\\\", \\\"properties\\\": {\\\"Country\\\": \\\"Vietnam\\\", \\\"Type\\\": 13, \\\"fatal_injury\\\": 1, \\\"fatal_perc\\\": 7.69, \\\"lat\\\": 13.2904027, \\\"long\\\": 108.42651129999999}, \\\"geometry\\\": {\\\"type\\\": \\\"Point\\\", \\\"coordinates\\\": [108.42651129999999, 13.2904027]}}, {\\\"id\\\": \\\"154\\\", \\\"type\\\": \\\"Feature\\\", \\\"properties\\\": {\\\"Country\\\": \\\"West Indies\\\", \\\"Type\\\": 1, \\\"fatal_injury\\\": 1, \\\"fatal_perc\\\": 100.0, \\\"lat\\\": 50.83635905, \\\"long\\\": 0.4617890796915142}, \\\"geometry\\\": {\\\"type\\\": \\\"Point\\\", \\\"coordinates\\\": [0.4617890796915142, 50.83635905]}}, {\\\"id\\\": \\\"155\\\", \\\"type\\\": \\\"Feature\\\", \\\"properties\\\": {\\\"Country\\\": \\\"Yemen\\\", \\\"Type\\\": 2, \\\"fatal_injury\\\": 2, \\\"fatal_perc\\\": 100.0, \\\"lat\\\": 16.3471243, \\\"long\\\": 47.8915271}, \\\"geometry\\\": {\\\"type\\\": \\\"Point\\\", \\\"coordinates\\\": [47.8915271, 16.3471243]}}]}\",\"selected\":{\"id\":\"1549\"},\"selection_policy\":{\"id\":\"1548\"}},\"id\":\"1485\",\"type\":\"GeoJSONDataSource\"},{\"attributes\":{},\"id\":\"1738\",\"type\":\"BasicTickFormatter\"},{\"attributes\":{},\"id\":\"1739\",\"type\":\"AllLabels\"},{\"attributes\":{},\"id\":\"1695\",\"type\":\"DataRange1d\"},{\"attributes\":{\"bottom_units\":\"screen\",\"coordinates\":null,\"fill_alpha\":0.5,\"fill_color\":\"lightgrey\",\"group\":null,\"left_units\":\"screen\",\"level\":\"overlay\",\"line_alpha\":1.0,\"line_color\":\"black\",\"line_dash\":[4,4],\"line_width\":2,\"right_units\":\"screen\",\"syncable\":false,\"top_units\":\"screen\"},\"id\":\"1717\",\"type\":\"BoxAnnotation\"},{\"attributes\":{\"fill_alpha\":{\"value\":0.1},\"fill_color\":{\"value\":\"#1f77b4\"},\"hatch_alpha\":{\"value\":0.1},\"line_alpha\":{\"value\":0.1},\"line_width\":{\"value\":0.25},\"xs\":{\"field\":\"xs\"},\"ys\":{\"field\":\"ys\"}},\"id\":\"1800\",\"type\":\"Patches\"},{\"attributes\":{\"coordinates\":null,\"data_source\":{\"id\":\"1485\"},\"glyph\":{\"id\":\"1799\"},\"group\":null,\"hover_glyph\":null,\"muted_glyph\":{\"id\":\"1801\"},\"nonselection_glyph\":{\"id\":\"1800\"},\"view\":{\"id\":\"1803\"}},\"id\":\"1802\",\"type\":\"GlyphRenderer\"},{\"attributes\":{},\"id\":\"1715\",\"type\":\"ResetTool\"},{\"attributes\":{},\"id\":\"1714\",\"type\":\"SaveTool\"},{\"attributes\":{\"overlay\":{\"id\":\"1717\"}},\"id\":\"1713\",\"type\":\"BoxZoomTool\"},{\"attributes\":{},\"id\":\"1711\",\"type\":\"PanTool\"},{\"attributes\":{},\"id\":\"1712\",\"type\":\"WheelZoomTool\"},{\"attributes\":{\"fill_color\":{\"field\":\"Type\",\"transform\":{\"id\":\"1486\"}},\"line_width\":{\"value\":0.25},\"xs\":{\"field\":\"xs\"},\"ys\":{\"field\":\"ys\"}},\"id\":\"1726\",\"type\":\"Patches\"},{\"attributes\":{},\"id\":\"1697\",\"type\":\"DataRange1d\"},{\"attributes\":{\"coordinates\":null,\"formatter\":{\"id\":\"1738\"},\"group\":null,\"major_label_policy\":{\"id\":\"1739\"},\"ticker\":{\"id\":\"1704\"}},\"id\":\"1703\",\"type\":\"LinearAxis\"},{\"attributes\":{},\"id\":\"1699\",\"type\":\"LinearScale\"},{\"attributes\":{\"high\":2000,\"low\":0,\"palette\":[\"#ffffd9\",\"#edf8b1\",\"#c7e9b4\",\"#7fcdbb\",\"#41b6c4\",\"#1d91c0\",\"#225ea8\",\"#0c2c84\"]},\"id\":\"1486\",\"type\":\"LinearColorMapper\"},{\"attributes\":{\"coordinates\":null,\"group\":null},\"id\":\"1732\",\"type\":\"Title\"},{\"attributes\":{\"axis\":{\"id\":\"1703\"},\"coordinates\":null,\"grid_line_color\":null,\"group\":null,\"ticker\":null},\"id\":\"1706\",\"type\":\"Grid\"},{\"attributes\":{\"axis\":{\"id\":\"1707\"},\"coordinates\":null,\"dimension\":1,\"grid_line_color\":null,\"group\":null,\"ticker\":null},\"id\":\"1710\",\"type\":\"Grid\"},{\"attributes\":{},\"id\":\"1708\",\"type\":\"BasicTicker\"},{\"attributes\":{\"coordinates\":null,\"formatter\":{\"id\":\"1735\"},\"group\":null,\"major_label_policy\":{\"id\":\"1736\"},\"ticker\":{\"id\":\"1708\"}},\"id\":\"1707\",\"type\":\"LinearAxis\"},{\"attributes\":{\"fill_alpha\":{\"value\":0.2},\"fill_color\":{\"value\":\"#1f77b4\"},\"hatch_alpha\":{\"value\":0.2},\"line_alpha\":{\"value\":0.2},\"line_width\":{\"value\":0.25},\"xs\":{\"field\":\"xs\"},\"ys\":{\"field\":\"ys\"}},\"id\":\"1801\",\"type\":\"Patches\"}],\"root_ids\":[\"1694\"]},\"title\":\"Bokeh Application\",\"version\":\"2.4.1\"}};\n",
       "  const render_items = [{\"docid\":\"b55c65bb-5ef5-4f9f-b7c3-ea020c534b85\",\"root_ids\":[\"1694\"],\"roots\":{\"1694\":\"a2015936-35cc-4e63-acf0-286cb3493eb7\"}}];\n",
       "  root.Bokeh.embed.embed_items_notebook(docs_json, render_items);\n",
       "\n",
       "  }\n",
       "  if (root.Bokeh !== undefined) {\n",
       "    embed_document(root);\n",
       "  } else {\n",
       "    let attempts = 0;\n",
       "    const timer = setInterval(function(root) {\n",
       "      if (root.Bokeh !== undefined) {\n",
       "        clearInterval(timer);\n",
       "        embed_document(root);\n",
       "      } else {\n",
       "        attempts++;\n",
       "        if (attempts > 100) {\n",
       "          clearInterval(timer);\n",
       "          console.log(\"Bokeh: ERROR: Unable to run BokehJS code because BokehJS library is missing\");\n",
       "        }\n",
       "      }\n",
       "    }, 10, root)\n",
       "  }\n",
       "})(window);"
      ],
      "application/vnd.bokehjs_exec.v0+json": ""
     },
     "metadata": {
      "application/vnd.bokehjs_exec.v0+json": {
       "id": "1694"
      }
     },
     "output_type": "display_data"
    }
   ],
   "source": [
    "p.patches('xs','ys', source = geosource,\n",
    "          line_color = 'black', line_width = 0.25, fill_alpha = 1)\n",
    "output_notebook()\n",
    "show(p)"
   ]
  }
 ],
 "metadata": {
  "kernelspec": {
   "display_name": "Python 3",
   "language": "python",
   "name": "python3"
  },
  "language_info": {
   "codemirror_mode": {
    "name": "ipython",
    "version": 3
   },
   "file_extension": ".py",
   "mimetype": "text/x-python",
   "name": "python",
   "nbconvert_exporter": "python",
   "pygments_lexer": "ipython3",
   "version": "3.9.1"
  }
 },
 "nbformat": 4,
 "nbformat_minor": 4
}
